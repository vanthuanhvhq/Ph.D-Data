{
  "cells": [
    {
      "cell_type": "markdown",
      "metadata": {
        "id": "uvJRbyp9Pypn"
      },
      "source": [
        "# Optimization of Fuzzy Logic Controller Used for a Differential Drive Wheeled Mobile Robot"
      ]
    },
    {
      "cell_type": "markdown",
      "metadata": {
        "id": "VFqTkdK0zP-3"
      },
      "source": [
        "This notebook contains a set of experiments with fuzzy logic controller optimization. The fuzzy logic controller is designed for robot control."
      ]
    },
    {
      "cell_type": "code",
      "execution_count": null,
      "metadata": {
        "id": "apCUNZ3qA7_x"
      },
      "outputs": [],
      "source": [
        "_runDemos = True # this is queried in this document later multiple times"
      ]
    },
    {
      "cell_type": "markdown",
      "metadata": {
        "id": "98kHeWojVeXU"
      },
      "source": [
        "## Cluster Query"
      ]
    },
    {
      "cell_type": "markdown",
      "metadata": {
        "id": "xNNfnobNWKVH"
      },
      "source": [
        "This task could use for its solution a computer cluster. As it is optional, use it only when you are running it. In this case you must set the option ```useCluster``` to ```True``` and set proper value in ```url``` variable."
      ]
    },
    {
      "cell_type": "code",
      "execution_count": null,
      "metadata": {
        "id": "PuzSUxD3VlbQ"
      },
      "outputs": [],
      "source": [
        "useCluster = False\n",
        "url = 'http://192.168.1.100:4000/api/evaluator/FFFF'"
      ]
    },
    {
      "cell_type": "code",
      "execution_count": null,
      "metadata": {
        "id": "kTMVB9z0n1Tn"
      },
      "outputs": [],
      "source": [
        "Waypoint = True\n",
        "Number8 = False\n",
        "Circle = False"
      ]
    },
    {
      "cell_type": "markdown",
      "metadata": {
        "id": "NKH_8OedzP-6"
      },
      "source": [
        "## Inevitable Imports"
      ]
    },
    {
      "cell_type": "markdown",
      "metadata": {
        "id": "MsF9sv2tzP-6"
      },
      "source": [
        "Fuzzy operations are computed with use of [scikit-fuzzy library](https://github.com/scikit-fuzzy/scikit-fuzzy)."
      ]
    },
    {
      "cell_type": "code",
      "execution_count": null,
      "metadata": {
        "id": "mASMUWRdPdPe"
      },
      "outputs": [],
      "source": [
        "!pip install scikit-fuzzy"
      ]
    },
    {
      "cell_type": "code",
      "execution_count": null,
      "metadata": {
        "id": "pIacmIg4P74F"
      },
      "outputs": [],
      "source": [
        "import numpy as np\n",
        "import math\n",
        "import random\n",
        "from math import *\n",
        "import scipy.integrate as integrate\n",
        "import matplotlib.pyplot as plt\n",
        "import pandas as pd\n",
        "import skfuzzy as fuzz"
      ]
    },
    {
      "cell_type": "code",
      "execution_count": null,
      "metadata": {
        "id": "84jg6KqczP-7"
      },
      "outputs": [],
      "source": [
        "%matplotlib inline"
      ]
    },
    {
      "cell_type": "markdown",
      "metadata": {
        "id": "orZ9dmbLI8XT"
      },
      "source": [
        "With this %matplotlib inline, the output of plotting commands is displayed inline within frontends like the Jupyter notebook, directly below the code cell that produced it. The resulting plots will then also be stored in the notebook document."
      ]
    },
    {
      "cell_type": "markdown",
      "metadata": {
        "id": "JIjdIInIQAom"
      },
      "source": [
        "## Robot parameters"
      ]
    },
    {
      "cell_type": "code",
      "execution_count": null,
      "metadata": {
        "id": "_XbYHJqSQC0G"
      },
      "outputs": [],
      "source": [
        "robotState0 = {\n",
        "    'x': 0,\n",
        "    'y': 0,\n",
        "    'theta': 0\n",
        "}\n",
        "\n",
        "robotParams = {\n",
        "    'r': 0.0425,    #meter\n",
        "    'b': 0.2,       #meter\n",
        "    'm': 1.733,     #Kg\n",
        "    'I': 0.08,  #Kg.m2\n",
        "}"
      ]
    },
    {
      "cell_type": "markdown",
      "metadata": {
        "id": "cohw6gngQsed"
      },
      "source": [
        "## Robot models"
      ]
    },
    {
      "cell_type": "markdown",
      "metadata": {
        "id": "2yRYd1GMQfiV"
      },
      "source": [
        "### Kinematic model"
      ]
    },
    {
      "cell_type": "code",
      "execution_count": null,
      "metadata": {
        "id": "HBiby1TwQhSW"
      },
      "outputs": [],
      "source": [
        "from math import sin, cos\n",
        "def createRobot(params):\n",
        "    m = params['m']\n",
        "    I = params['I']\n",
        "\n",
        "    def robot(t, currentState, controller):\n",
        "        # ask controller for velocity and omega\n",
        "        velocity, omega = controller(t, currentState)\n",
        "\n",
        "        currentTheta = currentState[2]\n",
        "        cosTheta = cos(currentTheta)\n",
        "        sinTheta = sin(currentTheta)\n",
        "\n",
        "        x_dot = velocity * cosTheta\n",
        "        y_dot = velocity * sinTheta\n",
        "        theta_dot = omega\n",
        "\n",
        "        E = 0.5 * (m * velocity * velocity + I * omega * omega)\n",
        "\n",
        "        return [x_dot, y_dot, theta_dot, velocity, omega, E] # velocity, omega, E are returned for easy evaluation they are not needed for computation\n",
        "    return robot\n",
        "\n",
        "robot = createRobot(robotParams)"
      ]
    },
    {
      "cell_type": "markdown",
      "metadata": {
        "id": "LcttHseUQnsV"
      },
      "source": [
        "### Dynamic Model"
      ]
    },
    {
      "cell_type": "markdown",
      "metadata": {
        "id": "RTSVOZrXVGur"
      },
      "source": [
        "The dynamic model extends the kinematic model with differential equations describing the motors."
      ]
    },
    {
      "cell_type": "code",
      "execution_count": null,
      "metadata": {
        "id": "hTApKdxhQxCd"
      },
      "outputs": [],
      "source": [
        "# example of motor parameters,\n",
        "motorParams = {\n",
        "    'J': 0.037,       #Kg.m2/s2\n",
        "    'B': 0.004,        #Nms\n",
        "    \n",
        "    'Kt': 0.16,    #Nm/A\n",
        "    'Ke': 0.9965,    #Nm/A\n",
        "        \n",
        "    'Ra': 0.37,    #Ohm\n",
        "    'La': 0.1   #H\n",
        "}\n",
        "\n",
        "#//////////////////////////////////////////////////////////////////////////////\n",
        "def createFilter2ndOrder(b1, b0, a1, a0):\n",
        "    def filter2ndOrder(t, u, currentState):\n",
        "        x0 = currentState[0]\n",
        "        x1 = currentState[1]\n",
        "        dx0 = b0 * u + a0 * x0 + x1\n",
        "        dx1 = b1 * u + a1 * x0\n",
        "        return [dx0, dx1]\n",
        "    return filter2ndOrder\n",
        "\n",
        "def createMotorModel(motorParams=None):\n",
        "    if motorParams is None:\n",
        "        return None\n",
        "    \n",
        "    Kt = motorParams['Kt']\n",
        "    Ke = motorParams['Ke']\n",
        "    J = motorParams['J']\n",
        "    La = motorParams['La']\n",
        "    Ra = motorParams['Ra']\n",
        "    B = motorParams['B']\n",
        "    # Motor+Chassis Dynamics equivalent to F(s)=(0.7607s+17.62)/(s2+9.568s+12.07)\n",
        "    b1 = 9396 #Kt / (La * J)\n",
        "    b0 = 0\n",
        "    a1 = -9449 #-(Ra * B + Kt * Ke) / (La * J)\n",
        "    a0 = -689.6 #-(Ra * J + La ) / (La * J)\n",
        "    return createFilter2ndOrder(b1, b0, a1, a0)\n",
        "    \n",
        "\n",
        "def createRobotModelWithDynamic(params, motorModel = None):\n",
        "    \"\"\"\n",
        "    function returns standard ODE model usable in many libraries (scipy)\n",
        "    \"\"\"\n",
        "    m = params['m']\n",
        "    I = params['I']\n",
        "    b = params['b']\n",
        "\n",
        "    motorAsFilter = motorModel\n",
        "    def robotWithDynamic(t, currentState, controller):\n",
        "        # ask controller for velocity and omega\n",
        "        velocity, omega = controller(t, currentState)\n",
        "\n",
        "        delta = omega * b / 2\n",
        "        vL = velocity - delta\n",
        "        vR = velocity + delta\n",
        "        vLState = currentState[6:8]\n",
        "        vRState = currentState[8:10]\n",
        "        vLStateD = motorAsFilter(t, vL, vLState)\n",
        "        vRStateD = motorAsFilter(t, vR, vRState)\n",
        "        vLFiltered = vLState[0]\n",
        "        vRFiltered = vRState[0]\n",
        "\n",
        "        velocity = (vRFiltered + vLFiltered) / 2\n",
        "        delta = (vRFiltered - vLFiltered) / 2\n",
        "        omega = 2 * delta / b\n",
        "\n",
        "        currentTheta = currentState[2]\n",
        "        cosTheta = cos(currentTheta)\n",
        "        sinTheta = sin(currentTheta)\n",
        "\n",
        "        x_dot = velocity * cosTheta\n",
        "        y_dot = velocity * sinTheta\n",
        "        theta_dot = omega\n",
        "\n",
        "        E = 0.5*(m*(velocity)*(velocity) + I*(omega)*(omega))\n",
        "\n",
        "        return [x_dot, y_dot, theta_dot, velocity, omega, E, *vLStateD, *vRStateD] #velocity, omega, E are returned for easy evaluation they are not needed for computation\n",
        "\n",
        "    def robot(t, currentState, controller):\n",
        "        \"\"\"\n",
        "        This closure is result of parent function\n",
        "        \"\"\"\n",
        "        # ask controller for velocity and omega\n",
        "        velocity, omega = controller(t, currentState)\n",
        "\n",
        "        currentTheta = currentState[2]\n",
        "        cosTheta = cos(currentTheta)\n",
        "        sinTheta = sin(currentTheta)\n",
        "\n",
        "        x_dot = velocity * cosTheta\n",
        "        y_dot = velocity * sinTheta\n",
        "        theta_dot = omega\n",
        "\n",
        "        E = 0.5 * (m * velocity * velocity + I * omega * omega)\n",
        "\n",
        "        return [x_dot, y_dot, theta_dot, velocity, omega, E] #velocity, omega, E are returned for easy evaluation they are not needed for computation\n",
        "\n",
        "    if motorModel is None:\n",
        "        return robot\n",
        "    else:\n",
        "        return robotWithDynamic\n",
        "    pass\n",
        "  \n",
        "motorModel = createMotorModel(motorParams)    \n",
        "robotWithDynamic = createRobotModelWithDynamic(robotParams, motorModel)\n",
        "robot = robotWithDynamic # If you delete / comment this line, only the Kinematic model is taken into account."
      ]
    },
    {
      "cell_type": "markdown",
      "metadata": {
        "id": "qeDuH06YQ72V"
      },
      "source": [
        "## Solver"
      ]
    },
    {
      "cell_type": "markdown",
      "metadata": {
        "id": "oFe3wpX0zP--"
      },
      "source": [
        "### Selectors"
      ]
    },
    {
      "cell_type": "markdown",
      "metadata": {
        "id": "uhizOZjEzP--"
      },
      "source": [
        "Selectors are named functions which have been designed for selecting appropriate part of simulation results. They can simplify a data capture or a data analysis in or after simulation."
      ]
    },
    {
      "cell_type": "code",
      "execution_count": null,
      "metadata": {
        "id": "zS1KbpA1Q9Iz"
      },
      "outputs": [],
      "source": [
        "# selectors are defined for extration of data from results computed by ODE solver\n",
        "selectx = lambda item: item['y'][0]       # x position\n",
        "selecty = lambda item: item['y'][1]       # y position\n",
        "selectt = lambda item: item['time']       # time\n",
        "selectv = lambda item: item['dy'][3]      # velocity\n",
        "selectomega = lambda item: item['dy'][2]  # omega = theta_dot\n",
        "selecte = lambda item: item['TotalEnergy']# total energy\n",
        "selects = lambda item: item['y'][3]       # displacement\n",
        "selectors = {\n",
        "    'time': selectt,\n",
        "    'x': selectx, \n",
        "    'y': selecty, \n",
        "    'd': selects, \n",
        "    'v': selectv, \n",
        "    'omega': selectomega,\n",
        "    'E': selecte}"
      ]
    },
    {
      "cell_type": "markdown",
      "metadata": {
        "id": "Syn81S3gzP--"
      },
      "source": [
        "### Solver Function"
      ]
    },
    {
      "cell_type": "markdown",
      "metadata": {
        "id": "RmiTfJzhzP-_"
      },
      "source": [
        "The next function is designed as a generator and thus it performs one simulation step and returns a single simulation state when it is asked. Such design allows to have infinite loop inside this function. Theory about generators could be studied [here](https://wiki.python.org/moin/Generators)."
      ]
    },
    {
      "cell_type": "code",
      "execution_count": null,
      "metadata": {
        "id": "xG-PkZjPzP-_"
      },
      "outputs": [],
      "source": [
        "def compute(model, state0, t0 = 0.0, t_bound = 10, max_step = 0.01):\n",
        "    \"\"\"\n",
        "    This function returns a generator containing the sequence of resuls. \n",
        "    In this particular case it will return a sequence of robot states.\n",
        "    \"\"\"\n",
        "    solver = integrate.RK45(fun = model, t0 = t0, y0 = state0, t_bound = t_bound, max_step = max_step)\n",
        "    cnt = 0\n",
        "    lastEnergy = 0\n",
        "    totalEnergy = 0\n",
        "\n",
        "    while True:\n",
        "        message = solver.step()\n",
        "        currentItem = {'time': solver.t, 'y': solver.y, 'dy': model(solver.t, solver.y)}\n",
        "        \n",
        "        ###################################################\n",
        "        # Energy calculation / energy sumation\n",
        "        currentEnergy = currentItem['dy'][5] \n",
        "        deltaEnergy = currentEnergy - lastEnergy\n",
        "\n",
        "        if deltaEnergy > 0:\n",
        "            totalEnergy = totalEnergy + deltaEnergy\n",
        "        lastEnergy = currentEnergy\n",
        "        currentItem['TotalEnergy'] = totalEnergy\n",
        "        ###################################################\n",
        "\n",
        "        yield currentItem\n",
        "        if (not(solver.status == 'running')):\n",
        "            break\n",
        "    return"
      ]
    },
    {
      "cell_type": "markdown",
      "metadata": {
        "id": "gflyq5JpRDFz"
      },
      "source": [
        "## Path Controller"
      ]
    },
    {
      "cell_type": "markdown",
      "metadata": {
        "id": "KOPFQ_KXWjsO"
      },
      "source": [
        "Path Controller transforms a controller navigating robot towards a fixed distance to the controller able switch the destination immediately after reaching point defined by a given path."
      ]
    },
    {
      "cell_type": "code",
      "execution_count": null,
      "metadata": {
        "id": "F5UAQCG2RGED"
      },
      "outputs": [],
      "source": [
        "\n",
        "def controllerForPath(controller, path, distanceEps = 0.01): \n",
        "    destinationX, destinationY, destinationOrietation = next(path)\n",
        "    destinationState = [destinationX, destinationY, destinationOrietation]\n",
        "    lastReached = False\n",
        "    #print('Destination set to', destinationState)\n",
        "    def result(t, currentState):\n",
        "        \"\"\"\n",
        "        This closure is result of parent function and acts as a controller - mediator,\n",
        "        which commands the given controller.\n",
        "        \"\"\"\n",
        "        nonlocal destinationX # use parent variable\n",
        "        nonlocal destinationY # use parent variable\n",
        "        nonlocal destinationState # use parent variable\n",
        "        nonlocal lastReached # use parent variable\n",
        "\n",
        "        currentX = currentState[0]\n",
        "        currentY = currentState[1]\n",
        "        deltaX = destinationX - currentX\n",
        "        deltaY = destinationY - currentY\n",
        "        if (lastReached == False):\n",
        "          # last point in path was not reached\n",
        "          if (deltaX * deltaX + deltaY * deltaY < distanceEps):\n",
        "            # robot is close enought to currentDestination\n",
        "            try:\n",
        "                # try to get another point on path\n",
        "                destinationX, destinationY, destinationOrietation = next(path)\n",
        "                destinationState = [destinationX, destinationY, destinationOrietation]\n",
        "                #print('Destination set to', destinationState, 'while in state', currentState)\n",
        "            except StopIteration:\n",
        "              # there are no other points\n",
        "              lastReached = True\n",
        "        if (lastReached):\n",
        "            return (0, 0)\n",
        "        else:\n",
        "            return controller(t, currentState, destinationState)\n",
        "    return result\n"
      ]
    },
    {
      "cell_type": "markdown",
      "metadata": {
        "id": "u54IFUmmRa4t"
      },
      "source": [
        "## Model Creator"
      ]
    },
    {
      "cell_type": "markdown",
      "metadata": {
        "id": "TLcXw1FGXUjG"
      },
      "source": [
        "Model creator is function which packs all subsystems into one described by standard ODE function. Standard methods for ODE problems could be applied on such result / function. Standard use are granted by the signature\n",
        "```python\n",
        "def func(time, state)\n",
        "```\n",
        "Such signature has a function returned by ```robotModelCreator```."
      ]
    },
    {
      "cell_type": "code",
      "execution_count": null,
      "metadata": {
        "id": "9u5kFlvsscte"
      },
      "outputs": [],
      "source": [
        "def robotModelCreator(controllerCreator, path, **kwargs):\n",
        "    controller_ = controllerCreator(**kwargs)\n",
        "    savedController = controllerForPath(controller_, path)\n",
        "    def resultRMC(t, currentState):\n",
        "        return robot(t, currentState, savedController)\n",
        "    return resultRMC"
      ]
    },
    {
      "cell_type": "markdown",
      "metadata": {
        "id": "ynlf_rVJ0GSN"
      },
      "source": [
        "## Computation"
      ]
    },
    {
      "cell_type": "markdown",
      "metadata": {
        "id": "1lnJrDYEXxzL"
      },
      "source": [
        "Simple compute allows to fully define parameters at first and then use it on model. Such approach is usefull in case when different models (controllers) are used for same task. In this case this function simplify comparison of different controllers."
      ]
    },
    {
      "cell_type": "code",
      "execution_count": null,
      "metadata": {
        "id": "LMkk08sURfBd"
      },
      "outputs": [],
      "source": [
        "def simpleCompute(computefunc, state0, t0 = 0, t_bound = 200, max_step = 0.01):\n",
        "    def resultSC(model):\n",
        "        return computefunc(\n",
        "          model, state0 = state0, t0 = t0, t_bound = t_bound, max_step = max_step)\n",
        "    return resultSC"
      ]
    },
    {
      "cell_type": "markdown",
      "metadata": {
        "id": "zza31ciKii6l"
      },
      "source": [
        "## Controllers"
      ]
    },
    {
      "cell_type": "markdown",
      "metadata": {
        "id": "nI8SHWQxWeed"
      },
      "source": [
        "All controllers have to have same signature (parameter list)\n",
        "\n",
        "```python\n",
        "def controller(t, currentState, destinationState)\n",
        "```\n",
        "\n",
        "thus a creator taking special controller parameters must be defined. Such a creator should accept all special parameters and return controller with standard signature."
      ]
    },
    {
      "cell_type": "markdown",
      "metadata": {
        "id": "861HkupvimCa"
      },
      "source": [
        "### Circle Controller"
      ]
    },
    {
      "cell_type": "markdown",
      "metadata": {
        "id": "oKXU_z9czP_D"
      },
      "source": [
        "The Circle-based controller has been introduced and improved by Prof. Alexandr Štefek in [18] of this paper. (A. Stefek, V. Krivanek, Y. Bergeon, J. Motsch, “Differential Drive Robot: Spline-Based Design of Circular Path”. Awrejcewicz J. (eds) Dynamical Systems: Theoretical and Experimental Analysis. Springer Proceedings in Mathematics & Statistics, vol 182. Springer, Cham, 2016, pp 331-342.)\n",
        "\n",
        "A brief of this controller as below:\n",
        "\n",
        "$v=\\frac{v_r+v_l}{2}$\n",
        "\n",
        "$\\Delta=\\frac{v_r-v_l}{2}$\n",
        "\n",
        "$R=\\frac{v b}{2 \\Delta}$\n",
        "\n",
        "$\\omega=\\frac{2 \\Delta}{b}$\n",
        "\n",
        "$\\dot x=v \\cdot cos(\\theta)$\n",
        "\n",
        "$\\dot y=v \\cdot sin(\\theta)$\n",
        "\n",
        "$\\dot \\theta=\\omega$\n",
        "\n",
        "$\\omega=-2\\cdot k_1\\cdot v\\cdot \\frac{\\Delta X\\cdot sin(\\theta) - \\Delta Y\\cdot cos(\\theta)}{(\\Delta X)^2 + (\\Delta Y)^2}$\n",
        "\n",
        "Where:\n",
        "\n",
        " $k_1 > 0$ : is a coefficient of controller.\n",
        " For this simulation we use $v = v_{ri}$ is reference linear velocity of the robot"
      ]
    },
    {
      "cell_type": "code",
      "execution_count": null,
      "metadata": {
        "id": "VeoVrwZtA7_7"
      },
      "outputs": [],
      "source": [
        "def createCircleControllerWithGain(gain, omega_ri, vri, lowVelocityLimit, highVelocityLimit, lowOmegaLimit, highOmegaLimit):\n",
        "    def controller(t, currentState, destinationState):\n",
        "        currentX = currentState[0]\n",
        "        currentY = currentState[1]\n",
        "        currentTheta = currentState[2]\n",
        "\n",
        "        destinationX = destinationState[0]\n",
        "        destinationY = destinationState[1]\n",
        "\n",
        "        cosTheta = cos(currentTheta)\n",
        "        sinTheta = sin(currentTheta)\n",
        "\n",
        "        deltaX = destinationX - currentX\n",
        "        deltaY = destinationY - currentY\n",
        "\n",
        "        velocity = vri\n",
        "        omega = -2 * gain * vri * (deltaX * sinTheta - deltaY * cosTheta) / (deltaX * deltaX + deltaY * deltaY)\n",
        "    \n",
        "        if (velocity > highVelocityLimit):\n",
        "            velocity = highVelocityLimit\n",
        "        if (velocity < lowVelocityLimit):\n",
        "            velocity = lowVelocityLimit\n",
        "        if (omega > highOmegaLimit):\n",
        "            omega = highOmegaLimit\n",
        "        if (omega < lowOmegaLimit):\n",
        "            omega = lowOmegaLimit\n",
        "\n",
        "        return velocity, omega\n",
        "    return controller"
      ]
    },
    {
      "cell_type": "markdown",
      "metadata": {
        "id": "4YQkNzcHNia4"
      },
      "source": [
        "#### Full Example of Use"
      ]
    },
    {
      "cell_type": "markdown",
      "metadata": {
        "id": "IH2CCYQHzP_E"
      },
      "source": [
        "This part demonstrate the ide of code structure. There is the full run of simulation described by a set of functions."
      ]
    },
    {
      "cell_type": "code",
      "execution_count": null,
      "metadata": {
        "id": "lbuEfz_YNXco"
      },
      "outputs": [],
      "source": [
        "\n",
        "def localDemo():\n",
        "    pathForSimulation = iter([\n",
        "            [0, 0, 0],  #X, Y, orientation\n",
        "            [10, 0, 0], #X, Y, orientation\n",
        "            [10, 10, 0], #X, Y, orientation\n",
        "            [20, 10, 0], #X, Y, orientation\n",
        "            [20, 20, 0]\n",
        "        ])\n",
        "\n",
        "    robotState0 = {\n",
        "            'x': 0,\n",
        "            'y': 0,\n",
        "            'theta': -3.14 / 4\n",
        "        }\n",
        "\n",
        "    t0 = 0\n",
        "    t_bound = 100\n",
        "    max_step = 0.01\n",
        "\n",
        "    state0 = None\n",
        "    if robot == robotWithDynamic:\n",
        "        state0 = np.array([robotState0['x'], robotState0['y'], robotState0['theta'], 0, 0, 0, 0, 0, 0, 0]) # x0=0, y0=0, theta\n",
        "    else:\n",
        "        state0 = np.array([robotState0['x'], robotState0['y'], robotState0['theta'], 0, 0, 0]) # x0=0, y0=0,theta\n",
        "\n",
        "    solverfunc = simpleCompute(\n",
        "        compute, state0 = state0, \n",
        "        t0 = t0, t_bound = t_bound, max_step = max_step)    \n",
        "\n",
        "    controllerParams = {\n",
        "        'gain': 4, \n",
        "        'omega_ri': 0, \n",
        "        'vri': 2.0, \n",
        "        'lowVelocityLimit': 0, \n",
        "        'highVelocityLimit': 4.0, \n",
        "        'lowOmegaLimit': -3.14, \n",
        "        'highOmegaLimit': 3.14\n",
        "        }\n",
        "\n",
        "    fullRobot = robotModelCreator(createCircleControllerWithGain, pathForSimulation, **controllerParams)      \n",
        "    state1 = fullRobot(0, state0)\n",
        "    robotStates = solverfunc(fullRobot)\n",
        "\n",
        "    results = {}\n",
        "    for key, selector in selectors.items():\n",
        "        print(key)\n",
        "        results[key] = []\n",
        "\n",
        "    for currentState in robotStates: # readout all states from current moving robot\n",
        "        for key, selector in selectors.items():\n",
        "            results[key].append(selector(currentState))\n",
        "\n",
        "    plt.plot(results['x'], results['y'])\n",
        "\n",
        "if _runDemos:\n",
        "    localDemo()\n"
      ]
    },
    {
      "cell_type": "markdown",
      "metadata": {
        "id": "P7NQdsBwXaSN"
      },
      "source": [
        "### Robins"
      ]
    },
    {
      "cell_type": "markdown",
      "metadata": {
        "id": "r1XfIgg8zP_E"
      },
      "source": [
        "The Robins Mathew based controller has introduced by Robins Mathew in [28]. (R. Mathew and S. S. Hiremath, “Development of Waypoint Tracking Controller for Differential Drive Mobile Robot,” in International Conference on Control, Decision and Information Technologies (CoDIT), Paris, France, 2019, pp. 1121-1126.)\n",
        "\n",
        "A brief of the Robins Mathew Controller is as below:\n",
        "\n",
        "\n",
        "$$ \\begin{pmatrix}\n",
        "v_{ci} \\\\\n",
        "\\omega_{ci}  \n",
        "\\end{pmatrix} = \n",
        "\\begin{pmatrix}\n",
        "v_{ri}\\cdot cos\\theta_{ie}\\\\\n",
        "\\omega_{ri} + k_1\\cdot v_{ri}\\cdot T_{ie} + k_2\\cdot v_{ri}\\cdot sin\\theta_{ie} \n",
        "\\end{pmatrix} $$\n",
        "\n",
        "Where:\n",
        "\n",
        "$v_{ci}$ : is the linear velocity of robot\n",
        "\n",
        "$\\omega_{ci}$ : is the angular velocity of robot\n",
        "\n",
        "$v_{ri}$ : is the reference linear velocity of robot\n",
        "\n",
        "$\\omega_{ri}$ : is the reference angular velocity of robot\n",
        "\n",
        "$\\theta_{ie}$ = $\\theta_{wk} - \\theta_i$ : \n",
        "\n",
        "$\\tan\\theta_{ie} = \\frac{y_{wk}-y_i}{x_{wk}-x_i}$   \n",
        "\n",
        "$\\theta_i$ is the orientation of robot\n",
        "\n",
        "$k_1, k_2 > 0$ : are the control gains\n",
        "\n",
        "$T_{ie} = sin\\phi\\cdot(x_i - x_{wk}) - cos\\phi\\cdot(y_i - y_{wk})$ : is the cross-track error\n",
        "\n",
        "$\\tan\\phi = \\frac{y_{wk}-y_{wk-1}}{x_{wk}-x_{wk-1}}$ the $\\phi$ is defined as the angle made by the line\n",
        "connecting current waypoint with the previous waypoint\n",
        "\n",
        "$(x_i, y_i, \\theta_i)$ : is the current robot position\n",
        "\n",
        "$(x_{wk}, y_{wk}, \\theta_{wk})$ : is the waypoint posture"
      ]
    },
    {
      "cell_type": "code",
      "execution_count": null,
      "metadata": {
        "id": "YfaZ3nQ6Xha3"
      },
      "outputs": [],
      "source": [
        "def createController_By_RobinsMathew(k0, k1, omega_ri, vri, lowVelocityLimit, highVelocityLimit, lowOmegaLimit, highOmegaLimit):\n",
        "    def controller(t, currentState, destinationState):\n",
        "        currentX = currentState[0]\n",
        "        currentY = currentState[1]\n",
        "        currentTheta = currentState[2]\n",
        "\n",
        "        destinationX = destinationState[0]\n",
        "        destinationY = destinationState[1]\n",
        "\n",
        "        cosTheta = cos(currentTheta)\n",
        "        sinTheta = sin(currentTheta)\n",
        "    \n",
        "        deltaX = destinationX - currentX\n",
        "        deltaY = destinationY - currentY\n",
        "        theta_destination = atan2(deltaY, deltaX)\n",
        "        theta_error = theta_destination - currentTheta\n",
        "\n",
        "        Te = math.sin(theta_destination)*deltaX - math.cos(theta_destination)*deltaY\n",
        "    \n",
        "        velocity = vri*math.cos(theta_error)\n",
        "        omega = omega_ri + k0*vri*Te + k1*vri*math.sin(theta_error)\n",
        "\n",
        "        if velocity > highVelocityLimit:\n",
        "            velocity = highVelocityLimit\n",
        "        if (velocity < lowVelocityLimit):\n",
        "            velocity = lowVelocityLimit\n",
        "        if omega > highOmegaLimit:\n",
        "            omega = highOmegaLimit\n",
        "        if (omega < lowOmegaLimit):\n",
        "            omega = lowOmegaLimit\n",
        "      \n",
        "        return velocity, omega\n",
        "    return controller"
      ]
    },
    {
      "cell_type": "markdown",
      "metadata": {
        "id": "KiE-EEGFCmID"
      },
      "source": [
        "###  Chaudhari-based Controller\n",
        "\n",
        "Chaudhari et al. have used Dubins path to smooth the optimal path (A*)\n",
        "\n",
        "Dubins curve consists of several circular segments and straight segments. The shortest Dubins curve consists of three circular segments and straight segments. The primary forms are: (RSL, LSL, RSR, LSR, RLR, LRL). Where L, R represent the circular turning to the left and right respectively, S represent the tangent connecting two turning circulars [16].\n",
        "\n",
        "The Dubins Path-based controller is expressed as below:\n",
        "\n",
        "`minimal_radius = radius` is minimal rotation radius of the robot\n",
        "\n",
        "`angle_epsilon = 0.05` is small positive value of the angle \n",
        "\n",
        "$v_{ri}$ is linear reference velocity of the robot\n",
        "\n",
        "` angle_delta = currentTheta - angle_to_destination`\n",
        "\n",
        "- If `angle_delta < - angle_epsilon`, then controller is\n",
        "\n",
        "> $v = v_{ri}$; \n",
        "$\\omega = \\frac {v}{radius}$\n",
        "\n",
        "- If `angle_delta > + angle_epsilon`, then controller is\n",
        "\n",
        "> $v = v_{ri}$; \n",
        "$\\omega = \\frac {-v}{radius}$\n",
        "\n",
        "- If `angle_delta = angle_epsilon`, then controller is\n",
        "\n",
        "> $v = v_{ri}$; \n",
        "$\\omega = 0$"
      ]
    },
    {
      "cell_type": "code",
      "execution_count": null,
      "metadata": {
        "id": "KDn5bPl0CnUP"
      },
      "outputs": [],
      "source": [
        "def createChaudhariController(radius, omega_ri, vri, lowVelocityLimit, highVelocityLimit,lowOmegaLimit, highOmegaLimit):\n",
        "  minimal_radius = radius\n",
        "  angle_epsilon = 0.05 # radians\n",
        "  def controller(t, currentState, destinationState):\n",
        "    currentX = currentState[0]\n",
        "    currentY = currentState[1]\n",
        "    currentTheta = currentState[2]\n",
        "    \n",
        "    # hacky, because it could be outside interval <-PI, +PI> :(\n",
        "    while currentTheta < -2 * pi:\n",
        "      currentTheta = currentTheta + 2 * pi\n",
        "    while currentTheta > 2 * pi:\n",
        "      currentTheta = currentTheta - 2 * pi\n",
        "\n",
        "    destinationX = destinationState[0]\n",
        "    destinationY = destinationState[1]\n",
        "\n",
        "    deltaX = destinationX - currentX\n",
        "    deltaY = destinationY - currentY\n",
        "\n",
        "    angle_to_destination = atan2(deltaY, deltaX)\n",
        "\n",
        "    #https://stackoverflow.com/questions/1878907/the-smallest-difference-between-2-angles\n",
        "\n",
        "    angle_delta = currentTheta - angle_to_destination\n",
        "\n",
        "    if (angle_delta > pi):\n",
        "      angle_delta -= 2 * pi\n",
        "    if (angle_delta < -pi):\n",
        "      angle_delta += 2 * pi\n",
        "\n",
        "    if (angle_delta < - angle_epsilon):\n",
        "      # turn on minimal radius\n",
        "      velocity = vri\n",
        "      omega = velocity / minimal_radius\n",
        "    elif (angle_delta > + angle_epsilon):\n",
        "      # turn on minimal radius\n",
        "      velocity = vri\n",
        "      omega = -velocity / minimal_radius\n",
        "    else:\n",
        "      # go straight\n",
        "      velocity = vri\n",
        "      omega = 0\n",
        "\n",
        "    if velocity > highVelocityLimit:\n",
        "      velocity = highVelocityLimit\n",
        "    if (velocity < lowVelocityLimit):\n",
        "      velocity = lowVelocityLimit\n",
        "    if omega > highOmegaLimit:\n",
        "      omega = highOmegaLimit\n",
        "    if (omega < lowOmegaLimit):\n",
        "      omega = lowOmegaLimit\n",
        "\n",
        "    return velocity, omega\n",
        "  return controller"
      ]
    },
    {
      "cell_type": "markdown",
      "metadata": {
        "id": "Z_y4r-tii6ZJ"
      },
      "source": [
        "### Fuzzy Logic Controller"
      ]
    },
    {
      "cell_type": "markdown",
      "metadata": {
        "id": "MZiMYFyMzP_F"
      },
      "source": [
        "The Fuzzy Logic Controller (FLC) has been designed based on [2], [3], [4], [5] of this paper.\n",
        "\n",
        "A brief of the FLC is described below:\n",
        "\n",
        "A structure of a fuzzy logic controller is shown in figure below:\n",
        "\n",
        "![Picture1.png](data:image/png;base64,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)\n",
        "\n",
        "The FLC mainly contains three operations: the fuzzification, the inference, and the defuzzification.\n",
        "\n",
        "This controller has 02 inputs and 02 outputs. \n",
        "\n",
        "**The 02 INPUTS:** DISTANCE_ERROR AND THETA_ERROR\n",
        "\n",
        "- The \"DISTANCE_ERROR\" is the distance from the current position of the robot to the destination position of the destination. Its unit is meter (m), in this experiment I set it is in range $[0, 10]$.\n",
        "\n",
        "- The \"THETA_ERROR\" is the different angle between the current orientation of the robot with the line of sight angle from current possition of the robot to the destination. Its unit is radian (rad), and its value is in range $[-\\pi\\ , \\pi]$.\n",
        "\n",
        "**The 02 OUTPUTS:** omega_R and omega_L\n",
        "\n",
        "  + The omega_R is the angular velocity of the right wheel of the robot. Its unit is ($rads^{-1}$), in this experiment it is in range [0, 30]$rads^{-1}$.\n",
        "\n",
        "  + The omega_L is the angular velocity of the left wheel of the robot. Its unit is ($rads^{-1}$), in this experiment it is in range [0, 30]$rads^{-1}$.\n",
        "\n",
        "**FUZZIFICATION:** In this experiment the memberships have been presented as below:\n",
        " \n",
        "  + Membership functions for the DISTANCE_ERROR is Triangular. The parameters of the input DISTANCE_ERROR are in the table I below:\n",
        "\n",
        "  \\begin{array}\\hline\n",
        "    \\text{Table I:  DISTANCE_ERROR (m)}\n",
        "  \\end{array}\n",
        "   \\begin{array}{|c | c |c |c |}\\hline\n",
        "     \\text{Name} & \\text{Acronyms} & \\text{Values}\\\\\\hline\n",
        "     Very Close   & VC     & [0, 0, 2.5]    \\\\\\hline\n",
        "     Close        & C      & [0, 2.5, 5]    \\\\\\hline\n",
        "     Medium       & M      & [2.5, 5, 7.5]    \\\\\\hline\n",
        "     Far          & F      & [5, 7.5, 10]    \\\\\\hline\n",
        "     Very Far     & VF     & [7.5, 10, 10]    \\\\\\hline\n",
        "  \\end{array} \n",
        "\n",
        "   + Membership functions for the THETA_ERROR is Triangular. The parameters of the input THETA_ERROR are in the table Ii below:\n",
        "\n",
        "  \\begin{array}\\hline\\\n",
        "    \\text{Table iI:   THETA_ERROR (rad)}\n",
        "  \\end{array}\n",
        "  \\begin{array}{|c | c |c |c |}\\hline    \n",
        "     \\text{Name} & \\text{Acronyms} & \\text{Values}\\\\\\hline\n",
        "     Big Negative   & BN     & [-3.14, -3.14, -1.57]   \\\\\\hline\n",
        "     Negative       & N      & [-3.14, -1.57, 0]       \\\\\\hline\n",
        "     Zero           & Z      & [-1.57, 0, 1.57]        \\\\\\hline\n",
        "     Positive       & P      & [0, 1.57, 3.14]         \\\\\\hline\n",
        "     Big Positive   & BP     & [1.57, 3.14, 3.14]      \\\\\\hline\n",
        "  \\end{array} \n",
        "\n",
        "\n",
        "  + Membership functions for omega_R and omega_L  are Triangulars. The parameters of the output omega_R and omega_L are in the table III below:\n",
        "\n",
        "  \\begin{array}\\hline\n",
        "    \\text{Table III:  omega_R, omega_L ($rads^{-1}$)}\n",
        "  \\end{array}\n",
        "  \\begin{array}{|c | c |c |c |}\\hline\n",
        "     \\text{Name} & \\text{Acronyms} & \\text{Values}\\\\\\hline\n",
        "     Very Small   & VS     & [0, 0, 7.5]      \\\\\\hline\n",
        "     Small        & S      & [0, 7.5, 15]     \\\\\\hline\n",
        "     Medium Big   & MB      & [7.5, 15, 22.5]    \\\\\\hline\n",
        "     Big          & B      & [15, 22.5, 30]    \\\\\\hline\n",
        "     Very Big     & VB     & [22.5, 30, 30]    \\\\\\hline\n",
        "  \\end{array} \n",
        "\n",
        "It can be expressed in the table IV below:\n",
        "\n",
        "\\begin{array}\\hline\n",
        "  \\text{Table IV:  The rules for omega_R}\n",
        "\\end{array}\n",
        "\\begin{array}{|c | c |c |c |}\\hline\n",
        "     \\text{ $\\Delta D$ \\ $\\Delta \\Theta$} & \\text{ BN } & \\text{ N } & \\text{ Z } & \\text{ P } & \\text{ BP }\\\\\\hline\n",
        "     VC   & VSR     & SR    & VSR   & BR    & VBR   \\\\\\hline\n",
        "     C    & VSR     & SR    & SR    & BR    & VBR   \\\\\\hline\n",
        "     M    & VSR     & SR    & MBR   & BR    & VBR   \\\\\\hline\n",
        "     F    & VSR     & SR    & BR    & BR    & VBR   \\\\\\hline\n",
        "     VF   & VSR     & SR    & VBR   & BR    & VBR   \\\\\\hline\n",
        "\\end{array} \n",
        "\n",
        "It can be expressed in the table V below:\n",
        "\n",
        "\\begin{array}\\hline\n",
        "  \\text{Table V:  The rules for omega_L}\n",
        "\\end{array}\n",
        "\\begin{array}{|c | c |c |c |}\\hline\n",
        "     \\text{ $\\Delta D$ \\ $\\Delta \\Theta$} & \\text{ BN } & \\text{ N } & \\text{ Z } & \\text{ P } & \\text{ BP }\\\\\\hline\n",
        "     VC   & VBL     & BL    & VSL   & SL    & VSL   \\\\\\hline\n",
        "     C    & VBL     & BL    & SL    & SL    & VSL   \\\\\\hline\n",
        "     M    & VBL     & BL    & MBL   & SL    & VSL   \\\\\\hline\n",
        "     F    & VBL     & BL    & BL    & SL    & VSL   \\\\\\hline\n",
        "     VF   & VBL     & BL    & VBL   & SL    & VSL   \\\\\\hline\n",
        "\\end{array} \n",
        "\n",
        "**DEFUZZIFICATION:** Use \"Centreoid of area\" defuzzification method (centroid)\n"
      ]
    },
    {
      "cell_type": "markdown",
      "metadata": {
        "id": "xiTGujK_jEsD"
      },
      "source": [
        "#### Helper Functions"
      ]
    },
    {
      "cell_type": "markdown",
      "metadata": {
        "id": "5lZv1zCUzP_F"
      },
      "source": [
        "Helper functions have been introduced here for encapsulation of fuzzy system construction."
      ]
    },
    {
      "cell_type": "code",
      "execution_count": null,
      "metadata": {
        "id": "EAa9L5PtjE99"
      },
      "outputs": [],
      "source": [
        "def createFuzzyfier(space, categories, trimf = fuzz.trimf, membership = fuzz.interp_membership):\n",
        "    fuzzyInput = {}\n",
        "    for key, value in categories.items():\n",
        "        fuzzyInput[key] = trimf(space, value)\n",
        "    def result(variable):\n",
        "        output = {}\n",
        "        for key, value in fuzzyInput.items():\n",
        "            cValue = membership(space, value, variable)\n",
        "            if cValue <= 0:\n",
        "                output[key] = 1e-5\n",
        "            else:\n",
        "                output[key] = cValue\n",
        "        return output\n",
        "    return result\n",
        "\n",
        "def createFuzzyfier(space, categories, trimf = fuzz.trimf, membership = fuzz.interp_membership):\n",
        "    fuzzyInput = {}\n",
        "    for key, value in categories.items():\n",
        "        fuzzyInput[key] = trimf(space, value)\n",
        "    def result(variable):\n",
        "        output = {}\n",
        "        for key, value in fuzzyInput.items():\n",
        "            output[key] = membership(space, value, variable)\n",
        "        if output[key] ==0:\n",
        "            output[key] = 1e-5\n",
        "        #else:\n",
        "        #    output[key] = output[key] \n",
        "        return output\n",
        "    return result\n",
        "\n",
        "def createInferenceSystem(inputAfuzzyfier, inputBfuzzyfier, outputSpace, outputDict, rulesDict, trimf = fuzz.trimf):\n",
        "    fuzzyResults = {}\n",
        "    for keyA, outerValue in rulesDict.items():\n",
        "        if not(keyA in fuzzyResults):\n",
        "            fuzzyResults[keyA] = {}\n",
        "        for keyB, innerValue in outerValue.items():\n",
        "            fuzzyResults[keyA][keyB] = trimf(outputSpace, outputDict[innerValue]) #innerValue==outputDict[keyA][keyB]\n",
        "    def result(valueA, valueB):\n",
        "        fuzzyVariableA = inputAfuzzyfier(valueA)\n",
        "        fuzzyVariableB = inputBfuzzyfier(valueB)\n",
        "        fuzzyResult = None\n",
        "        for keyA, outerValue in rulesDict.items():\n",
        "            for keyB, resultValue in outerValue.items():\n",
        "                currentResult = np.fmin(fuzzyResults[keyA][keyB],\n",
        "                    np.fmin(fuzzyVariableA[keyA], fuzzyVariableB[keyB]))\n",
        "                if fuzzyResult is None:\n",
        "                    fuzzyResult = currentResult\n",
        "                else:\n",
        "                    fuzzyResult = np.fmax(currentResult, fuzzyResult)\n",
        "        return fuzzyResult\n",
        "    return result\n",
        "\n",
        "def createDefuzzyfier(outputSpace, *defuzzArgs, defuzz=fuzz.defuzz, **defuzzKwargs):\n",
        "    def result(value):\n",
        "        return defuzz(outputSpace, value, *defuzzArgs, **defuzzKwargs)\n",
        "    return result\n",
        "  \n",
        "def createFullFuzzySystem(inferenceSystem, defuzzyfier):\n",
        "    def system(inputA, inputB):\n",
        "        return defuzzyfier(inferenceSystem(inputA, inputB))\n",
        "    return system"
      ]
    },
    {
      "cell_type": "markdown",
      "metadata": {
        "id": "ND5QnGTCjggB"
      },
      "source": [
        "#### Controller"
      ]
    },
    {
      "cell_type": "code",
      "execution_count": null,
      "metadata": {
        "id": "ECXYHByGi-fu"
      },
      "outputs": [],
      "source": [
        "def createFuzzyController(fuzzyDescription, r, b, omega_ri, vri, lowVelocityLimit, highVelocityLimit, lowOmegaLimit, highOmegaLimit):\n",
        "    inputsDistance = fuzzyDescription['inputs']['distance']['M']\n",
        "    inputsSpaceDistance = np.array(fuzzyDescription['inputs']['distance']['S'])\n",
        "    \n",
        "    inputsAngle = fuzzyDescription['inputs']['angle']['M']\n",
        "    inputsSpaceAngle = np.array(fuzzyDescription['inputs']['angle']['S'])\n",
        "    \n",
        "    outputsOmegaR = fuzzyDescription['outputs']['omegaR']['M']\n",
        "    outputSpaceOmegaR = np.array(fuzzyDescription['outputs']['omegaR']['S'])\n",
        "    outputRulesOmegaR = fuzzyDescription['outputs']['omegaR']['rules']\n",
        "    \n",
        "    outputsOmegaL = fuzzyDescription['outputs']['omegaL']['M']\n",
        "    outputSpaceOmegaL = np.array(fuzzyDescription['outputs']['omegaL']['S'])\n",
        "    outputRulesOmegaL = fuzzyDescription['outputs']['omegaL']['rules']\n",
        "\n",
        "\n",
        "    inputsDistanceFuzzyfier = createFuzzyfier(inputsSpaceDistance, inputsDistance)\n",
        "    inputsAngleFuzzyfier = createFuzzyfier(inputsSpaceAngle, inputsAngle)\n",
        "\n",
        "    inferenceSystem_R = createInferenceSystem(inputsDistanceFuzzyfier, inputsAngleFuzzyfier, outputSpaceOmegaR, outputsOmegaR, outputRulesOmegaR)\n",
        "    outputDefuzzyfier_R = createDefuzzyfier(outputSpaceOmegaL, mode='centroid')\n",
        "\n",
        "    inferenceSystem_L = createInferenceSystem(inputsDistanceFuzzyfier, inputsAngleFuzzyfier, outputSpaceOmegaL, outputsOmegaL, outputRulesOmegaL)\n",
        "    outputDefuzzyfier_L = createDefuzzyfier(outputSpaceOmegaL, mode='centroid')\n",
        "\n",
        "    fullSystem_R = createFullFuzzySystem(inferenceSystem_R, outputDefuzzyfier_R)\n",
        "    fullSystem_L = createFullFuzzySystem(inferenceSystem_L, outputDefuzzyfier_L)\n",
        "    \n",
        "    def controller(t, currentState, destinationState):\n",
        "        currentX = currentState[0]\n",
        "        currentY = currentState[1]\n",
        "        currentTheta = currentState[2]\n",
        "\n",
        "        destinationX = destinationState[0]\n",
        "        destinationY = destinationState[1]\n",
        "\n",
        "        cosTheta = cos(currentTheta)\n",
        "        sinTheta = sin(currentTheta)\n",
        "        \n",
        "        deltaX = destinationX - currentX\n",
        "        deltaY = destinationY - currentY\n",
        "        theta_destination = atan2(deltaY, deltaX)\n",
        "        THETA_ERROR = theta_destination - currentTheta\n",
        "        DISTANCE_ERROR = sqrt(deltaX * deltaX + deltaY * deltaY)\n",
        "        \n",
        "        if (THETA_ERROR > pi):\n",
        "            THETA_ERROR -= 2*pi\n",
        "        if (THETA_ERROR < -pi):\n",
        "            THETA_ERROR += 2*pi\n",
        "      \n",
        "        omega_R = fullSystem_R(DISTANCE_ERROR, THETA_ERROR)\n",
        "        omega_L = fullSystem_L(DISTANCE_ERROR, THETA_ERROR)\n",
        "\n",
        "        velocity = r * (omega_R + omega_L) / 2\n",
        "        omega = r * (omega_R - omega_L) / b\n",
        "\n",
        "        if velocity > highVelocityLimit:\n",
        "            velocity = highVelocityLimit\n",
        "        if (velocity < lowVelocityLimit):\n",
        "            velocity = lowVelocityLimit\n",
        "        if omega > highOmegaLimit:\n",
        "            omega = highOmegaLimit\n",
        "        if (omega < lowOmegaLimit):\n",
        "            omega = lowOmegaLimit\n",
        "\n",
        "        return velocity, omega\n",
        "    return controller"
      ]
    },
    {
      "cell_type": "markdown",
      "metadata": {
        "id": "NwNbQ4J6A7_-"
      },
      "source": [
        "## Simulation Function"
      ]
    },
    {
      "cell_type": "markdown",
      "metadata": {
        "id": "Z_8pVr2PYUdB"
      },
      "source": [
        "In next part the full description of simulation is stored in a single structured JSON document / variable. If this document is mutated, the slighly different condition for simulation are defined. Set of mutated documents and results of described simulations might be compared and thus proper results can be selected. This process creates a basement for optimization techniques."
      ]
    },
    {
      "cell_type": "markdown",
      "metadata": {
        "id": "6WjwxrtjA7__"
      },
      "source": [
        "### Simulation Description"
      ]
    },
    {
      "cell_type": "code",
      "execution_count": null,
      "metadata": {
        "id": "-S77zClxA7__"
      },
      "outputs": [],
      "source": [
        "\n",
        "simulationDescription = {\n",
        "\n",
        "    'robotState0': {\n",
        "        'x': 0,\n",
        "        'y': 0,\n",
        "        'theta': -3.14 / 4\n",
        "    },\n",
        "\n",
        "    'path': [\n",
        "        [0, 0, 0],  #X, Y, orientation\n",
        "        [10, 0, 0], #X, Y, orientation\n",
        "        [10, 10, 0], #X, Y, orientation\n",
        "        [20, 10, 0], #X, Y, orientation\n",
        "        [20, 20, 0]\n",
        "    ],\n",
        "\n",
        "    'robotParams': {\n",
        "        'r': 0.0425,\n",
        "        'b': 0.2,\n",
        "        'm': 1.733,\n",
        "        'I': 0.008,\n",
        "        #'motorParams': None,\n",
        "        'motorParams': {\n",
        "            'J': 0.037,       #Kg.m2/s2\n",
        "            'B': 0.004,        #Nms    \n",
        "            'Kt': 0.16,    #Nm/A\n",
        "            'Ke': 0.9965,    #Nm/A        \n",
        "            'Ra': 0.37,    #Ohm\n",
        "            'La': 0.1   #H\n",
        "        }\n",
        "    },\n",
        "    \n",
        "    'controllerParams': {\n",
        "        'omega_ri': 0, 'vri': 2.0,'lowVelocityLimit': 0, \n",
        "        'highVelocityLimit': 4.0, 'lowOmegaLimit': -3.14, 'highOmegaLimit': 3.14\n",
        "    },\n",
        "\n",
        "    'simulationParams': {\n",
        "        't0': 0,\n",
        "        't_bound': 100,\n",
        "        'max_step': 0.01\n",
        "    }\n",
        "}\n"
      ]
    },
    {
      "cell_type": "markdown",
      "metadata": {
        "id": "1KcxXFJHA7__"
      },
      "source": [
        "### Executor"
      ]
    },
    {
      "cell_type": "markdown",
      "metadata": {
        "id": "qMOb2n2tzP_H"
      },
      "source": [
        "The next function is core of simulation. Others functions including all fitness functions are build on it."
      ]
    },
    {
      "cell_type": "code",
      "execution_count": null,
      "metadata": {
        "id": "HeQ5PRiyhnMA"
      },
      "outputs": [],
      "source": [
        "def runSimulation(simulationDescription, controllerCreator, selectors=selectors):\n",
        "  \n",
        "    pathForSimulation = iter(simulationDescription['path'])\n",
        "\n",
        "    t0 = simulationDescription['simulationParams']['t0']\n",
        "    t_bound = simulationDescription['simulationParams']['t_bound']\n",
        "    max_step = simulationDescription['simulationParams']['max_step']\n",
        "\n",
        "    state0 = None\n",
        "    robotState0 = simulationDescription['robotState0']\n",
        "    if robot == robotWithDynamic:\n",
        "        state0 = np.array([robotState0['x'], robotState0['y'], robotState0['theta'], 0, 0, 0, 0, 0, 0, 0]) # x0=0, y0=0, theta\n",
        "    else:\n",
        "        state0 = np.array([robotState0['x'], robotState0['y'], robotState0['theta'], 0, 0, 0]) # x0=0, y0=0,theta\n",
        "\n",
        "    solverfunc = simpleCompute(\n",
        "        compute, state0 = state0, \n",
        "        t0 = t0, t_bound = t_bound, max_step = max_step)\n",
        "\n",
        "    controllerParams = simulationDescription['controllerParams']\n",
        "    completeRobot = robotModelCreator(controllerCreator, pathForSimulation, **controllerParams)      \n",
        "    robotStates = solverfunc(completeRobot)\n",
        "\n",
        "    results = {}\n",
        "    for key, selector in selectors.items():\n",
        "        results[key] = []\n",
        "\n",
        "    for currentState in robotStates: # readout all states from current moving robot\n",
        "        for key, selector in selectors.items():\n",
        "            results[key].append(selector(currentState))\n",
        "\n",
        "    return results"
      ]
    },
    {
      "cell_type": "markdown",
      "metadata": {
        "id": "gicZW0wlA8AA"
      },
      "source": [
        "### Example of Use"
      ]
    },
    {
      "cell_type": "code",
      "execution_count": null,
      "metadata": {
        "id": "qai3xZ3mA8AA"
      },
      "outputs": [],
      "source": [
        "\n",
        "import copy\n",
        "\n",
        "def localDemo():\n",
        "    circleControllerDescription = copy.deepcopy(simulationDescription)\n",
        "    circleControllerDescription['controllerParams']['gain'] = 4\n",
        "\n",
        "    results = runSimulation(circleControllerDescription, createCircleControllerWithGain, selectors)\n",
        "    plt.plot(results['x'], results['y'])\n",
        "    \n",
        "if _runDemos:\n",
        "    localDemo()\n"
      ]
    },
    {
      "cell_type": "markdown",
      "metadata": {
        "id": "wmPAPhoVYawE"
      },
      "source": [
        "## Chromozome Mapping Functions"
      ]
    },
    {
      "cell_type": "markdown",
      "metadata": {
        "id": "zhXB2hfGnI9Y"
      },
      "source": [
        "These functions change a standard simulation data structure description into the data structure description based on information stored in a chromosome. Also these functions could be named as a chromosome information decoders."
      ]
    },
    {
      "cell_type": "markdown",
      "metadata": {
        "id": "ckJma0JxYg_O"
      },
      "source": [
        "### Circle Controller"
      ]
    },
    {
      "cell_type": "code",
      "execution_count": null,
      "metadata": {
        "id": "8L6R8GdXYj91"
      },
      "outputs": [],
      "source": [
        "import copy\n",
        "def fromChromozomeToDescriptionCircle(chromozome, description):\n",
        "    result = copy.deepcopy(description)\n",
        "    result['controllerParams']['gain'] = chromozome[0]\n",
        "    return result"
      ]
    },
    {
      "cell_type": "markdown",
      "metadata": {
        "id": "l-4tBv9VYmHn"
      },
      "source": [
        "### Robins Controller"
      ]
    },
    {
      "cell_type": "code",
      "execution_count": null,
      "metadata": {
        "id": "4AL6Rx2KYfwQ"
      },
      "outputs": [],
      "source": [
        "import copy\n",
        "def fromChromozomeToDescriptionRobins(chromozome, description):\n",
        "    result = copy.deepcopy(description)\n",
        "    result['controllerParams']['k0'] = chromozome[0]\n",
        "    result['controllerParams']['k1'] = chromozome[1]\n",
        "    return result"
      ]
    },
    {
      "cell_type": "markdown",
      "metadata": {
        "id": "YgbaF1wSBjOV"
      },
      "source": [
        "### Chaudhari-based controller"
      ]
    },
    {
      "cell_type": "code",
      "execution_count": null,
      "metadata": {
        "id": "7EUFe_o5BtTL"
      },
      "outputs": [],
      "source": [
        "import copy\n",
        "def fromChromozomeToDescriptionChaudhari(chromozome, description):\n",
        "    result = copy.deepcopy(description)\n",
        "    result['controllerParams']['radius'] = chromozome[0]\n",
        "    return result"
      ]
    },
    {
      "cell_type": "markdown",
      "metadata": {
        "id": "Cm7bo0diYxvH"
      },
      "source": [
        "### Fuzzy Logic Controller"
      ]
    },
    {
      "cell_type": "markdown",
      "metadata": {
        "id": "MgzbBvEPzP_I"
      },
      "source": [
        "#### Chromosome Explanation"
      ]
    },
    {
      "cell_type": "code",
      "execution_count": null,
      "metadata": {
        "id": "6t91BMmFzP_J"
      },
      "outputs": [],
      "source": [
        "#////////////----KHONG CAN CAI NAY------//////////////\n",
        "'''\n",
        "# full distance chromosome part\n",
        "#_chromozomeDistanceM = [2.5, 2.5, 2.5, 2.5, 2.5, 5, 2.5, 2.5, 7.5, 2.5, 2.5] \n",
        "_chromozomeDistanceMPeaks = [1.25, 2.5, 3.75] # <0.1; 9.9>\n",
        "_chromozomeDistanceM = [1.25 for i in range(11)]\n",
        "_chromozomeDistanceM[2] = _chromozomeDistanceMPeaks[0]\n",
        "_chromozomeDistanceM[5] = _chromozomeDistanceMPeaks[1]\n",
        "_chromozomeDistanceM[8] = _chromozomeDistanceMPeaks[2]\n",
        "\n",
        "# full angle chromosome part\n",
        "#_chromozomeAngleM = [1.57, 1.57, -1.57, 1.57, 1.57, 0, 1.57, 1.57, 1.57, 1.57, 1.57] #11-21, peaks 13,16,19, widths 11,12/14,15/17,18/20,21\n",
        "_chromozomeAngleMPeaks = [-1.57, 0, 1.57] # <-3.1; 3.1>\n",
        "_chromozomeAngleM = [1.57 for i in range(11)]\n",
        "_chromozomeAngleM[2] = _chromozomeAngleMPeaks[0]\n",
        "_chromozomeAngleM[5] = _chromozomeAngleMPeaks[1]\n",
        "_chromozomeAngleM[8] = _chromozomeAngleMPeaks[2]\n",
        "\n",
        "# full omegaR chromosome part\n",
        "#_chromozomeOmegaRM = [7.5, 7.5, 7.5, 7.5, 7.5, 15, 7.5, 7.5, 22.5, 7.5, 7.5] #22-32, peaks 24,27,30, widths 22,23/25,26/28,29/31,32\n",
        "_chromozomeOmegaRMPeaks = [3.75, 7.5, 11.25] # <0.1; 29.9>\n",
        "_chromozomeOmegaRM = [3.75 for i in range(11)]\n",
        "_chromozomeOmegaRM[2] = _chromozomeOmegaRMPeaks[0]\n",
        "_chromozomeOmegaRM[5] = _chromozomeOmegaRMPeaks[1]\n",
        "_chromozomeOmegaRM[8] = _chromozomeOmegaRMPeaks[2]\n",
        "\n",
        "# full omegaL chromosome part\n",
        "#_chromozomeOmegaLM = [7.5, 7.5, 7.5, 7.5, 7.5, 15, 7.5, 7.5, 22.5, 7.5, 7.5] #33-43, peaks 35,38,41, widths 33,34/36,37/39,40/42,43    \n",
        "_chromozomeOmegaLMPeaks = [3.75, 7.5, 11.25]\n",
        "_chromozomeOmegaLM = [3.75 for i in range(11)]\n",
        "_chromozomeOmegaLM[2] = _chromozomeOmegaLMPeaks[0]\n",
        "_chromozomeOmegaLM[5] = _chromozomeOmegaLMPeaks[1]\n",
        "_chromozomeOmegaLM[8] = _chromozomeOmegaLMPeaks[2]\n",
        "\n",
        "_fullFLCChromosome = [*_chromozomeDistanceM, *_chromozomeAngleM, *_chromozomeOmegaRM, *_chromozomeOmegaLM]\n",
        "'''"
      ]
    },
    {
      "cell_type": "markdown",
      "metadata": {
        "id": "nLp_rjQ7zP_J"
      },
      "source": [
        "#### Lowest and Highest Values of Chromosome"
      ]
    },
    {
      "cell_type": "code",
      "execution_count": null,
      "metadata": {
        "id": "z1OE_x_CzP_J"
      },
      "outputs": [],
      "source": [
        "#////////////----KHONG CAN CAI NAY------//////////////\n",
        "'''\n",
        "# full distance chromosome part\n",
        "#_chromozomeDistanceM = [2.5, 2.5, 2.5, 2.5, 2.5, 5, 2.5, 2.5, 7.5, 2.5, 2.5]  #0-10, peaks 2,5,8, widths 0,1/3,4/6,7/9,10\n",
        "_chromozomeDistanceMLo = [0.1 for i in range(11)]\n",
        "_chromozomeDistanceMHi = [5 for i in range(11)]\n",
        "\n",
        "# full angle chromosome part\n",
        "#_chromozomeAngleM = [1.57, 1.57, -1.57, 1.57, 1.57, 0, 1.57, 1.57, 1.57, 1.57, 1.57] #11-21, peaks 13,16,19, widths 11,12/14,15/17,18/20,21\n",
        "\n",
        "_chromozomeAngleMPeaksLo = [-3.1, -3.1, -3.1] # <-3.1; 3.1>\n",
        "_chromozomeAngleMPeaksHi = [3.1, 3.1, 3.1] # <-3.1; 3.1>\n",
        "_chromozomeAngleMLo = [0.1 for i in range(11)]\n",
        "_chromozomeAngleMHi = [3.1 for i in range(11)]\n",
        "_chromozomeAngleMLo[2] = _chromozomeAngleMPeaksLo[0]\n",
        "_chromozomeAngleMLo[5] = _chromozomeAngleMPeaksLo[1]\n",
        "_chromozomeAngleMLo[8] = _chromozomeAngleMPeaksLo[2]\n",
        "_chromozomeAngleMHi[2] = _chromozomeAngleMPeaksHi[0]\n",
        "_chromozomeAngleMHi[5] = _chromozomeAngleMPeaksHi[1]\n",
        "_chromozomeAngleMHi[8] = _chromozomeAngleMPeaksHi[2]\n",
        "\n",
        "# full omegaR chromosome part\n",
        "#_chromozomeOmegaRM = [7.5, 7.5, 7.5, 7.5, 7.5, 15, 7.5, 7.5, 22.5, 7.5, 7.5] #22-32, peaks 24,27,30, widths 22,23/25,26/28,29/31,32\n",
        "_chromozomeOmegaRMLo = [0.1 for i in range(11)]\n",
        "_chromozomeOmegaRMHi = [14.9 for i in range(11)]\n",
        "\n",
        "# full omegaL chromosome part\n",
        "#_chromozomeOmegaLM = [7.5, 7.5, 7.5, 7.5, 7.5, 15, 7.5, 7.5, 22.5, 7.5, 7.5] #33-43, peaks 35,38,41, widths 33,34/36,37/39,40/42,43\n",
        "_chromozomeOmegaLMLo = [0.1 for i in range(11)]\n",
        "_chromozomeOmegaLMHi = [14.9 for i in range(11)]\n",
        "\n",
        "_fullFLCChromosomeLo = [*_chromozomeDistanceMLo, *_chromozomeAngleMLo, *_chromozomeOmegaRMLo, *_chromozomeOmegaLMLo]\n",
        "_fullFLCChromosomeHi = [*_chromozomeDistanceMHi, *_chromozomeAngleMHi, *_chromozomeOmegaRMHi, *_chromozomeOmegaLMHi]\n",
        "'''"
      ]
    },
    {
      "cell_type": "code",
      "execution_count": null,
      "metadata": {
        "id": "ASKBFDhwzP_J"
      },
      "outputs": [],
      "source": [
        "#////////////----KHONG CAN CAI NAY------//////////////\n",
        "'''\n",
        "def localDemo():\n",
        "    print(_fullFLCChromosome)\n",
        "    print(_fullFLCChromosomeLo)\n",
        "    print(_fullFLCChromosomeHi)\n",
        "    \n",
        "if _runDemos:\n",
        "    localDemo()\n",
        "'''"
      ]
    },
    {
      "cell_type": "markdown",
      "metadata": {
        "id": "UPrs-QadzP_J"
      },
      "source": [
        "#### Chromosome Transformation"
      ]
    },
    {
      "cell_type": "code",
      "execution_count": null,
      "metadata": {
        "id": "xGuoa_ISY1jP"
      },
      "outputs": [],
      "source": [
        "#///////////////-----FOR FLC BY MYSELF BASED ON THOA--------///////////////\n",
        "import copy\n",
        "def fromChromozomeToDescriptionFuzzy(chromozome, description):\n",
        "    CH = chromozome # just for simplicity\n",
        "    result = copy.deepcopy(description)\n",
        "\n",
        "    fuzzyDescription = {\n",
        "        'inputs': {\n",
        "            'distance' : {\n",
        "                'S': list(np.arange(0, 10, 0.1)),\n",
        "                'M': {'VC': [0, 0, 2.5], 'C': [0, 2.5, 5], 'M': [2.5, 5, 7.5], 'F': [5, 7.5, 10], 'VF': [7.5, 10, 10]}\n",
        "            },\n",
        "            'angle' : {\n",
        "                'S': list(np.arange(-3.14, 3.14, 0.0628)),\n",
        "                'M': {'BN': [-3.14, -3.14, -1.57], 'N': [-3.14, -1.57, 0], 'Z': [-1.57, 0, 1.57], 'P': [0, 1.57, 3.14], 'BP': [1.57, 3.14, 3.14]}\n",
        "            }\n",
        "        },\n",
        "        'outputs': {\n",
        "            'omegaR': {\n",
        "                'S': list(np.arange(0, 30, 0.3)),\n",
        "                'rules': {\n",
        "                    'VC': {'BN': 'VSR', 'N': 'SR', 'Z': 'VSR', 'P': 'BR', 'BP': 'VBR'},\n",
        "                    'C': {'BN': 'VSR', 'N': 'SR', 'Z': 'SR', 'P': 'BR', 'BP': 'VBR'},\n",
        "                    'M': {'BN': 'VSR', 'N': 'SR', 'Z': 'MBR', 'P': 'BR', 'BP': 'VBR'},\n",
        "                    'F': {'BN': 'VSR', 'N': 'SR', 'Z': 'BR', 'P': 'BR', 'BP': 'VBR'},\n",
        "                    'VF': {'BN': 'VSR', 'N': 'SR', 'Z': 'VBR', 'P': 'BR', 'BP': 'VBR'}\n",
        "                },\n",
        "                'mode': 'centroid',\n",
        "                'M': {'VSR': [0, 0, 7.5], 'SR': [0, 7.5, 15], 'MBR': [7.5, 15, 22.5], 'BR': [15, 22.5, 30], 'VBR': [22.5, 30, 30]}\n",
        "            },\n",
        "            'omegaL': {\n",
        "                'S': list(np.arange(0, 30, 0.3)),\n",
        "                'rules': {\n",
        "                    'VC': {'BN': 'VBL', 'N': 'BL', 'Z': 'VSL', 'P': 'SL', 'BP': 'VSL'},\n",
        "                    'C': {'BN': 'VBL', 'N': 'BL', 'Z': 'SL', 'P': 'SL', 'BP': 'VSL'},\n",
        "                    'M': {'BN': 'VBL', 'N': 'BL', 'Z': 'MBL', 'P': 'SL', 'BP': 'VSL'},\n",
        "                    'F': {'BN': 'VBL', 'N': 'BL', 'Z': 'BL', 'P': 'SL', 'BP': 'VSL'},\n",
        "                    'VF': {'BN': 'VBL', 'N': 'BL', 'Z': 'VBL', 'P': 'SL', 'BP': 'VSL'}\n",
        "                },\n",
        "                'mode': 'centroid',\n",
        "                'M': {'VSL': [0, 0, 7.5], 'SL': [0, 7.5, 15], 'MBL': [7.5, 15, 22.5], 'BL': [15, 22.5, 30], 'VBL': [22.5, 30, 30]}\n",
        "            }\n",
        "        }\n",
        "    }     \n",
        "\n",
        "    \n",
        "    distance_Member = {'VC': [0, 0, CH[0]], \n",
        "                       'C': [CH[2] - CH[1], CH[2], CH[2] + CH[3]],\n",
        "                       'M': [CH[5] - CH[4], CH[5], CH[5] + CH[6]],\n",
        "                       'F': [CH[8] - CH[7], CH[8], CH[8] + CH[9]], \n",
        "                       'VF': [10 - CH[10], 10, 10]}\n",
        "    fuzzyDescription['inputs']['distance']['M'] = distance_Member\n",
        "\n",
        "    angle_Member = {'BN': [-3.14, -3.14, -3.14+CH[11]], \n",
        "                    'N': [CH[13] - CH[12], CH[13], CH[13] + CH[14]],\n",
        "                    'Z': [CH[16] - CH[15], CH[16], CH[16] + CH[17]], \n",
        "                    'P': [CH[19] - CH[18], CH[19], CH[19] + CH[20]], \n",
        "                    'BP': [3.14 - CH[21], 3.14, 3.14]}    \n",
        "    fuzzyDescription['inputs']['angle']['M'] = angle_Member\n",
        "\n",
        "    omegaR_Member =  {'VSR': [0, 0, CH[22]], \n",
        "                      'SR': [CH[24] - CH[23], CH[24], CH[24] + CH[25]],\n",
        "                      'MBR': [CH[27] - CH[26], CH[27], CH[27] + CH[28]], \n",
        "                      'BR': [CH[30] - CH[29], CH[30], CH[30] + CH[31]], \n",
        "                      'VBR': [30 - CH[32], 30, 30]}\n",
        "    fuzzyDescription['outputs']['omegaR']['M'] = omegaR_Member\n",
        "\n",
        "    omegaL_Member =  {'VSL': [0, 0, CH[33]], \n",
        "                      'SL': [CH[35] - CH[34], CH[35], CH[35] + CH[36]],\n",
        "                      'MBL': [CH[38] - CH[37], CH[38], CH[38] + CH[39]], \n",
        "                      'BL': [CH[41] - CH[40], CH[41], CH[41] + CH[42]], \n",
        "                      'VBL': [30 - CH[43], 30, 30]}\n",
        "    fuzzyDescription['outputs']['omegaL']['M'] = omegaL_Member\n",
        "\n",
        "    result['controllerParams']['fuzzyDescription'] = fuzzyDescription\n",
        "    \n",
        "    result['controllerParams']['r'] = result['robotParams']['r']\n",
        "    result['controllerParams']['b'] = result['robotParams']['b']\n",
        "    return result"
      ]
    },
    {
      "cell_type": "markdown",
      "metadata": {
        "id": "6TCddC8iZF2u"
      },
      "source": [
        "### Chromosome Transformation used for Thoa-based control"
      ]
    },
    {
      "cell_type": "code",
      "execution_count": null,
      "metadata": {
        "id": "AoDe0U0yo7ya"
      },
      "outputs": [],
      "source": [
        "# ///////////////////////----USING FOR ORIGINAL THOA ------------//////////////////////////////////////////\n",
        "import copy\n",
        "def fromChromozomeToDescriptionFuzzy_Thoa_Original(chromozome, description):\n",
        "    CH = chromozome # just for simplicity\n",
        "    result = copy.deepcopy(description)\n",
        "\n",
        "    fuzzyDescription = {\n",
        "        'inputs': {\n",
        "            'distance' : {\n",
        "                'S': list(np.arange(0, 10, 0.1)),\n",
        "                'M': {'VC': [0, 0, 2.5], 'C': [0, 2.5, 5], 'M': [2.5, 5, 7.5], 'F': [5, 7.5, 10], 'VF': [7.5, 10, 10]}\n",
        "            },\n",
        "            'angle' : {\n",
        "                'S': list(np.arange(-3.14, 3.14, 0.0628)),\n",
        "                'M': {'BN': [-3.14, -3.14, -1.57], 'N': [-3.14, -1.57, 0], 'Z': [-1.57, 0, 1.57], 'P': [0, 1.57, 3.14], 'BP': [1.57, 3.14, 3.14]}\n",
        "            }\n",
        "        },\n",
        "        'outputs': {\n",
        "            'omegaR': {\n",
        "                'S': list(np.arange(0, 30, 0.3)),\n",
        "                'rules': {\n",
        "                    'VC': {'BN': 'VSR', 'N': 'SR', 'Z': 'VSR', 'P': 'BR', 'BP': 'VBR'},\n",
        "                    'C': {'BN': 'VSR', 'N': 'SR', 'Z': 'SR', 'P': 'BR', 'BP': 'VBR'},\n",
        "                    'M': {'BN': 'VSR', 'N': 'SR', 'Z': 'MBR', 'P': 'BR', 'BP': 'VBR'},\n",
        "                    'F': {'BN': 'VSR', 'N': 'SR', 'Z': 'BR', 'P': 'BR', 'BP': 'VBR'},\n",
        "                    'VF': {'BN': 'VSR', 'N': 'SR', 'Z': 'VBR', 'P': 'BR', 'BP': 'VBR'}\n",
        "                },\n",
        "                'mode': 'centroid',\n",
        "                'M': {'VSR': [0, 0, 7.5], 'SR': [0, 7.5, 15], 'MBR': [7.5, 15, 22.5], 'BR': [15, 22.5, 30], 'VBR': [22.5, 30, 30]}\n",
        "            },\n",
        "            'omegaL': {\n",
        "                'S': list(np.arange(0, 30, 0.3)),\n",
        "                'rules': {\n",
        "                    'VC': {'BN': 'VBL', 'N': 'BL', 'Z': 'VSL', 'P': 'SL', 'BP': 'VSL'},\n",
        "                    'C': {'BN': 'VBL', 'N': 'BL', 'Z': 'SL', 'P': 'SL', 'BP': 'VSL'},\n",
        "                    'M': {'BN': 'VBL', 'N': 'BL', 'Z': 'MBL', 'P': 'SL', 'BP': 'VSL'},\n",
        "                    'F': {'BN': 'VBL', 'N': 'BL', 'Z': 'BL', 'P': 'SL', 'BP': 'VSL'},\n",
        "                    'VF': {'BN': 'VBL', 'N': 'BL', 'Z': 'VBL', 'P': 'SL', 'BP': 'VSL'}\n",
        "                },\n",
        "                'mode': 'centroid',\n",
        "                'M': {'VSL': [0, 0, 7.5], 'SL': [0, 7.5, 15], 'MBL': [7.5, 15, 22.5], 'BL': [15, 22.5, 30], 'VBL': [22.5, 30, 30]}\n",
        "            }\n",
        "        }\n",
        "    }     \n",
        "\n",
        "    \n",
        "    distance_Member = {'VC': [0, 0, CH[0]], \n",
        "                       'C': [CH[2] - CH[1], CH[2], CH[2] + CH[3]],\n",
        "                       'M': [CH[5] - CH[4], CH[5], CH[5] + CH[6]],\n",
        "                       'F': [CH[8] - CH[7], CH[8], CH[8] + CH[9]], \n",
        "                       'VF': [10 - CH[10], 10, 10]}\n",
        "    fuzzyDescription['inputs']['distance']['M'] = distance_Member\n",
        "\n",
        "    angle_Member = {'BN': [-3.14, -3.14, -3.14 + CH[11]], \n",
        "                    'N': [CH[13] - CH[12], CH[13], CH[13] + CH[14]],\n",
        "                    'Z': [CH[16] - CH[15], CH[16], CH[16] + CH[17]], \n",
        "                    'P': [CH[19] - CH[18], CH[19], CH[19] + CH[20]], \n",
        "                    'BP': [3.14 - CH[21], 3.14, 3.14]}    \n",
        "    fuzzyDescription['inputs']['angle']['M'] = angle_Member\n",
        "\n",
        "    omegaR_Member =  {'VSR': [0, 0, CH[22]], \n",
        "                      'SR': [CH[24] - CH[23], CH[24], CH[24] + CH[25]],\n",
        "                      'MBR': [CH[27] - CH[26], CH[27], CH[27] + CH[28]], \n",
        "                      'BR': [CH[30] - CH[29], CH[30], CH[30] + CH[31]], \n",
        "                      'VBR': [30 - CH[32], 30, 30]}\n",
        "    fuzzyDescription['outputs']['omegaR']['M'] = omegaR_Member\n",
        "\n",
        "    omegaL_Member =  {'VSL': [0, 0, CH[33]], \n",
        "                      'SL': [CH[35] - CH[34], CH[35], CH[35] + CH[36]],\n",
        "                      'MBL': [CH[38] - CH[37], CH[38], CH[38] + CH[39]], \n",
        "                      'BL': [CH[41] - CH[40], CH[41], CH[41] + CH[42]], \n",
        "                      'VBL': [30 - CH[43], 30, 30]}\n",
        "    fuzzyDescription['outputs']['omegaL']['M'] = omegaL_Member\n",
        "\n",
        "    result['controllerParams']['fuzzyDescription'] = fuzzyDescription\n",
        "    \n",
        "    result['controllerParams']['r'] = result['robotParams']['r']\n",
        "    result['controllerParams']['b'] = result['robotParams']['b']\n",
        "    return result"
      ]
    },
    {
      "cell_type": "code",
      "execution_count": null,
      "metadata": {
        "id": "I9E_tt32ZQ6M"
      },
      "outputs": [],
      "source": [
        "#//////////////////---------USING FOR OPTIMIZATION OF THOA USING GA---------/////////////////////////////////////////\n",
        "import copy\n",
        "def fromChromozomeToDescriptionFuzzy_Thoa(chromozome, description):\n",
        "    CH = chromozome # just for simplicity\n",
        "    result = copy.deepcopy(description)\n",
        "\n",
        "    fuzzyDescription = {\n",
        "        'inputs': {\n",
        "            'distance' : {\n",
        "                'S': list(np.arange(0, 10, 0.1)),\n",
        "                'M': {'VC': [0, 0, 2.5], 'C': [0, 2.5, 5], 'M': [2.5, 5, 7.5], 'F': [5, 7.5, 10], 'VF': [7.5, 10, 10]}\n",
        "            },\n",
        "            'angle' : {\n",
        "                'S': list(np.arange(-3.14, 3.14, 0.0628)),\n",
        "                'M': {'BN': [-3.14, -3.14, -1.57], 'N': [-3.14, -1.57, 0], 'Z': [-1.57, 0, 1.57], 'P': [0, 1.57, 3.14], 'BP': [1.57, 3.14, 3.14]}\n",
        "            }\n",
        "        },\n",
        "        'outputs': {\n",
        "            'omegaR': {\n",
        "                'S': list(np.arange(0, 30, 0.3)),\n",
        "                'rules': {\n",
        "                    'VC': {'BN': 'VSR', 'N': 'SR', 'Z': 'VSR', 'P': 'BR', 'BP': 'VBR'},\n",
        "                    'C': {'BN': 'VSR', 'N': 'SR', 'Z': 'SR', 'P': 'BR', 'BP': 'VBR'},\n",
        "                    'M': {'BN': 'VSR', 'N': 'SR', 'Z': 'MBR', 'P': 'BR', 'BP': 'VBR'},\n",
        "                    'F': {'BN': 'VSR', 'N': 'SR', 'Z': 'BR', 'P': 'BR', 'BP': 'VBR'},\n",
        "                    'VF': {'BN': 'VSR', 'N': 'SR', 'Z': 'VBR', 'P': 'BR', 'BP': 'VBR'}\n",
        "                },\n",
        "                'mode': 'centroid',\n",
        "                'M': {'VSR': [0, 0, 7.5], 'SR': [0, 7.5, 15], 'MBR': [7.5, 15, 22.5], 'BR': [15, 22.5, 30], 'VBR': [22.5, 30, 30]}\n",
        "            },\n",
        "            'omegaL': {\n",
        "                'S': list(np.arange(0, 30, 0.3)),\n",
        "                'rules': {\n",
        "                    'VC': {'BN': 'VBL', 'N': 'BL', 'Z': 'VSL', 'P': 'SL', 'BP': 'VSL'},\n",
        "                    'C': {'BN': 'VBL', 'N': 'BL', 'Z': 'SL', 'P': 'SL', 'BP': 'VSL'},\n",
        "                    'M': {'BN': 'VBL', 'N': 'BL', 'Z': 'MBL', 'P': 'SL', 'BP': 'VSL'},\n",
        "                    'F': {'BN': 'VBL', 'N': 'BL', 'Z': 'BL', 'P': 'SL', 'BP': 'VSL'},\n",
        "                    'VF': {'BN': 'VBL', 'N': 'BL', 'Z': 'VBL', 'P': 'SL', 'BP': 'VSL'}\n",
        "                },\n",
        "                'mode': 'centroid',\n",
        "                'M': {'VSL': [0, 0, 7.5], 'SL': [0, 7.5, 15], 'MBL': [7.5, 15, 22.5], 'BL': [15, 22.5, 30], 'VBL': [22.5, 30, 30]}\n",
        "            }\n",
        "        }\n",
        "    }     \n",
        "\n",
        "    \n",
        "    distance_Member = {'VC': [0, 0, CH[0]], \n",
        "                       'C': [CH[2] - CH[1], CH[2], CH[2] + CH[3]],\n",
        "                       'M': [CH[5] - CH[4], CH[5], CH[5] + CH[6]],\n",
        "                       'F': [CH[8] - CH[7], CH[8], CH[8] + CH[9]], \n",
        "                       'VF': [10 - CH[10], 10, 10]}\n",
        "    fuzzyDescription['inputs']['distance']['M'] = distance_Member\n",
        "\n",
        "    angle_Member = {'BN': [-3.14, -3.14, -3.14+CH[11]], \n",
        "                    'N': [CH[13] - CH[12], CH[13], CH[13] + CH[14]],\n",
        "                    'Z': [CH[16] - CH[15], CH[16], CH[16] + CH[17]], \n",
        "                    'P': [CH[19] - CH[18], CH[19], CH[19] + CH[20]], \n",
        "                    'BP': [3.14 - CH[21], 3.14, 3.14]}    \n",
        "    fuzzyDescription['inputs']['angle']['M'] = angle_Member\n",
        "\n",
        "    omegaR_Member =  {'VSR': [0, 0, CH[22]], \n",
        "                      'SR': [CH[24] - CH[23], CH[24], CH[24] + CH[25]],\n",
        "                      'MBR': [CH[27] - CH[26], CH[27], CH[27] + CH[28]], \n",
        "                      'BR': [CH[30] - CH[29], CH[30], CH[30] + CH[31]], \n",
        "                      'VBR': [30 - CH[32], 30, 30]}\n",
        "    fuzzyDescription['outputs']['omegaR']['M'] = omegaR_Member\n",
        "\n",
        "    omegaL_Member =  {'VSL': [0, 0, CH[33]], \n",
        "                      'SL': [CH[35] - CH[34], CH[35], CH[35] + CH[36]],\n",
        "                      'MBL': [CH[38] - CH[37], CH[38], CH[38] + CH[39]], \n",
        "                      'BL': [CH[41] - CH[40], CH[41], CH[41] + CH[42]], \n",
        "                      'VBL': [30 - CH[43], 30, 30]}\n",
        "    fuzzyDescription['outputs']['omegaL']['M'] = omegaL_Member\n",
        "\n",
        "    result['controllerParams']['fuzzyDescription'] = fuzzyDescription\n",
        "    \n",
        "    result['controllerParams']['r'] = result['robotParams']['r']\n",
        "    result['controllerParams']['b'] = result['robotParams']['b']\n",
        "    return result"
      ]
    },
    {
      "cell_type": "markdown",
      "metadata": {
        "id": "z8VjzSCPVzZd"
      },
      "source": [
        "### Chromosome Transformation used for Expert-based FLC"
      ]
    },
    {
      "cell_type": "code",
      "execution_count": null,
      "metadata": {
        "id": "w5vW0XQHV4hJ"
      },
      "outputs": [],
      "source": [
        "#////////////------USING FOR ORIGINAL EXPERT IDIA--------//////////////\n",
        "import copy\n",
        "def fromChromozomeToDescriptionFuzzy_Expert_Original(chromozome, description):\n",
        "    CH = chromozome # just for simplicity\n",
        "    result = copy.deepcopy(description)\n",
        "\n",
        "    fuzzyDescription = {\n",
        "        'inputs': {\n",
        "            'distance' : {\n",
        "                'S': list(np.arange(0, 10, 0.1)),\n",
        "                'M': {'VC': [0, 0, 1], 'NC': [0, 1, 2], 'C': [1, 2, 3], 'M': [2, 3, 5], 'NF': [3, 5, 7], 'F': [5, 7, 10], 'VF': [7, 10, 10]}\n",
        "            },\n",
        "            'angle' : {\n",
        "                'S': list(np.arange(-3.14, 3.14, 0.0628)),\n",
        "                'M': {'VBN': [-3.14, -3.14, -1.57], 'BN': [-3.14, -1.57, -0.785], 'N': [-1.57, -0.785, 0], 'Z': [-0.785, 0, 0.785], 'P': [0, 0.785, 1.57], 'BP': [0.785, 1.57, 3.14], 'VBP': [1.57, 3.14, 3.14]}\n",
        "            }\n",
        "        },\n",
        "        'outputs': {\n",
        "            'omegaR': {\n",
        "                'S': list(np.arange(0, 30, 0.3)),\n",
        "                'rules': {\n",
        "                    'VC': {'VBN': 'VSR', 'BN': 'SR',  'N': 'NMBR',  'Z': 'VSR',  'P': 'NBR',   'BP': 'BR', 'VBP': 'VBR'},\n",
        "                    'NC': {'VBN': 'VSR', 'BN': 'SR',  'N': 'NMBR',  'Z': 'SR',   'P': 'NBR',   'BP': 'BR', 'VBP': 'VBR'},\n",
        "                    'C':  {'VBN': 'VSR', 'BN': 'SR',  'N': 'NMBR',  'Z': 'NMBR', 'P': 'NBR',   'BP': 'BR', 'VBP': 'VBR'},\n",
        "                    'M':  {'VBN': 'VSR', 'BN': 'SR',  'N': 'NMBR',  'Z': 'MBR',  'P': 'NBR',   'BP': 'BR', 'VBP': 'VBR'},\n",
        "                    'NF': {'VBN': 'VSR', 'BN': 'SR',  'N': 'NMBR',  'Z': 'NBR',  'P': 'NBR',   'BP': 'BR', 'VBP': 'VBR'},\n",
        "                    'F':  {'VBN': 'VSR', 'BN': 'SR',  'N': 'NMBR',  'Z': 'BR',   'P': 'NBR',   'BP': 'BR', 'VBP': 'VBR'},\n",
        "                    'VF': {'VBN': 'VSR', 'BN': 'SR',  'N': 'NMBR',  'Z': 'VBR',  'P': 'NBR',   'BP': 'BR', 'VBP': 'VBR'}\n",
        "                },\n",
        "                'mode': 'centroid',\n",
        "                'M': {'VSR': [0, 0, 5], 'SR': [0, 5, 10], 'NMBR': [5, 10, 15], 'MBR': [10, 15, 20], 'NBR': [15, 20, 25], 'BR': [20, 25, 30], 'VBR': [25, 30, 30]}\n",
        "            },\n",
        "            'omegaL': {\n",
        "                'S': list(np.arange(0, 30, 0.3)),\n",
        "                'rules': {\n",
        "                    'VC': {'VBN': 'VBL',  'BN': 'BL', 'N': 'NBL',  'Z': 'VSL',  'P': 'NMBL',  'BP': 'SL', 'VBP': 'VSL'},\n",
        "                    'NC': {'VBN': 'VBL',  'BN': 'BL', 'N': 'NBL',  'Z': 'SL',   'P': 'NMBL',  'BP': 'SL',  'VBP': 'VSL'},\n",
        "                    'C':  {'VBN': 'VBL',  'BN': 'BL', 'N': 'NBL',  'Z': 'NMBL', 'P': 'NMBL',  'BP': 'SL',   'VBP': 'VSL'},\n",
        "                    'M':  {'VBN': 'VBL',  'BN': 'BL', 'N': 'NBL',  'Z': 'MBL',  'P': 'NMBL',  'BP': 'SL',   'VBP': 'VSL'},\n",
        "                    'NF': {'VBN': 'VBL',  'BN': 'BL', 'N': 'NBL',  'Z': 'NBL',  'P': 'NMBL',  'BP': 'SL',   'VBP': 'VSL'},\n",
        "                    'F':  {'VBN': 'VBL',  'BN': 'BL', 'N': 'NBL',  'Z': 'BL',   'P': 'NMBL',  'BP': 'SL',   'VBP': 'VSL'},\n",
        "                    'VF': {'VBN': 'VBL',  'BN': 'BL', 'N': 'NBL',  'Z': 'VBL',  'P': 'NMBL',  'BP': 'SL',   'VBP': 'VSL'}\n",
        "                },\n",
        "                'mode': 'centroid',\n",
        "                'M': {'VSL': [0, 0, 5], 'SL': [0, 5, 10], 'NMBL': [5, 10, 15], 'MBL': [10, 15, 20], 'NBL': [15, 20, 25], 'BL': [20, 25, 30], 'VBL': [25, 30, 30]}\n",
        "            }\n",
        "        }\n",
        "    }     \n",
        "\n",
        "    \n",
        "    distance_Member = {'VC': [0, 0, CH[0]], \n",
        "                       'NC': [CH[2] - CH[1], CH[2], CH[2] + CH[3]],\n",
        "                       'C':  [CH[5] - CH[4], CH[5], CH[5] + CH[6]],\n",
        "                       'M':  [CH[8] - CH[7], CH[8], CH[8] + CH[9]],\n",
        "                       'NF': [CH[11] - CH[10], CH[11], CH[11] + CH[12]],\n",
        "                       'F': [CH[14] - CH[13], CH[14], CH[14] + CH[15]], \n",
        "                       'VF': [10 - CH[16], 10, 10]}\n",
        "    fuzzyDescription['inputs']['distance']['M'] = distance_Member\n",
        "\n",
        "    angle_Member = {'VBN': [-3.14, -3.14, -3.14 + CH[17]], \n",
        "                    'BN':  [CH[19] - CH[18], CH[19], CH[19] + CH[20]],\n",
        "                    'N':   [CH[22] - CH[21], CH[22], CH[22] + CH[23]], \n",
        "                    'Z':   [CH[25] - CH[24], CH[25], CH[25] + CH[26]],\n",
        "                    'P':   [CH[28] - CH[27], CH[28], CH[28] + CH[29]],\n",
        "                    'BP':  [CH[31] - CH[30], CH[31], CH[31] + CH[32]], \n",
        "                    'VBP': [3.14 - CH[33], 3.14, 3.14]}    \n",
        "    fuzzyDescription['inputs']['angle']['M'] = angle_Member\n",
        "\n",
        "    omegaR_Member =  {'VSR':  [0, 0, CH[34]], \n",
        "                      'SR':   [CH[36] - CH[35], CH[36], CH[36] + CH[37]],\n",
        "                      'NMBR': [CH[39] - CH[38], CH[39], CH[39] + CH[40]], \n",
        "                      'MBR':  [CH[42] - CH[41], CH[42], CH[42] + CH[43]],\n",
        "                      'NBR':  [CH[45] - CH[44], CH[45], CH[45] + CH[46]],\n",
        "                      'BR':   [CH[48] - CH[47], CH[48], CH[48] + CH[49]], \n",
        "                      'VBR':  [30 - CH[50], 30, 30]}\n",
        "    fuzzyDescription['outputs']['omegaR']['M'] = omegaR_Member\n",
        "\n",
        "    omegaL_Member =  {'VSL':  [0, 0, CH[51]], \n",
        "                      'SL':   [CH[53] - CH[52], CH[53], CH[53] + CH[54]],\n",
        "                      'NMBL': [CH[56] - CH[55], CH[56], CH[56] + CH[57]], \n",
        "                      'MBL':  [CH[59] - CH[58], CH[59], CH[59] + CH[60]],\n",
        "                      'NBL':  [CH[62] - CH[61], CH[62], CH[62] + CH[63]], \n",
        "                      'BL':   [CH[65] - CH[64], CH[65], CH[65] + CH[66]],\n",
        "                      'VBL':  [30 - CH[67], 30, 30]}\n",
        "    fuzzyDescription['outputs']['omegaL']['M'] = omegaL_Member\n",
        "\n",
        "    result['controllerParams']['fuzzyDescription'] = fuzzyDescription\n",
        "    \n",
        "    result['controllerParams']['r'] = result['robotParams']['r']\n",
        "    result['controllerParams']['b'] = result['robotParams']['b']\n",
        "    return result"
      ]
    },
    {
      "cell_type": "code",
      "execution_count": null,
      "metadata": {
        "id": "H6JbMmk7pYq_"
      },
      "outputs": [],
      "source": [
        "#//////////////---------USING FOR IMPROVING EXPERT IDEA-------////////////////////\n",
        "import copy\n",
        "def fromChromozomeToDescriptionFuzzy_Expert(chromozome, description):\n",
        "    CH = chromozome # just for simplicity\n",
        "    result = copy.deepcopy(description)\n",
        "\n",
        "    fuzzyDescription = {\n",
        "        'inputs': {\n",
        "            'distance' : {\n",
        "                'S': list(np.arange(0, 10, 0.1)),\n",
        "                'M': {'VC': [0, 0, 1], 'NC': [0, 1, 2], 'C': [1, 2, 3], 'M': [1, 3, 5], 'NF': [3, 5, 7], 'F': [5, 7, 10], 'VF': [7, 10, 10]}\n",
        "            },\n",
        "            'angle' : {\n",
        "                'S': list(np.arange(-3.14, 3.14, 0.0628)),\n",
        "                'M': {'VBN': [-3.14, -3.14, -1.57], 'BN': [-3.14, -1.57, -0.785], 'N': [-1.57, -0.785, 0], 'Z': [-0.785, 0, 0.785], 'P': [0, 0.785, 1.57], 'BP': [0.785, 1.57, 3.14], 'VBP': [1.57, 3.14, 3.14]}\n",
        "            }\n",
        "        },\n",
        "        'outputs': {\n",
        "            'omegaR': {\n",
        "                'S': list(np.arange(0, 30, 0.3)),\n",
        "                'rules': {\n",
        "                    'VC': {'VBN': 'VSR', 'BN': 'SR',  'N': 'NMBR',  'Z': 'VSR',  'P': 'NBR',   'BP': 'BR', 'VBP': 'VBR'},\n",
        "                    'NC': {'VBN': 'VSR', 'BN': 'SR',  'N': 'NMBR',  'Z': 'SR',   'P': 'NBR',   'BP': 'BR', 'VBP': 'VBR'},\n",
        "                    'C':  {'VBN': 'VSR', 'BN': 'SR',  'N': 'NMBR',  'Z': 'NMBR', 'P': 'NBR',   'BP': 'BR', 'VBP': 'VBR'},\n",
        "                    'M':  {'VBN': 'VSR', 'BN': 'SR',  'N': 'NMBR',  'Z': 'MBR',  'P': 'NBR',   'BP': 'BR', 'VBP': 'VBR'},\n",
        "                    'NF': {'VBN': 'VSR', 'BN': 'SR',  'N': 'NMBR',  'Z': 'NBR',  'P': 'NBR',   'BP': 'BR', 'VBP': 'VBR'},\n",
        "                    'F':  {'VBN': 'VSR', 'BN': 'SR',  'N': 'NMBR',  'Z': 'BR',   'P': 'NBR',   'BP': 'BR', 'VBP': 'VBR'},\n",
        "                    'VF': {'VBN': 'VSR', 'BN': 'SR',  'N': 'NMBR',  'Z': 'VBR',  'P': 'NBR',   'BP': 'BR', 'VBP': 'VBR'}\n",
        "                },\n",
        "                'mode': 'centroid',\n",
        "                'M': {'VSR': [0, 0, 5], 'SR': [0, 5, 10], 'NMBR': [5, 10, 15], 'MBR': [10, 15, 20], 'NBR': [15, 20, 25], 'BR': [20, 25, 30], 'VBR': [25, 30, 30]}\n",
        "            },\n",
        "            'omegaL': {\n",
        "                'S': list(np.arange(0, 30, 0.3)),\n",
        "                'rules': {\n",
        "                    'VC': {'VBN': 'VBL',  'BN': 'BL', 'N': 'NBL',  'Z': 'VSL',  'P': 'NMBL',  'BP': 'SL', 'VBP': 'VSL'},\n",
        "                    'NC': {'VBN': 'VBL',  'BN': 'BL', 'N': 'NBL',  'Z': 'SL',   'P': 'NMBL',  'BP': 'SL',  'VBP': 'VSL'},\n",
        "                    'C':  {'VBN': 'VBL',  'BN': 'BL', 'N': 'NBL',  'Z': 'NMBL', 'P': 'NMBL',  'BP': 'SL',   'VBP': 'VSL'},\n",
        "                    'M':  {'VBN': 'VBL',  'BN': 'BL', 'N': 'NBL',  'Z': 'MBL',  'P': 'NMBL',  'BP': 'SL',   'VBP': 'VSL'},\n",
        "                    'NF': {'VBN': 'VBL',  'BN': 'BL', 'N': 'NBL',  'Z': 'NBL',  'P': 'NMBL',  'BP': 'SL',   'VBP': 'VSL'},\n",
        "                    'F':  {'VBN': 'VBL',  'BN': 'BL', 'N': 'NBL',  'Z': 'BL',   'P': 'NMBL',  'BP': 'SL',   'VBP': 'VSL'},\n",
        "                    'VF': {'VBN': 'VBL',  'BN': 'BL', 'N': 'NBL',  'Z': 'VBL',  'P': 'NMBL',  'BP': 'SL',   'VBP': 'VSL'}\n",
        "                },\n",
        "                'mode': 'centroid',\n",
        "                'M': {'VSL': [0, 0, 5], 'SL': [0, 5, 10], 'NMBL': [5, 10, 15], 'MBL': [10, 15, 20], 'NBL': [15, 20, 25], 'BL': [20, 25, 30], 'VBL': [25, 30, 30]}\n",
        "            }\n",
        "        }\n",
        "    }     \n",
        "\n",
        "    \n",
        "    distance_Member = {'VC': [0, 0, CH[0]], \n",
        "                       'NC': [CH[2] - CH[1], CH[2], CH[2] + CH[3]],\n",
        "                       'C':  [CH[5] - CH[4], CH[5], CH[5] + CH[6]],\n",
        "                       'M':  [CH[8] - CH[7], CH[8], CH[8] + CH[9]],\n",
        "                       'NF': [CH[11] - CH[10], CH[11], CH[11] + CH[12]],\n",
        "                       'F': [CH[14] - CH[13], CH[14], CH[14] + CH[15]], \n",
        "                       'VF': [10 - CH[16], 10, 10]}\n",
        "    fuzzyDescription['inputs']['distance']['M'] = distance_Member\n",
        "\n",
        "    angle_Member = {'VBN': [-3.14, -3.14, -3.14+CH[17]], \n",
        "                    'BN':  [CH[19] - CH[18], CH[19], CH[19] + CH[20]],\n",
        "                    'N':   [CH[22] - CH[21], CH[22], CH[22] + CH[23]], \n",
        "                    'Z':   [CH[25] - CH[24], CH[25], CH[25] + CH[26]],\n",
        "                    'P':   [CH[28] - CH[27], CH[28], CH[28] + CH[29]],\n",
        "                    'BP':  [CH[31] - CH[30], CH[31], CH[31] + CH[32]], \n",
        "                    'VBP': [3.14 - CH[33], 3.14, 3.14]}    \n",
        "    fuzzyDescription['inputs']['angle']['M'] = angle_Member\n",
        "\n",
        "    omegaR_Member =  {'VSR':  [0, 0, CH[34]], \n",
        "                      'SR':   [CH[36] - CH[35], CH[36], CH[36] + CH[37]],\n",
        "                      'NMBR': [CH[39] - CH[38], CH[39], CH[39] + CH[40]], \n",
        "                      'MBR':  [CH[42] - CH[41], CH[42], CH[42] + CH[43]],\n",
        "                      'NBR':  [CH[45] - CH[44], CH[45], CH[45] + CH[46]],\n",
        "                      'BR':   [CH[48] - CH[47], CH[48], CH[48] + CH[49]], \n",
        "                      'VBR':  [30 - CH[50], 30, 30]}\n",
        "    fuzzyDescription['outputs']['omegaR']['M'] = omegaR_Member\n",
        "\n",
        "    omegaL_Member =  {'VSL':  [0, 0, CH[51]], \n",
        "                      'SL':   [CH[53] - CH[52], CH[53], CH[53] + CH[54]],\n",
        "                      'NMBL': [CH[56] - CH[55], CH[56], CH[56] + CH[57]], \n",
        "                      'MBL':  [CH[59] - CH[58], CH[59], CH[59] + CH[60]],\n",
        "                      'NBL':  [CH[62] - CH[61], CH[62], CH[62] + CH[63]], \n",
        "                      'BL':   [CH[65] - CH[64], CH[65], CH[65] + CH[66]],\n",
        "                      'VBL':  [30 - CH[67], 30, 30]}\n",
        "    fuzzyDescription['outputs']['omegaL']['M'] = omegaL_Member\n",
        "\n",
        "    result['controllerParams']['fuzzyDescription'] = fuzzyDescription\n",
        "    \n",
        "    result['controllerParams']['r'] = result['robotParams']['r']\n",
        "    result['controllerParams']['b'] = result['robotParams']['b']\n",
        "    return result"
      ]
    },
    {
      "cell_type": "markdown",
      "metadata": {
        "id": "vWgLYhqPsVB_"
      },
      "source": [
        "### Chromosome Transformation used Mohammadian-based FLC_GA"
      ]
    },
    {
      "cell_type": "code",
      "execution_count": null,
      "metadata": {
        "id": "fNC-CheUsdyT"
      },
      "outputs": [],
      "source": [
        "#///////////////-------USING FOR ORIGINAL IDEA Mohammadian---------/////////////////\n",
        "import copy\n",
        "def fromChromozomeToDescriptionFuzzy_Mohammadian_Original(chromozome, description):\n",
        "    CH = chromozome # just for simplicity\n",
        "    result = copy.deepcopy(description)\n",
        "\n",
        "    fuzzyDescription = {\n",
        "        'inputs': {\n",
        "            'distance' : {\n",
        "                'S': list(np.arange(0, 10, 0.1)),\n",
        "                'M': {'VC': [0, 0, 2.5], 'C': [0, 2.5, 7.5], 'M': [2.5, 5, 7.5], 'F': [5, 7.5, 10], 'VF': [7.5, 10, 10]}\n",
        "            },\n",
        "            'angle' : {\n",
        "                'S': list(np.arange(-3.14, 3.14, 0.0628)),\n",
        "                'M': {'BN': [-3.14, -3.14, -1.57], 'N': [-3.14, -1.57, 0], 'Z': [-1.57, 0, 1.57], 'P': [0, 1.57, 3.14], 'BP': [1.57, 3.14, 3.14]}\n",
        "            }\n",
        "        },\n",
        "        'outputs': {\n",
        "            'omegaR': {\n",
        "                'S': list(np.arange(0, 30, 0.3)),\n",
        "                'rules': {\n",
        "                    'VC': {'BN': 'VSR', 'N': 'SR', 'Z': 'VSR', 'P': 'BR', 'BP': 'VBR'},\n",
        "                    'C': {'BN': 'VSR', 'N': 'SR', 'Z': 'SR', 'P': 'BR', 'BP': 'VBR'},\n",
        "                    'M': {'BN': 'VSR', 'N': 'SR', 'Z': 'MBR', 'P': 'BR', 'BP': 'VBR'},\n",
        "                    'F': {'BN': 'VSR', 'N': 'SR', 'Z': 'BR', 'P': 'BR', 'BP': 'VBR'},\n",
        "                    'VF': {'BN': 'VSR', 'N': 'SR', 'Z': 'VBR', 'P': 'BR', 'BP': 'VBR'}\n",
        "                },\n",
        "                'mode': 'centroid',\n",
        "                'M': {'VSR': [0, 0, 7.5], 'SR': [0, 7.5, 15], 'MBR': [7.5, 15, 22.5], 'BR': [15, 22.5, 30], 'VBR': [22.5, 30, 30]}\n",
        "            },\n",
        "            'omegaL': {\n",
        "                'S': list(np.arange(0, 30, 0.3)),\n",
        "                'rules': {\n",
        "                    'VC': {'BN': 'VBL', 'N': 'BL', 'Z': 'VSL', 'P': 'SL', 'BP': 'VSL'},\n",
        "                    'C': {'BN': 'VBL', 'N': 'BL', 'Z': 'SL', 'P': 'SL', 'BP': 'VSL'},\n",
        "                    'M': {'BN': 'VBL', 'N': 'BL', 'Z': 'MBL', 'P': 'SL', 'BP': 'VSL'},\n",
        "                    'F': {'BN': 'VBL', 'N': 'BL', 'Z': 'BL', 'P': 'SL', 'BP': 'VSL'},\n",
        "                    'VF': {'BN': 'VBL', 'N': 'BL', 'Z': 'VBL', 'P': 'SL', 'BP': 'VSL'} \n",
        "                },\n",
        "                'mode': 'centroid',\n",
        "                'M': {'VSL': [0, 0, 7.5], 'SL': [0, 7.5, 15], 'MBL': [7.5, 15, 22.5], 'BL': [15, 22.5, 30], 'VBL': [22.5, 30, 30]}\n",
        "            }\n",
        "        }\n",
        "    }     \n",
        "\n",
        "    \n",
        "    distance_Member = {'VC': [0, 0, 2.5], \n",
        "                       'C':  [0, 2.5, 5],\n",
        "                       'M': [2.5, 5, 7.5],\n",
        "                       'F': [5, 7.5, 10], \n",
        "                       'VF': [7.5, 10, 10]}\n",
        "    fuzzyDescription['inputs']['distance']['M'] = distance_Member\n",
        "\n",
        "    angle_Member = {'BN': [-3.14, -3.14, -1.57], \n",
        "                    'N': [-3.14, -1.57, 0],\n",
        "                    'Z': [-1.57, 0, 1.57], \n",
        "                    'P': [0, 1.57, 3.14], \n",
        "                    'BP': [1.57, 3.14, 3.14]}    \n",
        "    fuzzyDescription['inputs']['angle']['M'] = angle_Member\n",
        "\n",
        "    omegaR_Member =  {'VSR': [0, 0, 7.5], \n",
        "                      'SR': [7.5-CH[0], 7.5, 7.5+CH[1]],\n",
        "                      'MBR': [7.5, 15, 22.5], \n",
        "                      'BR': [22.5-CH[2], 22.5, 22.5+CH[3]], \n",
        "                      'VBR': [22.5, 30, 30]}\n",
        "    fuzzyDescription['outputs']['omegaR']['M'] = omegaR_Member\n",
        "\n",
        "    omegaL_Member =  {'VSL': [0, 0, 7.5], \n",
        "                      'SL': [7.5-CH[4], 7.5, 7.5+CH[5]],\n",
        "                      'MBL': [7.5, 15, 22.5], \n",
        "                      'BL': [22.5-CH[6], 22.5, 22.5+CH[7]], \n",
        "                      'VBL': [22.5, 30, 30]}\n",
        "    fuzzyDescription['outputs']['omegaL']['M'] = omegaL_Member\n",
        "\n",
        "    result['controllerParams']['fuzzyDescription'] = fuzzyDescription\n",
        "    \n",
        "    result['controllerParams']['r'] = result['robotParams']['r']\n",
        "    result['controllerParams']['b'] = result['robotParams']['b']\n",
        "    return result"
      ]
    },
    {
      "cell_type": "code",
      "execution_count": null,
      "metadata": {
        "id": "5LpAek8X3CtL"
      },
      "outputs": [],
      "source": [
        "#/////////////////-------------FOR OPTIMIZATION Mohammadian USING GA-------CA INPUT VA OUTPUT----//////////////////////////////\n",
        "import copy\n",
        "def fromChromozomeToDescriptionFuzzy_Mohammadian_Improve(chromozome, description):\n",
        "    CH = chromozome # just for simplicity\n",
        "    result = copy.deepcopy(description)\n",
        "\n",
        "    fuzzyDescription = {\n",
        "        'inputs': {\n",
        "            'distance' : {\n",
        "                'S': list(np.arange(0, 10, 0.1)),\n",
        "                'M': {'VC': [0, 0, 2.5], 'C': [0, 2.5, 7.5], 'M': [2.5, 5, 7.5], 'F': [5, 7.5, 10], 'VF': [7.5, 10, 10]}\n",
        "            },\n",
        "            'angle' : {\n",
        "                'S': list(np.arange(-3.14, 3.14, 0.0628)),\n",
        "                'M': {'BN': [-3.14, -3.14, -1.57], 'N': [-3.14, -1.57, 0], 'Z': [-1.57, 0, 1.57], 'P': [0, 1.57, 3.14], 'BP': [1.57, 3.14, 3.14]}\n",
        "            }\n",
        "        },\n",
        "        'outputs': {\n",
        "            'omegaR': {\n",
        "                'S': list(np.arange(0, 30, 0.3)),\n",
        "                'rules': {\n",
        "                    'VC': {'BN': 'VSR', 'N': 'SR', 'Z': 'VSR', 'P': 'BR', 'BP': 'VBR'},\n",
        "                    'C': {'BN': 'VSR', 'N': 'SR', 'Z': 'SR', 'P': 'BR', 'BP': 'VBR'},\n",
        "                    'M': {'BN': 'VSR', 'N': 'SR', 'Z': 'MBR', 'P': 'BR', 'BP': 'VBR'},\n",
        "                    'F': {'BN': 'VSR', 'N': 'SR', 'Z': 'BR', 'P': 'BR', 'BP': 'VBR'},\n",
        "                    'VF': {'BN': 'VSR', 'N': 'SR', 'Z': 'VBR', 'P': 'BR', 'BP': 'VBR'}\n",
        "                },\n",
        "                'mode': 'centroid',\n",
        "                'M': {'VSR': [0, 0, 7.5], 'SR': [0, 7.5, 15], 'MBR': [7.5, 15, 22.5], 'BR': [15, 22.5, 30], 'VBR': [22.5, 30, 30]}\n",
        "            },\n",
        "            'omegaL': {\n",
        "                'S': list(np.arange(0, 30, 0.3)),\n",
        "                'rules': {\n",
        "                    'VC': {'BN': 'VBL', 'N': 'BL', 'Z': 'VSL', 'P': 'SL', 'BP': 'VSL'},\n",
        "                    'C': {'BN': 'VBL', 'N': 'BL', 'Z': 'SL', 'P': 'SL', 'BP': 'VSL'},\n",
        "                    'M': {'BN': 'VBL', 'N': 'BL', 'Z': 'MBL', 'P': 'SL', 'BP': 'VSL'},\n",
        "                    'F': {'BN': 'VBL', 'N': 'BL', 'Z': 'BL', 'P': 'SL', 'BP': 'VSL'},\n",
        "                    'VF': {'BN': 'VBL', 'N': 'BL', 'Z': 'VBL', 'P': 'SL', 'BP': 'VSL'} \n",
        "                },\n",
        "                'mode': 'centroid',\n",
        "                'M': {'VSL': [0, 0, 7.5], 'SL': [0, 7.5, 15], 'MBL': [7.5, 15, 22.5], 'BL': [15, 22.5, 30], 'VBL': [22.5, 30, 30]}\n",
        "            }\n",
        "        }\n",
        "    }     \n",
        "\n",
        "\n",
        "    \n",
        "    distance_Member = {'VC': [0, 0, CH[0]], \n",
        "                       'C': [CH[2] - CH[1], CH[2], CH[2] + CH[3]],\n",
        "                       'M': [CH[5] - CH[4], CH[5], CH[5] + CH[6]],\n",
        "                       'F': [CH[8] - CH[7], CH[8], CH[8] + CH[9]], \n",
        "                       'VF': [10 - CH[10], 10, 10]}\n",
        "    fuzzyDescription['inputs']['distance']['M'] = distance_Member\n",
        "\n",
        "    angle_Member = {'BN': [-3.14, -3.14, -3.14+CH[11]], \n",
        "                    'N': [CH[13] - CH[12], CH[13], CH[13] + CH[14]],\n",
        "                    'Z': [CH[16] - CH[15], CH[16], CH[16] + CH[17]], \n",
        "                    'P': [CH[19] - CH[18], CH[19], CH[19] + CH[20]], \n",
        "                    'BP': [3.14 - CH[21], 3.14, 3.14]}    \n",
        "    fuzzyDescription['inputs']['angle']['M'] = angle_Member\n",
        "\n",
        "    omegaR_Member =  {'VSR': [0, 0, CH[22]], \n",
        "                      'SR': [CH[24] - CH[23], CH[24], CH[24] + CH[25]],\n",
        "                      'MBR': [CH[27] - CH[26], CH[27], CH[27] + CH[28]], \n",
        "                      'BR': [CH[30] - CH[29], CH[30], CH[30] + CH[31]], \n",
        "                      'VBR': [30 - CH[32], 30, 30]}\n",
        "    fuzzyDescription['outputs']['omegaR']['M'] = omegaR_Member\n",
        "\n",
        "    omegaL_Member =  {'VSL': [0, 0, CH[33]], \n",
        "                      'SL': [CH[35] - CH[34], CH[35], CH[35] + CH[36]],\n",
        "                      'MBL': [CH[38] - CH[37], CH[38], CH[38] + CH[39]], \n",
        "                      'BL': [CH[41] - CH[40], CH[41], CH[41] + CH[42]], \n",
        "                      'VBL': [30 - CH[43], 30, 30]}\n",
        "    fuzzyDescription['outputs']['omegaL']['M'] = omegaL_Member\n",
        "\n",
        "    result['controllerParams']['fuzzyDescription'] = fuzzyDescription\n",
        "    \n",
        "    result['controllerParams']['r'] = result['robotParams']['r']\n",
        "    result['controllerParams']['b'] = result['robotParams']['b']\n",
        "    return result"
      ]
    },
    {
      "cell_type": "code",
      "execution_count": null,
      "metadata": {
        "id": "VZ_EFqdHp_r1"
      },
      "outputs": [],
      "source": [
        "#/////////////////-------------FOR OPTIMIZATION Mohammadian USING GA-------CHI CO OUTPUT----//////////////////////////////\n",
        "import copy\n",
        "def fromChromozomeToDescriptionFuzzy_Mohammadian(chromozome, description):\n",
        "    CH = chromozome # just for simplicity\n",
        "    result = copy.deepcopy(description)\n",
        "\n",
        "    fuzzyDescription = {\n",
        "        'inputs': {\n",
        "            'distance' : {\n",
        "                'S': list(np.arange(0, 10, 0.1)),\n",
        "                'M': {'VC': [0, 0, 2.5], 'C': [0, 2.5, 7.5], 'M': [2.5, 5, 7.5], 'F': [5, 7.5, 10], 'VF': [7.5, 10, 10]}\n",
        "            },\n",
        "            'angle' : {\n",
        "                'S': list(np.arange(-3.14, 3.14, 0.0628)),\n",
        "                'M': {'BN': [-3.14, -3.14, -1.57], 'N': [-3.14, -1.57, 0], 'Z': [-1.57, 0, 1.57], 'P': [0, 1.57, 3.14], 'BP': [1.57, 3.14, 3.14]}\n",
        "            }\n",
        "        },\n",
        "        'outputs': {\n",
        "            'omegaR': {\n",
        "                'S': list(np.arange(0, 30, 0.3)),\n",
        "                'rules': {\n",
        "                    'VC': {'BN': 'VSR', 'N': 'SR', 'Z': 'VSR', 'P': 'BR', 'BP': 'VBR'},\n",
        "                    'C': {'BN': 'VSR', 'N': 'SR', 'Z': 'SR', 'P': 'BR', 'BP': 'VBR'},\n",
        "                    'M': {'BN': 'VSR', 'N': 'SR', 'Z': 'MBR', 'P': 'BR', 'BP': 'VBR'},\n",
        "                    'F': {'BN': 'VSR', 'N': 'SR', 'Z': 'BR', 'P': 'BR', 'BP': 'VBR'},\n",
        "                    'VF': {'BN': 'VSR', 'N': 'SR', 'Z': 'VBR', 'P': 'BR', 'BP': 'VBR'}\n",
        "                },\n",
        "                'mode': 'centroid',\n",
        "                'M': {'VSR': [0, 0, 7.5], 'SR': [0, 7.5, 15], 'MBR': [7.5, 15, 22.5], 'BR': [15, 22.5, 30], 'VBR': [22.5, 30, 30]}\n",
        "            },\n",
        "            'omegaL': {\n",
        "                'S': list(np.arange(0, 30, 0.3)),\n",
        "                'rules': {\n",
        "                    'VC': {'BN': 'VBL', 'N': 'BL', 'Z': 'VSL', 'P': 'SL', 'BP': 'VSL'},\n",
        "                    'C': {'BN': 'VBL', 'N': 'BL', 'Z': 'SL', 'P': 'SL', 'BP': 'VSL'},\n",
        "                    'M': {'BN': 'VBL', 'N': 'BL', 'Z': 'MBL', 'P': 'SL', 'BP': 'VSL'},\n",
        "                    'F': {'BN': 'VBL', 'N': 'BL', 'Z': 'BL', 'P': 'SL', 'BP': 'VSL'},\n",
        "                    'VF': {'BN': 'VBL', 'N': 'BL', 'Z': 'VBL', 'P': 'SL', 'BP': 'VSL'} \n",
        "                },\n",
        "                'mode': 'centroid',\n",
        "                'M': {'VSL': [0, 0, 7.5], 'SL': [0, 7.5, 15], 'MBL': [7.5, 15, 22.5], 'BL': [15, 22.5, 30], 'VBL': [22.5, 30, 30]}\n",
        "            }\n",
        "        }\n",
        "    }     \n",
        "\n",
        "\n",
        "    \n",
        "    distance_Member = {'VC': [0, 0, 2.5], \n",
        "                       'C':  [0, 2.5, 5],\n",
        "                       'M': [2.5, 5, 7.5],\n",
        "                       'F': [5, 7.5, 10], \n",
        "                       'VF': [7.5, 10, 10]}\n",
        "    fuzzyDescription['inputs']['distance']['M'] = distance_Member\n",
        "\n",
        "    angle_Member = {'BN': [-3.14, -3.14, -1.57], \n",
        "                    'N': [-3.14, -1.57, 0],\n",
        "                    'Z': [-1.57, 0, 1.57], \n",
        "                    'P': [0, 1.57, 3.14], \n",
        "                    'BP': [1.57, 3.14, 3.14]}    \n",
        "    fuzzyDescription['inputs']['angle']['M'] = angle_Member\n",
        "\n",
        "    omegaR_Member =  {'VSR': [0, 0, CH[0]], \n",
        "                      'SR': [CH[2] - CH[1], CH[2], CH[2] + CH[3]],\n",
        "                      'MBR': [CH[5] - CH[4], CH[5], CH[5] + CH[6]], \n",
        "                      'BR': [CH[8] - CH[7], CH[8], CH[8] + CH[9]], \n",
        "                      'VBR': [30 - CH[10], 30, 30]}\n",
        "    fuzzyDescription['outputs']['omegaR']['M'] = omegaR_Member\n",
        "\n",
        "    omegaL_Member =  {'VSL': [0, 0, CH[11]], \n",
        "                      'SL': [CH[13] - CH[12], CH[13], CH[13] + CH[14]],\n",
        "                      'MBL': [CH[16] - CH[15], CH[16], CH[16] + CH[17]], \n",
        "                      'BL': [CH[19] - CH[18], CH[19], CH[19] + CH[20]], \n",
        "                      'VBL': [30 - CH[21], 30, 30]}\n",
        "    fuzzyDescription['outputs']['omegaL']['M'] = omegaL_Member\n",
        "\n",
        "    result['controllerParams']['fuzzyDescription'] = fuzzyDescription\n",
        "    \n",
        "    result['controllerParams']['r'] = result['robotParams']['r']\n",
        "    result['controllerParams']['b'] = result['robotParams']['b']\n",
        "    return result"
      ]
    },
    {
      "cell_type": "markdown",
      "metadata": {
        "id": "UWDmy6QsA8AC"
      },
      "source": [
        "#### Demo of Use"
      ]
    },
    {
      "cell_type": "code",
      "execution_count": null,
      "metadata": {
        "id": "S5Gm7hWvA8AC"
      },
      "outputs": [],
      "source": [
        "\n",
        "def localDemo():\n",
        "    _chromosome = [ 6.25366018e-01,  1.46639889e+00,  6.86498991e-02,  7.68093084e-01,\n",
        "  2.94696025e-01,  8.19657937e-01,  7.66707859e-01,  3.30363761e-01,\n",
        "  1.59154795e+00,  3.82371835e-01,  3.19164222e-01,  2.25863186e-01,\n",
        "  5.40214083e+00, -2.87811455e+00,  3.22315195e+00,  5.24697655e+00,\n",
        " -2.18191386e-02,  2.35114508e-02,  2.29313174e+00,  2.71500790e+00,\n",
        "  1.72456119e+00,  3.34836959e+00,  1.62090031e+01,  2.21135246e+01,\n",
        "  4.62340233e+00,  9.07996460e+00,  2.99889795e+01,  1.59696212e+01,\n",
        "  1.20020626e+01,  2.32626634e+01,  1.81445098e+01,  1.61965141e+01,\n",
        "  2.16820148e+01,  5.66692201e+00,  7.02338927e-01,  2.90220179e+00,\n",
        "  1.46153727e+01,  1.93699985e+01,  1.47587643e+01,  6.76618158e+00,\n",
        "  4.15791676e+00,  2.87105164e+01,  1.39444156e+01,  1.14641525e+01]\n",
        "\n",
        "    #fuzzyLogicSimulationDescription = fromChromozomeToDescriptionFuzzy(_chromosome, simulationDescription)\n",
        "    #fuzzyLogicSimulationDescription = fromChromozomeToDescriptionFuzzy_Thoa(_chromosome, simulationDescription)\n",
        "    fuzzyLogicSimulationDescription = fromChromozomeToDescriptionFuzzy_Mohammadian(_chromosome, simulationDescription)\n",
        "    results = runSimulation(fuzzyLogicSimulationDescription, createFuzzyController, selectors=selectors)\n",
        "\n",
        "    plt.plot(results['x'], results['y'])\n",
        "    \n",
        "if _runDemos:\n",
        "    localDemo()\n"
      ]
    },
    {
      "cell_type": "markdown",
      "metadata": {
        "id": "RZUKye1mA8AC"
      },
      "source": [
        "## Path Mapping Function"
      ]
    },
    {
      "cell_type": "markdown",
      "metadata": {
        "id": "3R0-amb-A8AC"
      },
      "source": [
        "This function allows to easy transform a data structure simulation description from path which a robot has to follow."
      ]
    },
    {
      "cell_type": "code",
      "execution_count": null,
      "metadata": {
        "id": "PRcpaMkZA8AC"
      },
      "outputs": [],
      "source": [
        "import copy\n",
        "def fromPathToDescription(path, description):\n",
        "    result = copy.deepcopy(description)\n",
        "    result['path'] = list(path)\n",
        "    return result"
      ]
    },
    {
      "cell_type": "markdown",
      "metadata": {
        "id": "Z6JfWpThhVjo"
      },
      "source": [
        "## Fitness Functions (Based on Chromozomes)"
      ]
    },
    {
      "cell_type": "markdown",
      "metadata": {
        "id": "KiZyaEB3A8AD"
      },
      "source": [
        "For optimization a fitness function is needed. The simulation function has been defined earlier in this document. A fitness function must transform chromozome into simulation description, run appropriate simulation and return all results or a subset of results. This chapter defines a bunch of fitness functions suitable for a such task."
      ]
    },
    {
      "cell_type": "markdown",
      "metadata": {
        "id": "KwB4GtLZlTIx"
      },
      "source": [
        "### Helper Functions"
      ]
    },
    {
      "cell_type": "markdown",
      "metadata": {
        "id": "tvyR3uMTA8AD"
      },
      "source": [
        "#### Function for Fitness Function Creation"
      ]
    },
    {
      "cell_type": "markdown",
      "metadata": {
        "id": "mMxM9jqwA8AD"
      },
      "source": [
        "```createFitnessFunction``` allows to create fitness function which is appropriate for description, chromosome decoder (```mapperFunction```), function which creates controller (```controllerCreator```) and, if needed, selection of subresult (```resultSelector```)."
      ]
    },
    {
      "cell_type": "code",
      "execution_count": null,
      "metadata": {
        "id": "3QgaKb7jbC4u"
      },
      "outputs": [],
      "source": [
        "def createFitnessFunction(baseDescription, mapperFunction, controllerCreator, resultSelector=lambda item: item):\n",
        "    def fitnessFunction(chromozome):\n",
        "        freshDescription = mapperFunction(chromozome, baseDescription)\n",
        "        results = runSimulation(freshDescription, controllerCreator, selectors=selectors)\n",
        "        result = resultSelector(results)\n",
        "        return result\n",
        "    return fitnessFunction"
      ]
    },
    {
      "cell_type": "code",
      "execution_count": null,
      "metadata": {
        "id": "kyqW0vFMj43X"
      },
      "outputs": [],
      "source": [
        "def energySelector(results):\n",
        "    return results['E'][-1]"
      ]
    },
    {
      "cell_type": "code",
      "execution_count": null,
      "metadata": {
        "id": "UF4CM8sMj_lu"
      },
      "outputs": [],
      "source": [
        "def distanceSelector(results):\n",
        "    return results['d'][-1]"
      ]
    },
    {
      "cell_type": "markdown",
      "metadata": {
        "id": "C76b7EWsmLL6"
      },
      "source": [
        "#### Multivalue Functions"
      ]
    },
    {
      "cell_type": "markdown",
      "metadata": {
        "id": "MdL2HWxJA8AE"
      },
      "source": [
        "```singleAsMultiValue``` transforms function with scalar value into function with vector value. Such transformation creates a functionc which can evaluate multiple values in single call."
      ]
    },
    {
      "cell_type": "code",
      "execution_count": null,
      "metadata": {
        "id": "fSDyVicrmP05"
      },
      "outputs": [],
      "source": [
        "def singleAsMultiValue(singleFunction):\n",
        "    def resultFunction(chromosomes):\n",
        "        results = []\n",
        "        for chromosome in chromosomes:\n",
        "            results.append(singleFunction(chromosome))\n",
        "        return results\n",
        "    return resultFunction"
      ]
    },
    {
      "cell_type": "markdown",
      "metadata": {
        "id": "efIGekNSlWAF"
      },
      "source": [
        "### Simulation Description"
      ]
    },
    {
      "cell_type": "markdown",
      "metadata": {
        "id": "fpZYVPYIli8p"
      },
      "source": [
        "From this point simulations depend on ```simulationDescription``` defined in next code. Thus if any change is needed this is best place for it."
      ]
    },
    {
      "cell_type": "code",
      "execution_count": null,
      "metadata": {
        "id": "7gGSqqPXicpc"
      },
      "outputs": [],
      "source": [
        "\n",
        "simulationDescription = {\n",
        "    'robotState0': {\n",
        "        'x': 0,\n",
        "        'y': 0,\n",
        "        'theta': -3.14 / 4\n",
        "    },\n",
        "\n",
        "    'path': [\n",
        "        [0, 0, 0],  #X, Y, orientation\n",
        "        [5, 0, 0], #X, Y, orientation\n",
        "        [5, 5, 0], #X, Y, orientation\n",
        "        [10, 5, 0], #X, Y, orientation\n",
        "        [10, 10, 0]\n",
        "    ],\n",
        "\n",
        "    'robotParams': {\n",
        "        'r': 0.0425,\n",
        "        'b': 0.2,\n",
        "        'm': 1.733,\n",
        "        'I': 0.008,\n",
        "        #'motorParams': None,\n",
        "        'motorParams': {\n",
        "            'J': 0.037,       #Kg.m2/s2\n",
        "            'B': 0.004,        #Nms    \n",
        "            'Kt': 0.16,    #Nm/A\n",
        "            'Ke': 0.9965,    #Nm/A        \n",
        "            'Ra': 0.37,    #Ohm\n",
        "            'La': 0.1   #H\n",
        "        }\n",
        "    },\n",
        "    \n",
        "    'controllerParams': {\n",
        "        'omega_ri': 0, 'vri': 2.0,'lowVelocityLimit': 0, \n",
        "        'highVelocityLimit': 4.0, 'lowOmegaLimit': -3.14, 'highOmegaLimit': 3.14\n",
        "    },\n",
        "\n",
        "    'simulationParams': {\n",
        "        't0': 0,\n",
        "        't_bound': 100,\n",
        "        'max_step': 0.01\n",
        "    }\n",
        "}\n"
      ]
    },
    {
      "cell_type": "markdown",
      "metadata": {
        "id": "NCcjm8hgc8D1"
      },
      "source": [
        "### Fuzzy Logic Controller"
      ]
    },
    {
      "cell_type": "markdown",
      "metadata": {
        "id": "VAmNv9U9A8AF"
      },
      "source": [
        "#### Singlevalue Functions"
      ]
    },
    {
      "cell_type": "code",
      "execution_count": null,
      "metadata": {
        "id": "3Q45mv7wiN6z"
      },
      "outputs": [],
      "source": [
        "\n",
        "fitnessFunctionFLC_Energy = createFitnessFunction(simulationDescription, fromChromozomeToDescriptionFuzzy, createFuzzyController, energySelector)\n",
        "fitnessFunctionFLC_Distance = createFitnessFunction(simulationDescription, fromChromozomeToDescriptionFuzzy, createFuzzyController, distanceSelector)\n",
        "fitnessFunctionFLC_FullResults = createFitnessFunction(simulationDescription, fromChromozomeToDescriptionFuzzy, createFuzzyController)\n"
      ]
    },
    {
      "cell_type": "code",
      "execution_count": null,
      "metadata": {
        "id": "WEa05_bCzP_O"
      },
      "outputs": [],
      "source": [
        "\n",
        "def localDemo(simulationDescription=simulationDescription):   \n",
        "    \n",
        "    chromosome = [2.5,2.5,2.5,2.5,2.5,5,2.5,2.5,7.5,2.5,2.5,  1.57,1.57,-1.57,1.57,1.57,0,1.57,1.57,1.57,1.57,1.57,  \n",
        "                    7.5,7.5,7.5,7.5,7.5,15,7.5,7.5,22.5,7.5,7.5,  7.5,7.5,7.5,7.5,7.5,15,7.5,7.5,22.5,7.5,7.5]\n",
        "    simulationDescription = fromChromozomeToDescriptionFuzzy(chromosome, simulationDescription)\n",
        "    results = fitnessFunctionFLC_FullResults(chromosome)\n",
        "    plt.plot(results['x'], results['y'])\n",
        "    \n",
        "if _runDemos:\n",
        "    localDemo()\n"
      ]
    },
    {
      "cell_type": "markdown",
      "metadata": {
        "id": "QZp7QaaJA8AF"
      },
      "source": [
        "#### Multivalue Functions"
      ]
    },
    {
      "cell_type": "code",
      "execution_count": null,
      "metadata": {
        "id": "FKY8tIQDA8AF"
      },
      "outputs": [],
      "source": [
        "\n",
        "fitnessFunctionFLC_EnergyMulti = singleAsMultiValue(fitnessFunctionFLC_Energy)\n",
        "fitnessFunctionFLC_DistanceMulti = singleAsMultiValue(fitnessFunctionFLC_Distance)\n",
        "fitnessFunctionFLC_FullResultsMulti = singleAsMultiValue(fitnessFunctionFLC_FullResults)\n"
      ]
    },
    {
      "cell_type": "markdown",
      "metadata": {
        "id": "LEwb12LLbATd"
      },
      "source": [
        "### Circle"
      ]
    },
    {
      "cell_type": "markdown",
      "metadata": {
        "id": "IEFhTSZoA8AF"
      },
      "source": [
        "#### Singlevalue Functions"
      ]
    },
    {
      "cell_type": "code",
      "execution_count": null,
      "metadata": {
        "id": "cXNm1OIdhU-5"
      },
      "outputs": [],
      "source": [
        "fitnessFunctionCircle_Energy = createFitnessFunction(simulationDescription, fromChromozomeToDescriptionCircle, createCircleControllerWithGain, energySelector)\n",
        "fitnessFunctionCircle_Distance = createFitnessFunction(simulationDescription, fromChromozomeToDescriptionCircle, createCircleControllerWithGain, distanceSelector)\n",
        "fitnessFunctionCircle_FullResults = createFitnessFunction(simulationDescription, fromChromozomeToDescriptionCircle, createCircleControllerWithGain)"
      ]
    },
    {
      "cell_type": "markdown",
      "metadata": {
        "id": "kliCxgHxiKxH"
      },
      "source": [
        "#### Multivalue Functions"
      ]
    },
    {
      "cell_type": "code",
      "execution_count": null,
      "metadata": {
        "id": "KQ0BFNAciOJy"
      },
      "outputs": [],
      "source": [
        "fitnessFunctionCircle_EnergyMulti = singleAsMultiValue(fitnessFunctionCircle_Energy)\n",
        "fitnessFunctionCircle_DistanceMulti = singleAsMultiValue(fitnessFunctionCircle_Distance)\n",
        "fitnessFunctionCircle_FullResultsMulti = singleAsMultiValue(fitnessFunctionCircle_FullResults)"
      ]
    },
    {
      "cell_type": "markdown",
      "metadata": {
        "id": "G-zTw2gzXU3z"
      },
      "source": [
        "#### Demonstration"
      ]
    },
    {
      "cell_type": "code",
      "execution_count": null,
      "metadata": {
        "id": "MVv0GSxkXXU0"
      },
      "outputs": [],
      "source": [
        "#////////////----KHONG CAN CAI NAY------//////////////\n",
        "'''\n",
        "def localDemo():\n",
        "    results = fitnessFunctionCircle_FullResults([4])\n",
        "    plt.plot(results['x'], results['y'])\n",
        "    \n",
        "if _runDemos:\n",
        "    localDemo()\n",
        "'''"
      ]
    },
    {
      "cell_type": "code",
      "execution_count": null,
      "metadata": {
        "id": "XAbkgsLNjXXy"
      },
      "outputs": [],
      "source": [
        "#////////////----KHONG CAN CAI NAY------//////////////\n",
        "'''\n",
        "def localDemo():\n",
        "    results = fitnessFunctionCircle_FullResultsMulti([[2], [8]])\n",
        "    plt.plot(results[0]['x'], results[0]['y'])\n",
        "    plt.plot(results[1]['x'], results[1]['y'])\n",
        "    \n",
        "if _runDemos:\n",
        "    localDemo()\n",
        "'''"
      ]
    },
    {
      "cell_type": "markdown",
      "metadata": {
        "id": "lOYiEMd5lHwv"
      },
      "source": [
        "### Robins"
      ]
    },
    {
      "cell_type": "markdown",
      "metadata": {
        "id": "Yum_AucTA8AH"
      },
      "source": [
        "#### Singlevalue Functions"
      ]
    },
    {
      "cell_type": "code",
      "execution_count": null,
      "metadata": {
        "id": "dimRqUwAlJnI"
      },
      "outputs": [],
      "source": [
        "\n",
        "fitnessFunctionRobins_Energy = createFitnessFunction(simulationDescription, fromChromozomeToDescriptionCircle, createCircleControllerWithGain, energySelector)\n",
        "fitnessFunctionRobins_Distance = createFitnessFunction(simulationDescription, fromChromozomeToDescriptionCircle, createCircleControllerWithGain, distanceSelector)\n",
        "fitnessFunctionRobins_FullResults = createFitnessFunction(simulationDescription, fromChromozomeToDescriptionCircle, createCircleControllerWithGain)\n"
      ]
    },
    {
      "cell_type": "markdown",
      "metadata": {
        "id": "Ab2qFZx6j5_P"
      },
      "source": [
        "#### Multivalue Functions"
      ]
    },
    {
      "cell_type": "code",
      "execution_count": null,
      "metadata": {
        "id": "sCKga8bXj-Bb"
      },
      "outputs": [],
      "source": [
        "\n",
        "fitnessFunctionRobins_EnergyMulti = singleAsMultiValue(fitnessFunctionRobins_Energy)\n",
        "fitnessFunctionRobins_DistanceMulti = singleAsMultiValue(fitnessFunctionRobins_Distance)\n",
        "fitnessFunctionRobins_FullResultsMulti = singleAsMultiValue(fitnessFunctionRobins_FullResults)\n"
      ]
    },
    {
      "cell_type": "markdown",
      "metadata": {
        "id": "Q_Hkrz5zl8GQ"
      },
      "source": [
        "## Computer Cluster Help"
      ]
    },
    {
      "cell_type": "markdown",
      "metadata": {
        "id": "UrV8gGOLME7f"
      },
      "source": [
        "Multivalue fitness function is function which takes an array of chromozomes and returns another array containing the fitness values for all given chromozomes. Body of a such function could be implemented as a parallel process which decrease time needed for its evaluation.\n",
        "\n",
        "The parallel process might be implemented in different ways. One of them, and probably the best one, is usage of distributed evaluation with help of computer cluster. Computer cluster creation is well-documented process with standard steps, thus, a scientist who want to use this technique must just define single environment, environment for evaluation of single fitness function. When you are running a computer cluster be sure that timeouts are defined appropriate. Simulation could need a couple of seconds and the balancer should be configured for it. There is not any backup for situation when the request is timed out.\n",
        "\n",
        "As an envelope around this environment the web service might be used. However, this leads to asynchronous execution. As the optimization libraries for Python are synchronous, the connection between asynchronous and synchronous parts must be created."
      ]
    },
    {
      "cell_type": "markdown",
      "metadata": {
        "id": "6aDfyUMtA8AI"
      },
      "source": [
        "### Main Function for Server"
      ]
    },
    {
      "cell_type": "markdown",
      "metadata": {
        "id": "g64ZhTcWzP_R"
      },
      "source": [
        "```evaluateSingleFLCSimulation``` is function which could be used for a webservice which transforms incomming document into simulation results."
      ]
    },
    {
      "cell_type": "code",
      "execution_count": null,
      "metadata": {
        "id": "KkzH7SuAA8AI"
      },
      "outputs": [],
      "source": [
        "def evaluateSingleFLCSimulation(description):\n",
        "    results = runSimulation(description, createFuzzyController, selectors)\n",
        "    return results"
      ]
    },
    {
      "cell_type": "code",
      "execution_count": null,
      "metadata": {
        "id": "-bXX2GEczP_S"
      },
      "outputs": [],
      "source": [
        "def localDemo():\n",
        "    simulationDescription = {\n",
        "        'robotState0': {\n",
        "            'x': 0,\n",
        "            'y': 0,\n",
        "            'theta': 0\n",
        "        },\n",
        "\n",
        "        'path': [\n",
        "            [0, 0, 0],  #X, Y, orientation\n",
        "            [5, 0, 0], #X, Y, orientation\n",
        "            [5, 5, 0], #X, Y, orientation\n",
        "            [10, 5, 0], #X, Y, orientation\n",
        "            [10, 10, 0]\n",
        "        ],\n",
        "\n",
        "        'robotParams': {\n",
        "        'r': 0.0425,\n",
        "        'b': 0.2,\n",
        "        'm': 1.733,\n",
        "        'I': 0.008,\n",
        "        #'motorParams': None,\n",
        "        'motorParams': {\n",
        "            'J': 0.037,       #Kg.m2/s2\n",
        "            'B': 0.004,        #Nms    \n",
        "            'Kt': 0.16,    #Nm/A\n",
        "            'Ke': 0.9965,    #Nm/A        \n",
        "            'Ra': 0.37,    #Ohm\n",
        "            'La': 0.1   #H\n",
        "            }\n",
        "        },\n",
        "\n",
        "        'controllerParams': {\n",
        "            'omega_ri': 0, 'vri': 2.0,'lowVelocityLimit': 0, \n",
        "        'highVelocityLimit': 4.0, 'lowOmegaLimit': -3.14, 'highOmegaLimit': 3.14\n",
        "        },\n",
        "\n",
        "        'simulationParams': {\n",
        "            't0': 0,\n",
        "            't_bound': 100,\n",
        "            'max_step': 0.01\n",
        "        }\n",
        "    }    \n",
        "    chromosome = [2.5,2.5,2.5,2.5,2.5,5,2.5,2.5,7.5,2.5,2.5,  1.57,1.57,-1.57,1.57,1.57,0,1.57,1.57,1.57,1.57,1.57,  \n",
        "                    7.5,7.5,7.5,7.5,7.5,15,7.5,7.5,22.5,7.5,7.5,  7.5,7.5,7.5,7.5,7.5,15,7.5,7.5,22.5,7.5,7.5]\n",
        "\n",
        "    description = fromChromozomeToDescriptionFuzzy(chromosome, simulationDescription)    \n",
        "    \n",
        "    results = evaluateSingleFLCSimulation(description)\n",
        "    plt.plot(results['x'], results['y'])\n",
        "    \n",
        "if _runDemos:\n",
        "   localDemo()\n",
        "  "
      ]
    },
    {
      "cell_type": "markdown",
      "metadata": {
        "id": "7witZAKHSm0-"
      },
      "source": [
        "### Async as Sync"
      ]
    },
    {
      "cell_type": "markdown",
      "metadata": {
        "id": "eOjYeP0QZAdB"
      },
      "source": [
        "For ability to evaluate set of simulations in parallel async functions should be used and maintaned. For optimization algorithms this must be callable from synchronous environment and thus a conversion from async to sync must be done. This part of code has been taken from https://stackoverflow.com/questions/49330905/how-to-run-a-coroutine-and-wait-it-result-from-a-sync-func-when-the-loop-is-runn"
      ]
    },
    {
      "cell_type": "code",
      "execution_count": null,
      "metadata": {
        "id": "KVj2C_6RSoE2"
      },
      "outputs": [],
      "source": [
        "import asyncio\n",
        "import threading\n",
        "#----------------------------------------\n",
        "# upgraded from https://stackoverflow.com/questions/49330905/how-to-run-a-coroutine-and-wait-it-result-from-a-sync-func-when-the-loop-is-runn\n",
        "#----------------------------------------\n",
        "\n",
        "def evalSet(asyncTask, values):\n",
        "    loop = asyncio.new_event_loop() # construct a new event loop\n",
        "\n",
        "    def run_forever_safe(loop):\n",
        "        loop.run_forever()\n",
        "        # for Python 3.7 and newer\n",
        "        loop_tasks_all = asyncio.all_tasks(loop=loop)\n",
        "        # for Python 3.6\n",
        "        #loop_tasks_all = asyncio.Task.all_tasks(loop=loop)\n",
        "\n",
        "        for task in loop_tasks_all: \n",
        "            task.cancel()\n",
        "\n",
        "        for task in loop_tasks_all:\n",
        "            if not (task.done() or task.cancelled()):\n",
        "                try:\n",
        "                    #wait for task cancellations\n",
        "                    loop.run_until_complete(task)\n",
        "                except asyncio.CancelledError: pass\n",
        "\n",
        "        loop.close()\n",
        "    \n",
        "    def stop_loop(loop):\n",
        "        ''' stops an event loop '''\n",
        "        loop.stop()\n",
        "        #print (\".:) LOOP STOPPED:\", loop.is_running())\n",
        "        \n",
        "    def await_sync(task):\n",
        "        ''' synchronously waits for a task '''\n",
        "        while not task.done(): \n",
        "            pass\n",
        "        #print(\".: AWAITED TASK DONE\")\n",
        "        return task.result()\n",
        "    \n",
        "    #-- closures for running and stopping the event-loop\n",
        "    run_loop_forever = lambda: run_forever_safe(loop)\n",
        "    close_loop_safe = lambda: loop.call_soon_threadsafe(stop_loop, loop)\n",
        "    \n",
        "    #-- make dedicated thread for running the event loop\n",
        "    thread = threading.Thread(target=run_loop_forever)\n",
        "\n",
        "    #-- add some tasks along with my particular task\n",
        "    evaluationTasks = [asyncio.run_coroutine_threadsafe(asyncTask(value), loop=loop) for value in values]\n",
        "\n",
        "    #-- begin the thread to run the event-loop\n",
        "    thread.start()\n",
        "\n",
        "    #-- _synchronously_ wait for the result of my task\n",
        "    results = [await_sync(task) for task in evaluationTasks]\n",
        "\n",
        "    # close the loop gracefully when everything is finished\n",
        "    close_loop_safe()\n",
        "    thread.join()\n",
        "    return results\n",
        "#----------------------------------------"
      ]
    },
    {
      "cell_type": "markdown",
      "metadata": {
        "id": "VcEp1g5vSvk8"
      },
      "source": [
        "### Webservice Usage"
      ]
    },
    {
      "cell_type": "code",
      "execution_count": null,
      "metadata": {
        "id": "bx7zSJkeTptg"
      },
      "outputs": [],
      "source": [
        "!pip install aiohttp"
      ]
    },
    {
      "cell_type": "code",
      "execution_count": null,
      "metadata": {
        "id": "q5VTH7O5SxqN"
      },
      "outputs": [],
      "source": [
        "import time\n",
        "def mS(start = 0):\n",
        "    return int(round(time.time() * 1000)) - start"
      ]
    },
    {
      "cell_type": "markdown",
      "metadata": {
        "id": "bm2qPPFtZs98"
      },
      "source": [
        "This part encapsules a remote fitness function evaluator. Parameter describes fully the simulation thus a remote evaluator does not make any conversion, just run the described simulation and returns the results.\n",
        "\n",
        "This function is crucial in use of computer cluster on client side. Also this is a point where the evaluation could be redirected to proper sources."
      ]
    },
    {
      "cell_type": "code",
      "execution_count": null,
      "metadata": {
        "id": "RuUrMNTaBsHV"
      },
      "outputs": [],
      "source": [
        "import aiohttp\n",
        "import asyncio\n",
        "\n",
        "url = 'https://.........../api/evaluator/FFFF'# Must use your url here\n",
        "\n",
        "async def fitnessFunctionAsWebservice(value):\n",
        "    #async with aiohttp.ClientSession() as session:\n",
        "    async with aiohttp.ClientSession(connector=aiohttp.TCPConnector(ssl=False)) as session:\n",
        "        response = await session.post(url, json=value, headers = {'content-type': 'application/x-json'})\n",
        "        try:\n",
        "            json_body = await response.json()\n",
        "        except:\n",
        "            rtext = await response.text()\n",
        "            print(rtext)\n",
        "    return json_body"
      ]
    },
    {
      "cell_type": "code",
      "execution_count": null,
      "metadata": {
        "id": "yGci5qkTzP_T"
      },
      "outputs": [],
      "source": [
        "\n",
        "async def localDemo():\n",
        "    \n",
        "    simulationDescription = {\n",
        "        'robotState0': {\n",
        "            'x': 0,\n",
        "            'y': 0,\n",
        "            'theta': 0\n",
        "        },\n",
        "\n",
        "        'path': [\n",
        "            [0, 0, 0],  #X, Y, orientation\n",
        "            [5, 0, 0], #X, Y, orientation\n",
        "            [5, 5, 0], #X, Y, orientation\n",
        "            [10, 5, 0], #X, Y, orientation\n",
        "            [10, 10, 0]\n",
        "        ],\n",
        "\n",
        "        'robotParams': {\n",
        "        'r': 0.0425,\n",
        "        'b': 0.2,\n",
        "        'm': 1.733,\n",
        "        'I': 0.008,\n",
        "        #'motorParams': None,\n",
        "        'motorParams': {\n",
        "            'J': 0.037,       #Kg.m2/s2\n",
        "            'B': 0.004,        #Nms    \n",
        "            'Kt': 0.16,    #Nm/A\n",
        "            'Ke': 0.9965,    #Nm/A        \n",
        "            'Ra': 0.37,    #Ohm\n",
        "            'La': 0.1   #H\n",
        "            }\n",
        "        },\n",
        "\n",
        "        'controllerParams': {\n",
        "            'omega_ri': 0, 'vri': 2.0,'lowVelocityLimit': 0, \n",
        "        'highVelocityLimit': 4.0, 'lowOmegaLimit': -3.14, 'highOmegaLimit': 3.14\n",
        "        },\n",
        "\n",
        "        'simulationParams': {\n",
        "            't0': 0,\n",
        "            't_bound': 100,\n",
        "            'max_step': 0.01\n",
        "        }\n",
        "    }    \n",
        "    chromosome = [2.5,2.5,2.5,2.5,2.5,5,2.5,2.5,7.5,2.5,2.5,  1.57,1.57,-1.57,1.57,1.57,0,1.57,1.57,1.57,1.57,1.57,  \n",
        "                    7.5,7.5,7.5,7.5,7.5,15,7.5,7.5,22.5,7.5,7.5,  7.5,7.5,7.5,7.5,7.5,15,7.5,7.5,22.5,7.5,7.5]\n",
        "    webServiceSimulationDescription = fromChromozomeToDescriptionFuzzy(chromosome, simulationDescription)\n",
        "    #print(webServiceSimulationDescription)\n",
        "    async with aiohttp.ClientSession(connector=aiohttp.TCPConnector(ssl=False)) as session:\n",
        "        response = await session.post(url, json=webServiceSimulationDescription, headers = {'content-type': 'application/x-json'})\n",
        "        data = await response.text()\n",
        "        print(data[:1024])\n",
        "        \n",
        "if _runDemos:\n",
        "   localDemo()     \n"
      ]
    },
    {
      "cell_type": "code",
      "execution_count": null,
      "metadata": {
        "id": "ntFwAdzwHe90"
      },
      "outputs": [],
      "source": [
        "def callResultsFLC():\n",
        "    sTime = mS()        \n",
        "    results = evalSet(fitnessFunctionAsWebservice, [fitnessFunctionDescription])\n",
        "    return results"
      ]
    },
    {
      "cell_type": "markdown",
      "metadata": {
        "id": "gchBFuIHSncf"
      },
      "source": [
        "### Remote / Cluster Fitness Function Evaluation"
      ]
    },
    {
      "cell_type": "markdown",
      "metadata": {
        "id": "M8ybC1xqzP_U"
      },
      "source": [
        "This function is the real \"sibling\" of other fitness functions introduced earlier. However, this function transforms chromosomes into simulation descriptions and send them for evaluation to a computer cluster. Results received from the computer cluster are json decoded and returned."
      ]
    },
    {
      "cell_type": "code",
      "execution_count": null,
      "metadata": {
        "id": "QBALnGhNStCE"
      },
      "outputs": [],
      "source": [
        "import copy\n",
        "def fitnessFunctionFLC_FullMultiRemote(chromosomes):\n",
        "\n",
        "    descriptions = []\n",
        "\n",
        "    for chromosome in chromosomes:\n",
        "        tempDescription = copy.deepcopy(simulationDescription)\n",
        "        description = fromChromozomeToDescriptionFuzzy(chromosome, tempDescription)\n",
        "        descriptions.append(description)\n",
        "        \n",
        "    results = evalSet(fitnessFunctionAsWebservice, descriptions)\n",
        "    return results"
      ]
    },
    {
      "cell_type": "code",
      "execution_count": null,
      "metadata": {
        "id": "HdNokWtnUniL"
      },
      "outputs": [],
      "source": [
        "import copy\n",
        "def fitnessFunctionFLC_Expert_FullMultiRemote(chromosomes):\n",
        "\n",
        "    descriptions = []\n",
        "\n",
        "    for chromosome in chromosomes:\n",
        "        tempDescription = copy.deepcopy(simulationDescription)\n",
        "        description = fromChromozomeToDescriptionFuzzy_Expert(chromosome, tempDescription)\n",
        "        descriptions.append(description)\n",
        "        \n",
        "    results = evalSet(fitnessFunctionAsWebservice, descriptions)\n",
        "    return results"
      ]
    },
    {
      "cell_type": "code",
      "execution_count": null,
      "metadata": {
        "id": "1YQm2v0i2HBZ"
      },
      "outputs": [],
      "source": [
        "import copy\n",
        "def fitnessFunctionFLC_Mohammadian_Original_FullMultiRemote(chromosomes):\n",
        "\n",
        "    descriptions = []\n",
        "\n",
        "    for chromosome in chromosomes:\n",
        "        tempDescription = copy.deepcopy(simulationDescription)\n",
        "        description = fromChromozomeToDescriptionFuzzy_Mohammadian_Original(chromosome, tempDescription)\n",
        "        descriptions.append(description)\n",
        "        \n",
        "    results = evalSet(fitnessFunctionAsWebservice, descriptions)\n",
        "    return results"
      ]
    },
    {
      "cell_type": "code",
      "execution_count": null,
      "metadata": {
        "id": "fcuxbqRbf-6i"
      },
      "outputs": [],
      "source": [
        "import copy\n",
        "def fitnessFunctionFLC_Mohammadian_Improve_FullMultiRemote(chromosomes):\n",
        "\n",
        "    descriptions = []\n",
        "\n",
        "    for chromosome in chromosomes:\n",
        "        tempDescription = copy.deepcopy(simulationDescription)\n",
        "        description = fromChromozomeToDescriptionFuzzy_Mohammadian_Improve(chromosome, tempDescription)\n",
        "        descriptions.append(description)\n",
        "        \n",
        "    results = evalSet(fitnessFunctionAsWebservice, descriptions)\n",
        "    return results"
      ]
    },
    {
      "cell_type": "code",
      "execution_count": null,
      "metadata": {
        "id": "zuMsHe7EvVhP"
      },
      "outputs": [],
      "source": [
        "import copy\n",
        "def fitnessFunctionFLC_Mohammadian_FullMultiRemote(chromosomes):\n",
        "\n",
        "    descriptions = []\n",
        "\n",
        "    for chromosome in chromosomes:\n",
        "        tempDescription = copy.deepcopy(simulationDescription)\n",
        "        description = fromChromozomeToDescriptionFuzzy_Mohammadian(chromosome, tempDescription)\n",
        "        descriptions.append(description)\n",
        "        \n",
        "    results = evalSet(fitnessFunctionAsWebservice, descriptions)\n",
        "    return results"
      ]
    },
    {
      "cell_type": "code",
      "execution_count": null,
      "metadata": {
        "id": "gThLmwBlzP_V"
      },
      "outputs": [],
      "source": [
        "#////////////----KHONG CAN CAI NAY------//////////////\n",
        "\n",
        "def localDemo():\n",
        "    if useCluster:\n",
        "        chromosome = [1.49466175e+01,  6.91449653e+00,  8.94713694e-01,  6.67729804e+00,\n",
        "  4.02765913e-01,  5.90953481e+00,  1.07661211e+01,  1.09742171e+01,\n",
        "  1.26193409e+01,  7.73738122e+00,  8.48188614e+00,  5.47674253e+00,\n",
        "  7.63836346e-01, -1.29074013e+00,  2.38255462e+00,  2.76486140e+00,\n",
        " -7.12901773e-01,  6.94232958e-01,  4.38059952e+00,  1.00546221e+00,\n",
        "  4.71020652e+00,  1.48816696e+00,  1.47075343e+01,  2.77356976e+01,\n",
        "  5.05172976e+00,  1.11443456e+01,  2.79361340e+01,  8.92288342e+00,\n",
        "  1.66346761e+01,  1.60793735e+01,  2.21221469e+01,  2.05521333e-02,\n",
        "  9.12159542e+00,  1.42826249e+01,  1.43396651e+01,  5.24592937e+00,\n",
        "  1.41781657e+01,  2.83540890e+01,  8.58915658e+00,  1.56156315e+01,\n",
        "  4.67089565e+00,  2.65974131e+01,  3.80954405e+00,  1.67732744e+01]\n",
        "        #results = fitnessFunctionFLC_FullMultiRemote([chromosome, chromosome])\n",
        "        results = fitnessFunctionFLC_FullMultiRemote([chromosome])\n",
        "        \n",
        "        plt.plot(results[0]['time'], results[0]['E'])\n",
        "        #plt.plot(results[1]['time'], results[1]['E'])\n",
        "        pass\n",
        "\n",
        "if _runDemos:\n",
        "    localDemo()\n"
      ]
    },
    {
      "cell_type": "code",
      "execution_count": null,
      "metadata": {
        "id": "0uAKEislzP_V"
      },
      "outputs": [],
      "source": [
        "def fitnessFunctionFLC_EnergyMultiRemote(chromosomes):\n",
        "    results = fitnessFunctionFLC_FullMultiRemote(chromosomes)\n",
        "    \n",
        "    selectedResults = []\n",
        "    for result in results:\n",
        "        selectedResults.append(result['E'])\n",
        "\n",
        "    # Pythonic way:\n",
        "    # selectedResults = [result['E'] for result in results]\n",
        "\n",
        "    return selectedResults\n",
        "\n",
        "def fitnessFunctionFLC_DistanceMultiRemote(chromosomes):\n",
        "    results = fitnessFunctionFLC_FullMultiRemote(chromosomes)\n",
        "\n",
        "    selectedResults = []\n",
        "    for result in results:\n",
        "        selectedResults.append(result['E'])\n",
        "    return selectedResults"
      ]
    },
    {
      "cell_type": "markdown",
      "metadata": {
        "id": "jWxJuyY4VWx2"
      },
      "source": [
        "### Decision about Cluster Use"
      ]
    },
    {
      "cell_type": "markdown",
      "metadata": {
        "id": "uZNm9vi4zP_V"
      },
      "source": [
        "This part ovewrites definitions of fitness functions evaluating simulation with use of fuzzy logic controller."
      ]
    },
    {
      "cell_type": "code",
      "execution_count": null,
      "metadata": {
        "id": "KvzIn4p8VZ44"
      },
      "outputs": [],
      "source": [
        "#////////////----KHONG CAN CAI NAY------//////////////\n",
        "\n",
        "if useCluster:\n",
        "    fitnessFunctionFLC_EnergyMulti = fitnessFunctionFLC_EnergyMultiRemote#singleAsMultiValue(fitnessFunctionFLC_Energy)\n",
        "    fitnessFunctionFLC_DistanceMulti = fitnessFunctionFLC_DistanceMultiRemote#singleAsMultiValue(fitnessFunctionFLC_Distance)\n",
        "    fitnessFunctionFLC_FullResultsMulti = fitnessFunctionFLC_FullMultiRemote#singleAsMultiValue(fitnessFunctionFLC_FullResults)  \n",
        "    pass\n"
      ]
    },
    {
      "cell_type": "markdown",
      "metadata": {
        "id": "imNDlhwkl3D9"
      },
      "source": [
        "## Optimization"
      ]
    },
    {
      "cell_type": "markdown",
      "metadata": {
        "id": "FAa2NWjazP_W"
      },
      "source": [
        "In previous chapters the simulation has been implemented, also different transformation functions have been introduced. From them a couple of fitness function has been declared. For the optimizaton task just an optimization algorithm is needed. For this stage the [pymoo library](https://pymoo.org/) has been chosen."
      ]
    },
    {
      "cell_type": "markdown",
      "metadata": {
        "id": "dDEnvApgmIIt"
      },
      "source": [
        "### Inevitable Imports"
      ]
    },
    {
      "cell_type": "code",
      "execution_count": null,
      "metadata": {
        "id": "kx4gIz1AybCZ"
      },
      "outputs": [],
      "source": [
        "pip install -U pymoo"
      ]
    },
    {
      "cell_type": "code",
      "execution_count": null,
      "metadata": {
        "id": "l97DupkDl8By"
      },
      "outputs": [],
      "source": [
        "import time\n",
        "from pymoo.algorithms.soo.nonconvex.ga import GA\n",
        "from pymoo.factory import get_sampling, get_crossover, get_mutation\n",
        "from pymoo.core.problem import Problem \n",
        "from pymoo.optimize import minimize\n",
        "from pymoo.factory import get_termination\n",
        "from pymoo.visualization.scatter import Scatter\n",
        "from pymoo.core.problem import ElementwiseProblem\n",
        "from pymoo.core.problem import Problem\n",
        "from pymoo.core.callback import Callback"
      ]
    },
    {
      "cell_type": "markdown",
      "metadata": {
        "id": "VyN_DjJKmL-W"
      },
      "source": [
        "### Formal Problem Description"
      ]
    },
    {
      "cell_type": "code",
      "execution_count": null,
      "metadata": {
        "id": "3EQCVi5yQ-15"
      },
      "outputs": [],
      "source": [
        "simulationDescription = {\n",
        "    'robotState0': {\n",
        "        'x': 0,\n",
        "        'y': 0,\n",
        "        'theta': 0,\n",
        "    },\n",
        "\n",
        "    'path':[\n",
        "        [0, 0, 0],  #X, Y, orientation\n",
        "        [2, 0, 0], #X, Y, orientation\n",
        "        [2, 2, 0], #X, Y, orientation\n",
        "        [4, 2, 0], #X, Y, orientation\n",
        "        [4, 4, 0]\n",
        "    ],\n",
        "\n",
        "    'robotParams': {\n",
        "        'r': 0.0425,\n",
        "        'b': 0.2,\n",
        "        'm': 1.733,\n",
        "        'I': 0.008,\n",
        "        #'motorParams': None,\n",
        "        'motorParams': {\n",
        "            'J': 0.037,       #Kg.m2/s2\n",
        "            'B': 0.004,        #Nms    \n",
        "            'Kt': 0.16,    #Nm/A\n",
        "            'Ke': 0.9965,    #Nm/A        \n",
        "            'Ra': 0.37,    #Ohm\n",
        "            'La': 0.1   #H\n",
        "        }\n",
        "    },\n",
        "\n",
        "    'controllerParams': {\n",
        "        'omega_ri': 0, 'vri': 2.0,'lowVelocityLimit': 0, \n",
        "        'highVelocityLimit': 4.0, 'lowOmegaLimit': -3.14, 'highOmegaLimit': 3.14\n",
        "    },\n",
        "\n",
        "    'simulationParams': {\n",
        "        't0': 0,\n",
        "        't_bound': 100,\n",
        "        'max_step': 0.01\n",
        "    }\n",
        "} "
      ]
    },
    {
      "cell_type": "code",
      "execution_count": null,
      "metadata": {
        "id": "C1lN4F2QA8AL"
      },
      "outputs": [],
      "source": [
        "'''\n",
        "#//////////////////////----------FOR OPTIMIZING FLC USING GA---------//////////////////////////////\n",
        "# The GA In this experiment, each population has many chromosomes. Each chromosome has 44 gens. These gens are responsible for the parameters of the membership functions of the FLC\n",
        "# The values of this parameter have been chosen in a range of [chromosomeFLCLow, chromosomeFLCUp] randomly.\n",
        "# In this experiment, based on the structure of the FLC and the parameters of real robot, I have chosen the chromosomeFLCLow and chromosomeFLCUp as below:\n",
        "# chromosomeFLCLow = [ 0,  0, 0, 0, 0,4.1, 0, 0,11.1, 0, 0,         0,    0, -3.14,    0,    0, -1,    0,    0,    1,    0,    0,       0, 0, 0,  0,  0, 8.1,  0, 0, 22.1, 0, 0,        0, 0, 0,  0,  0, 8.1,  0, 0, 22.1, 0, 0]\n",
        "# chromosomeFLCUp =  [15, 15, 4,15,15, 11,15,15,  15,15,15,      6.28, 6.28,    -1, 6.28, 6.28,  1, 6.28, 6.28, 3.14, 6.28, 6.28,      30,30, 8, 30, 30,  22, 30,30,   30,30,30,       30,30, 8, 30, 30,  22, 30,30,   30, 30,30]\n",
        "\n",
        "problemParametersSetA = [0,  0, 0, 0, 0,4.1, 0,  0, 11.1, 0, 0,             0,    0, -3.14,   0,    0, -1,   0,    0,    1,     0,   0]# input lower value\n",
        "problemParametersSetB = [ 0, 0, 0,  0,  0,  8.1,  0, 0, 22.1, 0, 0,        0, 0, 0,  0,  0,  8.1,  0, 0, 22.1, 0, 0]# output lower value\n",
        "chromosomeFLCLow = [*problemParametersSetA, *problemParametersSetB]\n",
        "\n",
        "problemParametersSetC = [15,15, 4,15,15, 11, 15,15,  15, 15,15,           6.28, 6.28,   -1, 6.28, 6.28, 1, 6.28, 6.28, 3.14, 6.28, 6.28]# input upper value\n",
        "problemParametersSetD = [30,30, 8, 30, 30, 22, 30,30,   30,30,30,         30,30, 8, 30, 30, 22, 30,30,   30,30,30]# output upper value\n",
        "chromosomeFLCUp = [*problemParametersSetC, *problemParametersSetD]\n",
        "\n",
        "class MyProblem(Problem):\n",
        "    def __init__(self):\n",
        "        #self.SpecialCounter = 0\n",
        "        super().__init__(\n",
        "            n_var=44, n_obj=2, n_constr=1,\n",
        "            xl=np.array([*problemParametersSetA, *problemParametersSetB]),\n",
        "            xu=np.array([*problemParametersSetC, *problemParametersSetD]),\n",
        "            ElementwiseProblem = False)\n",
        "        \n",
        "    def _evaluate(self, Chromosome, out, *args, **kwargs):\n",
        "        if useCluster:\n",
        "            #allResults = fitnessFunctionFLC_FullMultiRemote(Chromosome)\n",
        "            descriptions = [fromChromozomeToDescriptionFuzzy(ch, description=simulationDescription) for ch in Chromosome]\n",
        "            allResults = evalSet(fitnessFunctionAsWebservice, descriptions)\n",
        "        else:\n",
        "            allResults = [fitnessFunctionFLC_FullResults(ch) for ch in Chromosome]\n",
        "            #allResults = fitnessFunctionFLC_FullResultsMulti(Chromosome)\n",
        "        f1 = np.array([energySelector(result) for result in allResults]) # used to evaluate the energy consumption\n",
        "        g1 = np.array([distanceSelector(result)-6.5 for result in allResults])\n",
        "        \n",
        "        out[\"F\"] = f1\n",
        "        out[\"G\"] = g1\n",
        "'''\n"
      ]
    },
    {
      "cell_type": "code",
      "execution_count": null,
      "metadata": {
        "id": "xj17KTDuxafZ"
      },
      "outputs": [],
      "source": [
        "\n",
        "#//////////////////------------FOR OPTIMIZING FLC BASED ON Mohammadian ORIGINAL---------CHI CO DIEU CHINH DO RONG TAM GIA CAN cu output-Su dung cho so sanh FLC-//////////////\n",
        "problemParametersSetA = [0, 0, 0, 0]\n",
        "problemParametersSetB = [0, 0, 0, 0]\n",
        "chromosomeFLCLow = [*problemParametersSetA, *problemParametersSetB]\n",
        "\n",
        "problemParametersSetC = [7.5, 7.5, 7.5, 7.5]\n",
        "problemParametersSetD = [7.5, 7.5, 7.5, 7.5]\n",
        "chromosomeFLCUp = [*problemParametersSetC, *problemParametersSetD]\n",
        "\n",
        "class MyProblem(Problem):\n",
        "    def __init__(self):\n",
        "        self.SpecialCounter = 0\n",
        "        super().__init__(\n",
        "            n_var=8, n_obj=1, n_constr=1,\n",
        "            xl=np.array([*problemParametersSetA, *problemParametersSetB]),\n",
        "            xu=np.array([*problemParametersSetC, *problemParametersSetD]),\n",
        "            ElementwiseProblem=False)\n",
        "        \n",
        "    def _evaluate(self, Chromosome, out, *args, **kwargs):\n",
        "        if useCluster:\n",
        "            descriptions = [fromChromozomeToDescriptionFuzzy_Mohammadian_Original(ch, description=simulationDescription) for ch in Chromosome]\n",
        "            allResults = evalSet(fitnessFunctionAsWebservice, descriptions)\n",
        "        else:\n",
        "            allResults = [fitnessFunctionFLC_FullResults(ch) for ch in Chromosome]\n",
        "\n",
        "        f1 = np.array([energySelector(result) for result in allResults]) # used to evaluate the energy consumption    \n",
        "        g1 = np.array([distanceSelector(result) - 8.5 for result in allResults]) # the constraint for tracking the zigzag path. Need to change value 50 when optimizing a different path.\n",
        "\n",
        "        out[\"F\"] = f1\n",
        "        out[\"G\"] = g1\n"
      ]
    },
    {
      "cell_type": "code",
      "execution_count": null,
      "metadata": {
        "id": "ifQPFTAN4oJX"
      },
      "outputs": [],
      "source": [
        "'''\n",
        "#//////////////////------------FOR OPTIMIZING Mohammadian Improve ca input va output ----------//////////////\n",
        "problemParametersSetA = [7, 0, 0, 1, 0, 7.1, 7,  0, 8.1, 7, 7,            1.57, 0, -3.14,   1.57,    0, -1,   1.57,    0,    1,     0,   1.57] # input lower value\n",
        "problemParametersSetB = [7.5, 0, 0,  7.5,  0,  12.1,  7.5, 0, 18.1, 0, 7.5,        7.5, 0, 0,  7.5,  0,  12.1,  7.5, 0, 18.1, 0, 7.5]# output lower value\n",
        "chromosomeFLCLow = [*problemParametersSetA, *problemParametersSetB]\n",
        "\n",
        "problemParametersSetC = [15,15, 7,15,15, 8, 15,15,  15, 15,15,           6.28, 6.28,   -1, 6.28, 6.28, 1, 6.28, 6.28, 3.14, 6.28, 6.28]# input upper value\n",
        "problemParametersSetD = [30,30, 12, 30, 30, 18, 30,30,   30,30,30,        30,30, 12, 30, 30, 18, 30,30,   30,30,30]# output upper value\n",
        "chromosomeFLCUp = [*problemParametersSetC, *problemParametersSetD]\n",
        "\n",
        "class MyProblem(Problem):\n",
        "    def __init__(self):\n",
        "        self.SpecialCounter = 0\n",
        "        super().__init__(\n",
        "            n_var=44, n_obj=1, n_constr=1,\n",
        "            xl=np.array([*problemParametersSetA, *problemParametersSetB]),\n",
        "            xu=np.array([*problemParametersSetC, *problemParametersSetD]),\n",
        "            )\n",
        "        \n",
        "    def _evaluate(self, Chromosome, out, *args, **kwargs):\n",
        "        if useCluster:\n",
        "            descriptions = [fromChromozomeToDescriptionFuzzy_Mohammadian_Improve(ch, description=simulationDescription) for ch in Chromosome]\n",
        "            allResults = evalSet(fitnessFunctionAsWebservice, descriptions)\n",
        "        else:\n",
        "            allResults = [fitnessFunctionFLC_FullResults(ch) for ch in Chromosome]\n",
        "\n",
        "        f = np.array([energySelector(result) for result in allResults]) # used to evaluate the energy consumption         \n",
        "        g = np.array([distanceSelector(result) - 25 for result in allResults]) # the constraint for tracking the zigzag path. Need to change value 50 when optimizing a different path.\n",
        "        \n",
        "        out[\"F\"] = f\n",
        "        out[\"G\"] = g\n",
        "'''"
      ]
    },
    {
      "cell_type": "code",
      "execution_count": null,
      "metadata": {
        "id": "H283w2-BYLfb"
      },
      "outputs": [],
      "source": [
        "'''\n",
        "#//////////////////------------FOR IMPROVING THE Mohammadian----DIEU CHINH CA DINH VA DO RONG----//////////////\n",
        "problemParametersSetA = [7.5, 0, 0,  15,  0, 7.6,  15, 0, 22.6, 0, 7.5]\n",
        "problemParametersSetB = [7.5, 0, 0,  15,  0, 7.6,  15, 0, 22.6, 0, 7.5]\n",
        "chromosomeFLCLow = [*problemParametersSetA, *problemParametersSetB]\n",
        "\n",
        "problemParametersSetC = [30, 30, 7.5, 30, 30, 22.5, 30,30, 30,30,  30]\n",
        "problemParametersSetD = [30, 30, 7.5, 30, 30, 22.5, 30,30, 30,30,  30]\n",
        "chromosomeFLCUp = [*problemParametersSetC, *problemParametersSetD]\n",
        "\n",
        "class MyProblem(Problem):\n",
        "    def __init__(self):\n",
        "        self.SpecialCounter = 0\n",
        "        super().__init__(\n",
        "            n_var=22, n_obj=1, n_constr=1,\n",
        "            xl=np.array([*problemParametersSetA, *problemParametersSetB]),\n",
        "            xu=np.array([*problemParametersSetC, *problemParametersSetD]),\n",
        "            ElementwiseProblem=False)\n",
        "        \n",
        "    def _evaluate(self, Chromosome, out, *args, **kwargs):\n",
        "        if useCluster:\n",
        "            descriptions = [fromChromozomeToDescriptionFuzzy_Mohammadian(ch, description=simulationDescription) for ch in Chromosome]\n",
        "            allResults = evalSet(fitnessFunctionAsWebservice, descriptions)\n",
        "        else:\n",
        "            allResults = [fitnessFunctionFLC_FullResults(ch) for ch in Chromosome]\n",
        "\n",
        "        f1 = np.array([energySelector(result) for result in allResults]) # used to evaluate the energy consumption    \n",
        "        g1 = np.array([distanceSelector(result) - 25 for result in allResults]) # the constraint for tracking the zigzag path. Need to change value 50 when optimizing a different path.\n",
        "\n",
        "        out[\"F\"] = f1\n",
        "        out[\"G\"] = g1\n",
        "'''"
      ]
    },
    {
      "cell_type": "code",
      "execution_count": null,
      "metadata": {
        "id": "6QU0L88CRhU2"
      },
      "outputs": [],
      "source": [
        "'''\n",
        "#//////////////////------------FOR OPTIMIZING EXPERT FLC ----------//////////////\n",
        "problemParametersSetA = [1,1,1.9,1,1,3.9,1,0.5,4.9,0.5,1,5.9,1,1,7.9,1,1,         1,1.5,-1.58,0.5,0.5,-0.8,0.5,0.5,0,0.5,0.5,0.7,0.5,0.5,1.5,1.5,1]\n",
        "problemParametersSetB = [4,4,4.9,4,4,9.9,4,4,14.9,4,4,19.9,4,4,24.9,4,4,       4,4,4.9,4,4,9.9,4,4,14.9,4,4,19.9,4,4,24.9,4,4]\n",
        "chromosomeFLCLow = [*problemParametersSetA, *problemParametersSetB]\n",
        "\n",
        "problemParametersSetC = [3,2,2.1,2,2,4.1,2,1,5.1,1,2,6.1,2,2,8.1,2,3,         1.57,1.57,-1.56,1,1,-0.7,1,1,0.1,1,1,0.8,1,1,1.6,1.57,1.57]\n",
        "problemParametersSetD = [6,5,5.1,6,6,10.1,6,6,15.1,6,6,20.1,6,6,25.1,5,6,       6,5,5.1,6,6,10.1,6,6,15.1,6,6,20.1,6,6,25.1,5,6]\n",
        "chromosomeFLCUp = [*problemParametersSetC, *problemParametersSetD]\n",
        "\n",
        "class MyProblem(Problem):\n",
        "    def __init__(self):\n",
        "        self.SpecialCounter = 0\n",
        "        super().__init__(\n",
        "            n_var=68, n_obj=1, n_constr=1,\n",
        "            xl=np.array([*problemParametersSetA, *problemParametersSetB]),\n",
        "            xu=np.array([*problemParametersSetC, *problemParametersSetD]),\n",
        "            )\n",
        "        \n",
        "    def _evaluate(self, Chromosome, out, *args, **kwargs):\n",
        "        if useCluster:\n",
        "            descriptions = [fromChromozomeToDescriptionFuzzy_Expert(ch, description=simulationDescription) for ch in Chromosome]\n",
        "            allResults = evalSet(fitnessFunctionAsWebservice, descriptions)\n",
        "        else:\n",
        "            allResults = [fitnessFunctionFLC_FullResults(ch) for ch in Chromosome]\n",
        "\n",
        "        f1 = np.array([energySelector(result) for result in allResults]) # used to evaluate the energy consumption    \n",
        "        g1 = np.array([distanceSelector(result) - 8.5 for result in allResults]) # the constraint for tracking the zigzag path. Need to change value 50 when optimizing a different path.\n",
        "\n",
        "        out[\"F\"] = f1\n",
        "        out[\"G\"] = g1\n",
        "'''        \n"
      ]
    },
    {
      "cell_type": "code",
      "execution_count": null,
      "metadata": {
        "id": "cepKoy3UVhJA"
      },
      "outputs": [],
      "source": [
        "'''\n",
        "#//////////////////------------FOR OPTIMIZING THOA BASED FLC ----------//////////////\n",
        "problemParametersSetA = [2.5, 0, 0, 0, 0, 4.1, 0, 0, 6.1, 6.1, 2.5,            1.14, 0, -3.14,   0,    0, -1,   0,    0,    1,     0,   1.14] # input lower value\n",
        "problemParametersSetB = [7.5, 0, 0,  0,  0,  13.1,  0, 0, 17.1, 0, 7.5,        7.5, 0, 0,  0,  0,  13.1,  0, 0, 17.1, 0, 7.5]# output lower value\n",
        "chromosomeFLCLow = [*problemParametersSetA, *problemParametersSetB]\n",
        "\n",
        "problemParametersSetC = [5, 4, 4, 6, 2, 6,   2, 6, 10,  10,  5,           3.14, 2.14,   -1, 4.14, 2, 1, 2, 4.14, 3.14, 2.14, 3.14]# input upper value\n",
        "problemParametersSetD = [15,13, 13, 17, 4, 17, 4,9.5,   30,13,15,        15,13, 13, 17, 4, 17, 4,9.5,   30,13,15]# output upper value\n",
        "chromosomeFLCUp = [*problemParametersSetC, *problemParametersSetD]\n",
        "\n",
        "class MyProblem(Problem):\n",
        "    def __init__(self):\n",
        "        self.SpecialCounter = 0\n",
        "        super().__init__(\n",
        "            n_var=44, n_obj=1, n_constr=1,\n",
        "            xl=np.array([*problemParametersSetA, *problemParametersSetB]),\n",
        "            xu=np.array([*problemParametersSetC, *problemParametersSetD]),\n",
        "            )\n",
        "        \n",
        "    def _evaluate(self, Chromosome, out, *args, **kwargs):\n",
        "        if useCluster:\n",
        "            descriptions = [fromChromozomeToDescriptionFuzzy_Thoa(ch, description=simulationDescription) for ch in Chromosome]\n",
        "            allResults = evalSet(fitnessFunctionAsWebservice, descriptions)\n",
        "        else:\n",
        "            allResults = [fitnessFunctionFLC_FullResults(ch) for ch in Chromosome]\n",
        "\n",
        "        f = np.array([energySelector(result) for result in allResults]) # used to evaluate the energy consumption         \n",
        "        g = np.array([distanceSelector(result) - 8.4 for result in allResults]) # the constraint for tracking the zigzag path. Need to change value 50 when optimizing a different path.\n",
        "        \n",
        "        out[\"F\"] = f\n",
        "        out[\"G\"] = g\n",
        "'''"
      ]
    },
    {
      "cell_type": "markdown",
      "metadata": {
        "id": "JpLkmGLJuagm"
      },
      "source": [
        "### Optimization Problem Solution"
      ]
    },
    {
      "cell_type": "code",
      "execution_count": null,
      "metadata": {
        "id": "wswUSSG7ufun"
      },
      "outputs": [],
      "source": [
        "'''\n",
        "start_time = time.time()\n",
        "problem = MyProblem()\n",
        "\n",
        "algorithm = GA(\n",
        "    pop_size=50,\n",
        "    eliminate_duplicates=True)\n",
        "\n",
        "termination = get_termination(\"n_gen\",200)\n",
        "\n",
        "print('Going to optimize with use of movement along this path:', simulationDescription['path'])\n",
        "\n",
        "res = minimize(problem,\n",
        "               algorithm,\n",
        "               termination,\n",
        "               seed=1,\n",
        "               save_history=True,\n",
        "               verbose=True)\n",
        "\n",
        "print(f'After {res.exec_time} s the algorithm finished')\n",
        "print(f'A solution \\n{res.X}\\n was found')\n",
        "print(f'The suboptimal value of fitness function is \\t {res.F}')\n",
        "Best_Chromosome = res.X\n",
        "\n",
        "#val = res.algorithm.pop.get(\"F\").min()\n",
        "#plt.plot(np.arange(len(val)), val)\n",
        "#plt.show()\n",
        "#val = [e.opt.get(\"F\").min() for e in res.history]\n",
        "'''"
      ]
    },
    {
      "cell_type": "code",
      "execution_count": null,
      "metadata": {
        "id": "VswL-iWFg1mZ"
      },
      "outputs": [],
      "source": [
        "val = [3.5975316688005097, 3.4940327653452013, 3.3940327653452013, 3.2000596887912216, 3.0440743918222143, 2.8440743918222143, 2.769201769217227, 2.6301651728709684, 2.6301651728709684, 2.5301651728709684, 2.367418960849912, 2.248825321446032, 2.248825321446032, 2.1224635549360142, 2.071779969845455, 1.9623159084273907, 1.8323545569650762, 1.8323545569650762, 1.7107863189460413, 1.6541928099645185, 1.6541928099645185, 1.643879370787451, 1.5808615203897773, 1.5808615203897773, 1.5754378875736332, 1.5690857353118799, 1.5477323590597516, 1.5377323590597516, 1.5142898454687885, 1.4922525697335736, 1.4922525697335736, 1.4922525697335736, 1.4618285259150494, 1.4618285259150494, 1.4525710046630131, 1.4525710046630131, 1.4188164936776742, 1.3807560216533556, 1.3803234031338385, 1.2895071056451344, 1.2895071056451344, 1.2895071056451344, 1.2895071056451344, 1.2515468811704314, 1.2515468811704314, 1.2487961267111196, 1.2387961267111196, 1.237953791587729, 1.2308767346994032, 1.2307207665947248, 1.2207207665947248, 1.2176598241829406, 1.2108104240040138, 1.2044584865180254, 1.2003215225316927, 1.2003215225316927, 1.1999008694982274,1.1998008694982274,1.1979008694982274,1.1969008694982274,1.1959008694982274,1.1949008694982274,1.1939008694982274,1.1929008694982274,1.1919008694982274,1.1909008694982274,1.1909008694982274,1.1909008694982274,1.1909008694982274,1.1909008694982274,1.1909008694982274,1.1909008694982274,1.1909008694982274,1.1909008694982274,1.1909008694982274,1.1909008694982274,1.1909008694982274,1.1909008694982274,1.1909008694982274,1.1909008694982274,1.1909008694982274,1.1909008694982274,1.1909008694982274,1.1909008694982274,1.1909008694982274,1.1909008694982274,1.1909008694982274,1.1909008694982274,1.190900869498227,1.1909008694982274,1.1909008694982274,1.1909008694982274,1.1909008694982274,1.1909008694982274,1.1909008694982274,1.1909008694982274,1.1909008694982274,1.1909008694982274,1.1909008694982274,1.1909008694982274,1.1909008694982274,1.1909008694982274,1.1909008694982274,1.1909008694982274,1.1909008694982274,1.1909008694982274,1.1909008694982274,1.1909008694982274,1.1909008694982274,1.1909008694982274,1.1909008694982274,1.1909008694982274,1.1909008694982274,1.1909008694982274,1.1909008694982274,1.1909008694982274,1.1909008694982274,1.1909008694982274,1.1909008694982274,1.1909008694982274,1.1909008694982274,1.1909008694982274,1.1909008694982274,1.1909008694982274,1.1909008694982274,1.1909008694982274,1.1909008694982274,1.1909008694982274,1.1909008694982274,1.1909008694982274,1.1909008694982274,1.1909008694982274,1.1909008694982274,1.1909008694982274,1.1909008694982274,1.1909008694982274,1.1909008694982274,1.1909008694982274,1.1909008694982274,1.1909008694982274,1.1909008694982274,1.1909008694982274, 1.1909008694982274,1.1909008694982274,1.1909008694982274,1.1909008694982274,1.1909008694982274,1.1909008694982274,1.1909008694982274,1.1909008694982274,1.1909008694982274,1.1909008694982274,1.1909008694982274,1.1909008694982274,1.1909008694982274,1.1909008694982274,1.1909008694982274,1.1909008694982274,1.1909008694982274,1.1909008694982274,1.1909008694982274,1.1909008694982274,1.1909008694982274,1.1909008694982274,1.1909008694982274,1.1909008694982274,1.1909008694982274,1.1909008694982274,1.1909008694982274,1.1909008694982274,1.1909008694982274,1.1909008694982274,1.1909008694982274,1.1909008694982274,1.1909008694982274,1.1909008694982274,1.1909008694982274,1.1909008694982274,1.1909008694982274,1.1909008694982274,1.1909008694982274,1.1909008694982274,1.1909008694982274,1.1909008694982274,1.1909008694982274,1.1909008694982274,1.1909008694982274, 1.1909008694982274,1.1909008694982274,1.1909008694982274,1.1909008694982274,1.1909008694982274,1.1909008694982274,1.1909008694982274,1.1909008694982274,1.1909008694982274,1.1909008694982274,1.1909008694982274,1.1909008694982274,1.1909008694982274]"
      ]
    },
    {
      "cell_type": "code",
      "source": [
        "print(len(val))"
      ],
      "metadata": {
        "id": "nT7xqc2y6vZJ"
      },
      "execution_count": null,
      "outputs": []
    },
    {
      "cell_type": "code",
      "execution_count": null,
      "metadata": {
        "id": "kSRjBI__8cUm"
      },
      "outputs": [],
      "source": [
        "\n",
        "#////////-------USING TO PLOT CONVERGENCE OF ENERGY LOSS-----///////////////////\n",
        "#val = [e.opt.get(\"F\").min() for e in res.history]\n",
        "print(val)\n",
        "optimal_value = val#[8:]\n",
        "print(optimal_value)\n",
        "plt.rcParams[\"figure.figsize\"] = (9, 5)\n",
        "plt.rcParams[\"font.size\"] = \"20\"\n",
        "plt.plot(np.arange(len(optimal_value)), optimal_value, 'b-', lw=2)\n",
        "plt.title(\"Convergence\")\n",
        "plt.xlabel(\"Generation\")\n",
        "plt.ylabel(\"Optimal value\")\n",
        "#plt.grid()\n",
        "plt.show()\n"
      ]
    },
    {
      "cell_type": "markdown",
      "metadata": {
        "id": "eCg3vQ__EVC6"
      },
      "source": [
        "## Results Analysys"
      ]
    },
    {
      "cell_type": "markdown",
      "metadata": {
        "id": "cjuV4pWmQi0Z"
      },
      "source": [
        "### Optimal value over generation"
      ]
    },
    {
      "cell_type": "code",
      "execution_count": null,
      "metadata": {
        "id": "0XF7gE7VQdFM"
      },
      "outputs": [],
      "source": [
        "'''\n",
        "plt.rcParams[\"figure.figsize\"] = (12, 8)\n",
        "plt.rcParams[\"font.size\"] = \"18\"\n",
        "\n",
        "ret = [6.65016E+01, 6.65016E+01, 3.78875E+01, 3.78875E+01, 3.37551E+01, 2.77923E+01, 2.77923E+01, 2.58299E+01, 2.58299E+01, 1.78978E+01,1.53562E+01, 1.53562E+01, 1.53562E+01, 1.53562E+01,  1.53562E+01, 1.53562E+01, \n",
        "   1.51949E+01, 1.34387E+01, 1.34387E+01, 1.34387E+01, 1.29566E+01, 1.18987E+01, 1.18987E+01, 1.18095E+01, 1.05584E+01, 1.05584E+01, 1.05584E+01, \n",
        "   1.02236E+01, 1.02236E+01, 1.01547E+01, 9.847593812, 9.813466870, 9.813466870, 9.813466870, 9.779430890, 9.642956527, 9.642956527, 9.642956527, 9.633666327, \n",
        "   9.280703892, 9.280703892, 9.280703892, 8.933943872, 8.913644514, 8.702565010, 8.644024565, 8.644024565, 8.644024565, 8.642331089, 8.642331089, 8.598003578, \n",
        "   8.598003578, 8.598003578, 8.598003578, 8.587602976, 8.587602976, 8.585731565, 8.585731565, 8.585357797, 8.580099287, 8.580099287, 8.579024852, 8.579024852, \n",
        "   8.577800577, 8.577399114, 8.573082629, 8.573082629, 8.573082629, 8.573054864, 8.571264073, 8.571196994, 8.571196994, 8.567951117, 8.567951117, 8.564503226, \n",
        "   8.564503226, 8.549275951, 8.546012357, 8.544338076, 8.532171425, 8.532171425, 8.526543369, 8.525505769, 8.523644063, 8.523644063, 8.521533975, 8.520114759, \n",
        "   8.519765475, 8.516186931, 8.516116057, 8.514484528, 8.514047470, 8.514047470, 8.513589750, 8.513589750, 8.512869639, 8.511959107, 8.511758394, 8.510663172, \n",
        "  8.510663172, 8.510194971, 8.509814814, 8.509442941, 8.509442941, 8.509442941, 8.509339672, 8.508718907, 8.508671023, 8.508671023, 8.507909897, 8.507909897, \n",
        "  8.507718067, 8.507445171, 8.507445171, 8.507445171, 8.506855916, 8.506855916, 8.506855916, 8.502494405, 8.502494405, 8.502494405, 8.502494405, 8.502494405, \n",
        "  8.501360183, 8.500985670, 8.500980001, 8.500980001, 8.499211749, 8.499058726, 8.498832294, 8.498832294, 8.498792152, 8.497946356, 8.497946356, 8.497508122, \n",
        "  8.497414615, 8.497414615, 8.497414615, 8.497414615, 8.497414615, 8.497352229, 8.497352229, 8.497332710, 8.497301052, 8.495359133, 8.495350415, 8.495206020, \n",
        "  8.495206020, 8.495201620, 8.494461838, 8.494460180, 8.494263590, 8.494263590, 8.494045573, 8.494037118, 8.494014061, 8.493937511, 8.493932243, 8.493884989, \n",
        "  8.493884989, 8.493884989, 8.493884989, 8.493848304, 8.493848304, 8.493822168, 8.493784881, 8.493744626, 8.493716801, 8.493716801, 8.493716801, 8.493701872, \n",
        "  8.493701872, 8.493699786, 8.493699786, 8.493698803, 8.493697536, 8.493696241, 8.493696241, 8.493076014, 8.493075660, 8.493071910, 8.489287448, 8.489287448, \n",
        "  8.489287448, 8.489270022, 8.489258657, 8.488760821, 8.488400179, 8.488298523, 8.488221396,8.488221396,8.488221396,8.488221396,8.488221396,8.488221396,8.488221396,\n",
        "  8.488221396,8.488221396,8.488221396,8.488221396] \n",
        "\n",
        "plt.plot(np.arange(len(ret)), ret, 'b-', lw=3)\n",
        "plt.title(\"Convergence\")\n",
        "plt.xlabel(\"Generation\")\n",
        "plt.ylabel(\"Optimal value\")\n",
        "plt.legend()\n",
        "plt.show()\n",
        "'''"
      ]
    },
    {
      "cell_type": "markdown",
      "metadata": {
        "id": "sANNcbmnzP_X"
      },
      "source": [
        "### Selectors Reintroduction"
      ]
    },
    {
      "cell_type": "code",
      "execution_count": null,
      "metadata": {
        "id": "6xjIuXH8KOPt"
      },
      "outputs": [],
      "source": [
        "selectx = lambda item: item['y'][0]       # x position\n",
        "selecty = lambda item: item['y'][1]       # y position\n",
        "selectt = lambda item: item['time']       # time\n",
        "selectv = lambda item: item['dy'][3]      # velocity\n",
        "selectomega = lambda item: item['dy'][2]  # omega = theta_dot\n",
        "selecte = lambda item: item['TotalEnergy']# total energy\n",
        "selects = lambda item: item['y'][3]       # displacement\n",
        "selectors = {\n",
        "    'time': selectt,\n",
        "    'x': selectx, \n",
        "    'y': selecty, \n",
        "    'd': selects, \n",
        "    'v': selectv, \n",
        "    'omega': selectomega,\n",
        "    'E': selecte}"
      ]
    },
    {
      "cell_type": "markdown",
      "metadata": {
        "id": "yuF2pdqCzP_Y"
      },
      "source": [
        "### Comparative Simulations"
      ]
    },
    {
      "cell_type": "code",
      "execution_count": null,
      "metadata": {
        "id": "b_Igp2K0Wl5y"
      },
      "outputs": [],
      "source": [
        "# //////////////----BEFORE OPTIMIZING-----////////////////////////////////////////\n",
        "\n",
        "Proposed_FLC_Chromosome =  [2.5,2.5,2.5,2.5,2.5,5,2.5,2.5,7.5,2.5,2.5,  1.57,1.57,-1.57,1.57,1.57,0,1.57,1.57,1.57,1.57,1.57,  \n",
        "                    7.5,7.5,7.5,7.5,7.5,15,7.5,7.5,22.5,7.5,7.5,  7.5,7.5,7.5,7.5,7.5,15,7.5,7.5,22.5,7.5,7.5]\n",
        "\n",
        "Original_Expert_Chromosome = [1,1,1,1,1,2,1,1,3,2,2,5,2,2,7,3,3,   1.57,1.57,-1.57,0.785,0.785,-0.785,0.785,0.785,0,0.785,0.785,0.785,0.785,0.785,1.57,1.57,1.57,\n",
        "                    5,5,5,5,5,10,5,5,15,5,5,20,5,5,25,5,5,   5,5,5,5,5,10,5,5,15,5,5,20,5,5,25,5,5]\n",
        "\n",
        "Original_Mohammadian_Chromosome = [7.49643109, 1.02472246, 5.91733384, 0.01706397, 7.5, 0.96009048, 7.49999996, 0.38670046]"
      ]
    },
    {
      "cell_type": "code",
      "execution_count": null,
      "metadata": {
        "id": "9zmmdx4JWnGq"
      },
      "outputs": [],
      "source": [
        "# /////////////////////////--------AFTER OPTIMIZING----------/////////////////////////\n",
        "\n",
        "GA_FLC_Chromosome =  [ 2.57475679e+00,  1.53385138e+00,  2.50155673e+00,  1.26455585e+00,\n",
        "                       1.87561086e+00,  4.10836493e+00,  1.90347817e+00,  2.33295551e+00,\n",
        "                       8.94806436e+00,  7.28401522e+00,  4.50572226e+00,  1.20006983e+00,\n",
        "                       2.93901416e-01, -1.46725023e+00,  2.11797444e+00,  1.95222431e+00,\n",
        "                      -9.29909680e-01,  3.45373481e-02,  3.06832597e+00,  2.18321422e+00,\n",
        "                       3.68127553e-01,  1.14914148e+00,  1.32435929e+01,  1.28929720e+01,\n",
        "                       4.99362005e+00,  2.57316497e+00,  2.51610431e-02,  1.31089719e+01,\n",
        "                       4.58729417e-03,  9.49913114e+00,  1.71017795e+01,  1.12214638e-02,\n",
        "                       7.91843487e+00,  1.19429052e+01,  6.32403599e+00,  1.82133740e-02,\n",
        "                       8.93647412e+00,  2.36811081e+00,  1.39808695e+01,  3.95936247e+00,\n",
        "                       9.41293500e+00,  1.71023131e+01,  2.12693272e-01,  1.47409146e+01]\n",
        "\n",
        "\n",
        "Expert_Chromosome = [1.54148787,  1.92272705,  1.99138378,  1.97808054,  1.66992635,  4.09933048,\n",
        "                     1.99993167,  0.85925332,  4.92022555,  0.6976676,   1.00703108,  6.07322869,\n",
        "                     1.86667889,  1.32223373,  7.97345152,  1.78766033,  1.71272653,  1.41246747,\n",
        "                     1.51107333, -1.57849907,  0.50965017,  0.94598694, -0.70000564,  0.99995144,\n",
        "                     0.50055773,  0.09982578,  0.99929163,  0.99983717,  0.70020261,  0.65671013,\n",
        "                     0.5136855,  1.59584143,  1.56519105,  1.30182849,  4.00621228,  4.00174974,\n",
        "                     5.09961414,  4.00213511,  5.99985402,  9.90007556,  4.00774391,  4.41356477,\n",
        "                     14.94202322,  4.01549149,  5.99967973, 19.91559871,  5.99969018,  5.99961217,\n",
        "                    24.90025394,  4.00036405,  4.00777788,  5.77311472,  4.70575928,  4.99986804,\n",
        "                     4.00067507,  5.99924449,  9.90051312,  4.00067276,  5.70052315, 14.90000556,\n",
        "                     4.00314504,  5.99920771, 19.90353512,  5.99902971,  5.25106692, 24.92105317,\n",
        "                     4.00445984,  4.58686434]\n",
        "\n",
        "\n",
        "# Only optimizing width and peak of outputs\n",
        "Mohammadian_Chromosome = [7.50001378e+00, 2.86874434e-02, 1.69337609e-01, 1.50881074e+01,\n",
        " 2.96218689e+01, 7.60001132e+00, 1.50000002e+01, 2.99997685e+01,\n",
        " 2.26000022e+01, 5.21202758e+00, 2.24620250e+01, 2.64196241e+01,\n",
        " 6.00443486e+00, 6.60720892e+00, 1.79462566e+01, 1.58154228e+01,\n",
        " 8.33223708e+00, 1.76251413e+01, 2.99685949e+01, 2.26314076e+01,\n",
        " 2.04973014e-01, 7.50006532e+00]\n",
        "\n",
        "#----Improving optimizing both input and output\n",
        "Improve_Mohammadian_Chromosome = [14.90241802,  5.33584429,  4.81661873, 14.30697852,  2.69164333,  7.7558362,\n",
        "  8.77939943,  1.29907548, 13.40544812, 13.66983135,  7.03914808,  5.5865726,\n",
        "  0.14388386, -2.26013001,  2.62204173,  4.78426012,  0.40861047,  6.27924176,\n",
        "  0.474036,    2.42866673,  5.01748171,  4.63428433,  9.97692738,  9.34357029,\n",
        "  3.07939936, 20.81031142, 25.5865075,  12.86532921, 14.74243651, 23.27394623,\n",
        " 25.24901279, 12.04198151, 26.02856501, 25.10638387,  0.10654789, 11.24307712,\n",
        "  7.50852863, 26.04299797, 17.9479118,  25.89720717, 27.08903085, 18.21729956,\n",
        " 11.9860157,  17.2272945 ]\n",
        "\n"
      ]
    },
    {
      "cell_type": "code",
      "execution_count": null,
      "metadata": {
        "id": "6R2AtHr1zP_Y"
      },
      "outputs": [],
      "source": [
        "\n",
        "# Waypoints tracking\n",
        "if Waypoint:\n",
        "  path = [\n",
        "          [0, 0, 0],  #X, Y, orientation\n",
        "          [0.5, 4, 0], #X, Y, orientation\n",
        "          [1, 8, 0], #X, Y, orientation\n",
        "          #[2, 1, 0], #X, Y, orientation\n",
        "          #[0, 0, 0]\n",
        "      ]\n",
        "\n",
        "# Trajectory tracking\n",
        "#Number eight sharp\n",
        "if Number8:\n",
        "  path_x = None\n",
        "  path_y = None\n",
        "  path_theta = 0\n",
        "  path=[]\n",
        "  x_path = []\n",
        "  y_path = []\n",
        "  for time in range(0,61):\n",
        "    omegaR = 3.14/30\n",
        "    x_p = 2 + 10*sin(omegaR*time)\n",
        "    y_p = 1 + 5*sin(2*omegaR*time)\n",
        "    x_path.append(x_p)\n",
        "    y_path.append(y_p)\n",
        "    path_x = x_p\n",
        "    path_y = y_p\n",
        "    path_theta = 0\n",
        "    path1 = [path_x, path_y, path_theta]\n",
        "    path.append(path1)\n",
        "  #path = path\n",
        "\n",
        "# Circle path\n",
        "if Circle: \n",
        "  path_x = None\n",
        "  path_y = None\n",
        "  path_theta = 0\n",
        "  path=[]\n",
        "  x_path = []\n",
        "  y_path = []\n",
        "  for time in range(0,61):\n",
        "    omegaR = 3.14/30\n",
        "    #theta = np.linspace( 0 , 2 * np.pi , 150 )\n",
        "    radius = 8\n",
        "    x_p = -8 + radius * np.cos(omegaR*time)\n",
        "    y_p = 4 + radius * np.sin(omegaR*time)\n",
        "    x_path.append(x_p)\n",
        "    y_path.append(y_p)\n",
        "    path_x = x_p\n",
        "    path_y = y_p\n",
        "    path_theta = 0\n",
        "    path1 = [path_x, path_y, path_theta]\n",
        "    path.append(path1)\n",
        "\n",
        "pathX = [point[0] for point in path]\n",
        "pathY = [point[1] for point in path]\n"
      ]
    },
    {
      "cell_type": "code",
      "execution_count": null,
      "metadata": {
        "id": "jxoVw2XpgyCp"
      },
      "outputs": [],
      "source": [
        "# simulationDescription updated to path\n",
        "simulationDescription = fromPathToDescription(path, simulationDescription)\n",
        "simulationDescription['simulationParams']['t_bound'] = 50\n",
        "if useCluster == True:\n",
        "    ThoaFullResults_Original = fitnessFunctionFLC_FullMultiRemote([Proposed_FLC_Chromosome])\n",
        "    ExpertFullResults_Original = fitnessFunctionFLC_Expert_FullMultiRemote([Original_Expert_Chromosome])\n",
        "    MohammadianFullResults_Original = fitnessFunctionFLC_Mohammadian_Original_FullMultiRemote([Original_Mohammadian_Chromosome])\n",
        "    ThoaFullResults = fitnessFunctionFLC_FullMultiRemote([GA_FLC_Chromosome])\n",
        "    ExpertFullResults = fitnessFunctionFLC_Expert_FullMultiRemote([Expert_Chromosome])\n",
        "    \n",
        "if useCluster == False:\n",
        "    ThoaFLCSimDescription_Original = fromChromozomeToDescriptionFuzzy_Thoa_Original(Proposed_FLC_Chromosome, simulationDescription)\n",
        "    ExpertFLCSimDescription_Original = fromChromozomeToDescriptionFuzzy_Expert_Original(Original_Expert_Chromosome, simulationDescription)\n",
        "    MohammadianSimDescription_Original = fromChromozomeToDescriptionFuzzy_Mohammadian_Original(Original_Mohammadian_Chromosome, simulationDescription)\n",
        "    ThoaFLCSimDescription = fromChromozomeToDescriptionFuzzy_Thoa(GA_FLC_Chromosome, simulationDescription)\n",
        "    ExpertFLCSimDescription = fromChromozomeToDescriptionFuzzy_Expert(Expert_Chromosome, simulationDescription)\n",
        "    \n",
        "\n",
        "    ThoaFullResults_Original = runSimulation(ThoaFLCSimDescription_Original, createFuzzyController, selectors=selectors)\n",
        "    ExpertFullResults_Original = runSimulation(ExpertFLCSimDescription_Original, createFuzzyController, selectors=selectors)\n",
        "    MohammadianFullResults_Original = runSimulation(MohammadianSimDescription_Original, createFuzzyController, selectors=selectors)\n",
        "    ThoaFullResults = runSimulation(ThoaFLCSimDescription, createFuzzyController, selectors=selectors)\n",
        "    ExpertFullResults = runSimulation(ExpertFLCSimDescription, createFuzzyController, selectors=selectors)\n",
        "    \n"
      ]
    },
    {
      "cell_type": "code",
      "source": [
        "if useCluster == True:\n",
        "    print(ThoaFullResults_Original[0]['E'])\n",
        "    print(ExpertFullResults_Original[0]['E'])\n",
        "    print(MohammadianFullResults_Original[0]['E'])\n",
        "    print(ThoaFullResults[0]['E'])\n",
        "    print(ExpertFullResults[0]['E'])    \n",
        "    print (len(ThoaFullResults_Original[0]['E']))\n",
        "if useCluster == False:\n",
        "    #print(ThoaFullResults_Original['x'])\n",
        "    #print(ThoaFullResults_Original['y'])\n",
        "    #print(len(ThoaFullResults_Original['x']))\n",
        "\n",
        "\n",
        "    print(ThoaFullResults_Original['E'])\n",
        "    print(len(ThoaFullResults_Original['E']))\n",
        "\n",
        "    print(ExpertFullResults_Original['E'])\n",
        "    print(len(ExpertFullResults_Original['E']))\n",
        "\n",
        "    print(MohammadianFullResults_Original['E'])\n",
        "    print(len(MohammadianFullResults_Original['E']))\n",
        "\n",
        "    print(ThoaFullResults['E'])\n",
        "    print(len(ThoaFullResults['E']))\n",
        "\n",
        "    print(ExpertFullResults['E'])    \n",
        "    print(len(ExpertFullResults['E']))\n",
        "\n",
        "    #print(ThoaFullResults['x'])\n",
        "    #print(ThoaFullResults['y'])\n",
        "    #print(len(ThoaFullResults['x']))\n",
        "    #print(len(ThoaFullResults['y']))\n",
        "    #print(ThoaFullResults['E'])\n",
        "    #print(len(ThoaFullResults['E']))\n",
        "\n",
        "    #print(MohammadianFullResults_Original['x'])\n",
        "    #print(MohammadianFullResults_Original['y'])\n",
        "    #print(len(MohammadianFullResults_Original['x']))\n",
        "    #print(len(MohammadianFullResults_Original['y']))\n",
        "\n",
        "    #print(ExpertFullResults_Original['x'])\n",
        "    #print(ExpertFullResults_Original['y'])\n",
        "    #print(len(ExpertFullResults_Original['x']))\n",
        "    #print(len(ExpertFullResults_Original['y']))\n",
        "\n",
        "    #print(ExpertFullResults['x'])\n",
        "    #print(ExpertFullResults['y'])\n",
        "    #print(len(ExpertFullResults['x']))\n",
        "    #print(len(ExpertFullResults['y']))"
      ],
      "metadata": {
        "id": "y3FPixYPb5MK"
      },
      "execution_count": null,
      "outputs": []
    },
    {
      "cell_type": "code",
      "source": [
        "# WHEN NOT USE CLUSTER\n",
        "if useCluster == False:\n",
        "    plt.rcParams[\"figure.figsize\"] = (30, 30)\n",
        "    plt.rcParams[\"font.size\"] = \"23\"\n",
        "\n",
        "    def multiPlot(xs, ys, styles, labels,lws):\n",
        "        for x, y, style, label,lw in zip(xs, ys, styles, labels,lws):\n",
        "            plt.plot(x, y, style, label=label, lw=3)\n",
        "\n",
        "    #--plot the path--------------------------------------------------------------\n",
        "    plt.subplot(3, 2, 1)\n",
        "    plt.grid(which = 'both') \n",
        "    p = plt.axis('equal')\n",
        "\n",
        "    #////////////----------Draw WAYPOINTS----------////////////////////\n",
        "\n",
        "    plt.scatter(pathX, pathY, s=200, marker='s', c='black') # For waypoints\n",
        "\n",
        "    if Waypoint:\n",
        "      multiPlot(\n",
        "          [pathX, ThoaFullResults_Original['x'], ExpertFullResults_Original['x'], MohammadianFullResults_Original['x'],ThoaFullResults['x'],ExpertFullResults['x']],\n",
        "          [pathY, ThoaFullResults_Original['y'], ExpertFullResults_Original['y'], MohammadianFullResults_Original['y'],ThoaFullResults['y'],ExpertFullResults['y']],\n",
        "          ['ks', 'r--', 'b--', 'g-','r-','b-'],      \n",
        "          ['Waypoints', 'Proposed_FLC',      'Expert_Based_FLC',                'Mohammadian_GA_FLC',             'Proposed_GA_FLC',    'Expert_GA_FLC'],\n",
        "          [1,2,2,2,2,2,2],\n",
        "          )\n",
        "      plt.legend(loc = 'best')\n",
        "      plt.xlabel('x(m)')\n",
        "      plt.ylabel('y(m)')\n",
        "\n",
        "      #--plot the distance--------------------------------------------------------------\n",
        "      plt.subplot(3, 2, 2)\n",
        "      plt.grid(which = 'both') \n",
        "      multiPlot(\n",
        "          [ThoaFullResults_Original['time'], ExpertFullResults_Original['time'], MohammadianFullResults_Original['time'], ThoaFullResults['time'], ExpertFullResults['time']],\n",
        "          [ThoaFullResults_Original['d'],    ExpertFullResults_Original['d'],    MohammadianFullResults_Original['d'],    ThoaFullResults['d'],    ExpertFullResults['d']],\n",
        "          ['r--', 'b--', 'g-','r-','b-'],\n",
        "          ['Proposed_FLC',      'Expert_Based_FLC',                'Mohammadian_GA_FLC',             'Proposed_GA_FLC',    'Expert_GA_FLC'],\n",
        "          [2,2,2,2,2,2],\n",
        "          )\n",
        "      plt.legend(loc = 'best')\n",
        "      plt.xlabel('Time(s)')\n",
        "      plt.ylabel('Travel distance (m)')\n",
        "\n",
        "      #---plot the velocity----------------------------------------------------------\n",
        "      plt.subplot(3, 2, 3)\n",
        "      plt.grid(which = 'both') \n",
        "      multiPlot(\n",
        "          [ThoaFullResults_Original['time'], ExpertFullResults_Original['time'], MohammadianFullResults_Original['time'], ThoaFullResults['time'],ExpertFullResults['time']],\n",
        "          [ThoaFullResults_Original['v'],    ExpertFullResults_Original['v'],    MohammadianFullResults_Original['v'],    ThoaFullResults['v'],ExpertFullResults['v']],\n",
        "          ['r--', 'b--', 'g-','r-','b-'],\n",
        "          ['Proposed_FLC',      'Expert_Based_FLC',                'Mohammadian_GA_FLC',             'Proposed_GA_FLC',    'Expert_GA_FLC'],\n",
        "          [2,2,2,2,2,2],\n",
        "          )\n",
        "      plt.legend(loc = 'best')\n",
        "      plt.xlabel('Time(s)')\n",
        "      plt.ylabel('Linear Velocity($\\\\rm m\\dot s^{-1}$)')\n",
        "\n",
        "      #--plot the omega-------------------------------------------------------------\n",
        "      plt.subplot(3, 2, 4)\n",
        "      plt.grid(which = 'both') \n",
        "      multiPlot(\n",
        "          [ThoaFullResults_Original['time'],  ExpertFullResults_Original['time'],  MohammadianFullResults_Original['time'], ThoaFullResults['time'],ExpertFullResults['time']],\n",
        "          [ThoaFullResults_Original['omega'], ExpertFullResults_Original['omega'], MohammadianFullResults_Original['omega'],ThoaFullResults['omega'],ExpertFullResults['omega']],\n",
        "          ['r--', 'b--', 'g-','r-','b-'],\n",
        "          ['Proposed_FLC',      'Expert_Based_FLC',                'Mohammadian_GA_FLC',             'Proposed_GA_FLC',    'Expert_GA_FLC'],\n",
        "          [2,2,2,2,2,2],\n",
        "          )\n",
        "      plt.legend(loc = 'upper right')\n",
        "      plt.xlabel('Time(s)')\n",
        "      plt.ylabel('Angular velocity($\\\\rm rad\\dot s^{-1}$)')\n",
        "\n",
        "      #--plot the total energy consumption------------------------------------------\n",
        "      plt.subplot(3, 2, 5)\n",
        "      plt.grid(which = 'both') \n",
        "      multiPlot(\n",
        "          [ThoaFullResults_Original['time'], ExpertFullResults_Original['time'], MohammadianFullResults_Original['time'], ThoaFullResults['time'],ExpertFullResults['time']],\n",
        "          [ThoaFullResults_Original['E'],    ExpertFullResults_Original['E'],    MohammadianFullResults_Original['E'],    ThoaFullResults['E'],   ExpertFullResults['E']],\n",
        "          ['r--', 'b--', 'g-','r-','b-'],\n",
        "          ['Proposed_FLC',      'Expert_Based_FLC',                'Mohammadian_GA_FLC',             'Proposed_GA_FLC',    'Expert_GA_FLC'],\n",
        "          [2,2,2,2,2,2],\n",
        "          )\n",
        "      plt.legend(loc = 'lower right')\n",
        "      plt.xlabel('Time(s)')\n",
        "      plt.ylabel('Energy consumption ( J )')\n",
        "\n",
        "      #------------------------------\n",
        "\n",
        "      plt.subplot(3, 2, 6)\n",
        "      plt.grid(which = 'both')\n",
        "      multiPlot(\n",
        "          [ThoaFullResults['time']],\n",
        "          [ThoaFullResults['E']],\n",
        "          ['r-'],\n",
        "          ['Proposed_GA_FLC'],\n",
        "          ['2'],\n",
        "          )\n",
        "      plt.legend(loc = 'best')\n",
        "      plt.xlabel('Time(s)')\n",
        "      plt.ylabel('Energy consumption ( J )')\n",
        "\n",
        "    else:\n",
        "      multiPlot(\n",
        "          [pathX, ThoaFullResults['x']],\n",
        "          [pathY, ThoaFullResults['y']],\n",
        "          ['r-', 'b-', ],\n",
        "          ['Planned path', 'Proposed_GA_FLC'],\n",
        "          [2,2]\n",
        "          )\n",
        "      plt.legend(loc = 'best')\n",
        "      plt.xlabel('x(m)')\n",
        "      plt.ylabel('y(m)')\n",
        "\n",
        "      #--plot the distance--------------------------------------------------------------\n",
        "      plt.subplot(3, 2, 2)\n",
        "      plt.grid(which = 'both') \n",
        "      multiPlot(\n",
        "          [ThoaFullResults['time']],\n",
        "          [ThoaFullResults['d']],\n",
        "          ['r-'],\n",
        "          ['Proposed_GA_FLC'],\n",
        "          [2]\n",
        "          )\n",
        "      plt.legend(loc = 'best')\n",
        "      plt.xlabel('Time(s)')\n",
        "      plt.ylabel('Travel distance (m)')\n",
        "\n",
        "      #---plot the velocity----------------------------------------------------------\n",
        "      plt.subplot(3, 2, 3)\n",
        "      plt.grid(which = 'both') \n",
        "      multiPlot(\n",
        "          [ThoaFullResults['time']],\n",
        "          [ThoaFullResults['v']],\n",
        "          ['r-'],\n",
        "          ['Proposed_GA_FLC'],\n",
        "          [2]\n",
        "          )\n",
        "      plt.legend(loc = 'lower left')\n",
        "      plt.xlabel('Time(s)')\n",
        "      plt.ylabel('Linear Velocity($\\\\rm m\\dot s^{-1}$)')\n",
        "\n",
        "      #--plot the omega-------------------------------------------------------------\n",
        "      plt.subplot(3, 2, 4)\n",
        "      plt.grid(which = 'both') \n",
        "      multiPlot(\n",
        "          [ThoaFullResults['time']],\n",
        "          [ThoaFullResults['omega']],\n",
        "          ['r-'],\n",
        "          ['Proposed_GA_FLC'],\n",
        "          [2]\n",
        "          )\n",
        "      plt.legend(loc = 'lower right')\n",
        "      plt.xlabel('Time(s)')\n",
        "      plt.ylabel('Angular velocity($\\\\rm rad\\dot s^{-1}$)')\n",
        "\n",
        "      #--plot the total energy consumption------------------------------------------\n",
        "      plt.subplot(3, 2, 5)\n",
        "      plt.grid(which = 'both') \n",
        "      multiPlot(\n",
        "          [ThoaFullResults['time']],\n",
        "          [ThoaFullResults['E']],\n",
        "          ['r-'],\n",
        "          ['Proposed_GA_FLC'],\n",
        "          [2]\n",
        "          )\n",
        "      plt.legend(loc = 'lower right')\n",
        "      plt.xlabel('Time(s)')\n",
        "      plt.ylabel('Energy consumption ( J )')\n",
        "\n",
        "##///////////////////////////////////////////////////////////////////////////////////\n",
        "# FOR CLUSTER\n",
        "#///////////////////////////////////////////////////////////////////////////////////////\n",
        "if useCluster == True:  \n",
        "    plt.rcParams[\"figure.figsize\"] = (30, 30)\n",
        "    plt.rcParams[\"font.size\"] = \"24\"\n",
        "\n",
        "    def multiPlot(xs, ys, styles, labels,lws):\n",
        "        for x, y, style, label,lw in zip(xs, ys, styles, labels,lws):\n",
        "            plt.plot(x, y, style, label=label, lw=lw)\n",
        "\n",
        "    #--plot the path--------------------------------------------------------------\n",
        "    plt.subplot(3, 2, 1)\n",
        "    plt.grid(which = 'both') \n",
        "    p = plt.axis('equal')\n",
        "\n",
        "    #////////////----------Draw WAYPOINTS----------////////////////////\n",
        "\n",
        "    plt.scatter(pathX, pathY, s=200, marker='s', c='black') # For waypoints\n",
        "\n",
        "    if Waypoint:\n",
        "      multiPlot(\n",
        "          [pathX, ThoaFullResults_Original[0]['x'], ExpertFullResults_Original[0]['x'], MohammadianFullResults_Original[0]['x'],ThoaFullResults[0]['x'],ExpertFullResults[0]['x']],\n",
        "          [pathY, ThoaFullResults_Original[0]['y'], ExpertFullResults_Original[0]['y'], MohammadianFullResults_Original[0]['y'],ThoaFullResults[0]['y'],ExpertFullResults[0]['y']],\n",
        "          ['ks', 'r--', 'b--', 'g-','r-','b-'],      \n",
        "          ['Waypoints', 'Proposed_FLC',      'Expert_Based_FLC',                'Mohammadian_GA_FLC',             'Proposed_GA_FLC',    'Expert_GA_FLC'],\n",
        "          [1,2,2,2,2,2,2],\n",
        "          )\n",
        "      plt.legend(loc = 'best')\n",
        "      plt.xlabel('x(m)')\n",
        "      plt.ylabel('y(m)')\n",
        "\n",
        "      #--plot the distance--------------------------------------------------------------\n",
        "      plt.subplot(3, 2, 2)\n",
        "      plt.grid(which = 'both') \n",
        "      multiPlot(\n",
        "          [ThoaFullResults_Original[0]['time'], ExpertFullResults_Original[0]['time'], MohammadianFullResults_Original[0]['time'], ThoaFullResults[0]['time'], ExpertFullResults[0]['time']],\n",
        "          [ThoaFullResults_Original[0]['d'],    ExpertFullResults_Original[0]['d'],    MohammadianFullResults_Original[0]['d'],    ThoaFullResults[0]['d'],    ExpertFullResults[0]['d']],\n",
        "          ['r--', 'b--', 'g-','r-','b-'],\n",
        "          ['Proposed_FLC',      'Expert_Based_FLC',                'Mohammadian_GA_FLC',             'Proposed_GA_FLC',    'Expert_GA_FLC'],\n",
        "          [2,2,2,2,2,2],\n",
        "          )\n",
        "      plt.legend(loc = 'best')\n",
        "      plt.xlabel('Time(s)')\n",
        "      plt.ylabel('Travel distance (m)')\n",
        "\n",
        "      #---plot the velocity----------------------------------------------------------\n",
        "      plt.subplot(3, 2, 3)\n",
        "      plt.grid(which = 'both') \n",
        "      multiPlot(\n",
        "          [ThoaFullResults_Original[0]['time'], ExpertFullResults_Original[0]['time'], MohammadianFullResults_Original[0]['time'], ThoaFullResults[0]['time'],ExpertFullResults[0]['time']],\n",
        "          [ThoaFullResults_Original[0]['v'],    ExpertFullResults_Original[0]['v'],    MohammadianFullResults_Original[0]['v'],    ThoaFullResults[0]['v'],ExpertFullResults[0]['v']],\n",
        "          ['r--', 'b--', 'g-','r-','b-'],\n",
        "          ['Proposed_FLC',      'Expert_Based_FLC',                'Mohammadian_GA_FLC',             'Proposed_GA_FLC',    'Expert_GA_FLC'],\n",
        "          [2,2,2,2,2,2],\n",
        "          )\n",
        "      plt.legend(loc = 'lower left')\n",
        "      plt.xlabel('Time(s)')\n",
        "      plt.ylabel('Linear Velocity($\\\\rm m\\dot s^{-1}$)')\n",
        "\n",
        "      #--plot the omega-------------------------------------------------------------\n",
        "      plt.subplot(3, 2, 4)\n",
        "      plt.grid(which = 'both') \n",
        "      multiPlot(\n",
        "          [ThoaFullResults_Original[0]['time'],  ExpertFullResults_Original[0]['time'],  MohammadianFullResults_Original[0]['time'], ThoaFullResults[0]['time'],ExpertFullResults[0]['time']],\n",
        "          [ThoaFullResults_Original[0]['omega'], ExpertFullResults_Original[0]['omega'], MohammadianFullResults_Original[0]['omega'],ThoaFullResults[0]['omega'],ExpertFullResults[0]['omega']],\n",
        "          ['r--', 'b--', 'g-','r-','b-'],\n",
        "          ['Proposed_FLC',      'Expert_Based_FLC',                'Mohammadian_GA_FLC',             'Proposed_GA_FLC',    'Expert_GA_FLC'],\n",
        "          [2,2,2,2,2,2],\n",
        "          )\n",
        "      plt.legend(loc = 'lower right')\n",
        "      plt.xlabel('Time(s)')\n",
        "      plt.ylabel('Angular velocity($\\\\rm rad\\dot s^{-1}$)')\n",
        "\n",
        "      #--plot the total energy consumption------------------------------------------\n",
        "      plt.subplot(3, 2, 5)\n",
        "      plt.grid(which = 'both') \n",
        "      multiPlot(\n",
        "          [ThoaFullResults_Original[0]['time'], ExpertFullResults_Original[0]['time'], MohammadianFullResults_Original[0]['time'], ThoaFullResults[0]['time'],ExpertFullResults[0]['time']],\n",
        "          [ThoaFullResults_Original[0]['E'],    ExpertFullResults_Original[0]['E'],    MohammadianFullResults_Original[0]['E'],    ThoaFullResults[0]['E'],   ExpertFullResults[0]['E']],\n",
        "          ['r--', 'b--', 'g-','r-','b-'],\n",
        "          ['Proposed_FLC',      'Expert_Based_FLC',                'Mohammadian_GA_FLC',             'Proposed_GA_FLC',    'Expert_GA_FLC'],\n",
        "          [2,2,2,2,2,2],\n",
        "          )\n",
        "      plt.legend(loc = 'lower right')\n",
        "      plt.xlabel('Time(s)')\n",
        "      plt.ylabel('Energy consumption ( J )')\n",
        "\n",
        "      #------------------------------\n",
        "\n",
        "      plt.subplot(3, 2, 6)\n",
        "      plt.grid(which = 'both')\n",
        "      multiPlot(\n",
        "          #[CircleFullResults['time'], FLCFullResults['time'], ChaudhariFullResults['time']],\n",
        "          #[CircleFullResults['E'], FLCFullResults['E'], ChaudhariFullResults['E']],\n",
        "          [ThoaFullResults[0]['time']],\n",
        "          [ThoaFullResults[0]['E']],\n",
        "          ['r-'],\n",
        "          ['Proposed_GA_FLC'],\n",
        "          ['2'],\n",
        "          #['m-', 'g-','r--',],\n",
        "          #['Circle controller', 'GA_FLC controller','Chaudhari-based controller',]\n",
        "          )\n",
        "      plt.legend(loc = 'best')\n",
        "      plt.xlabel('Time(s)')\n",
        "      plt.ylabel('Energy consumption ( J )')\n",
        "\n",
        "    else:\n",
        "      multiPlot(\n",
        "          [pathX, ThoaFullResults[0]['x']],\n",
        "          [pathY, ThoaFullResults[0]['y']],\n",
        "          ['r-', 'b-', ],\n",
        "          ['Planned path', 'Proposed_GA_FLC'],\n",
        "          [2,2]\n",
        "          )\n",
        "      plt.legend(loc = 'best')\n",
        "      plt.xlabel('x(m)')\n",
        "      plt.ylabel('y(m)')\n",
        "\n",
        "      #--plot the distance--------------------------------------------------------------\n",
        "      plt.subplot(3, 2, 2)\n",
        "      plt.grid(which = 'both') \n",
        "      multiPlot(\n",
        "          [ThoaFullResults[0]['time']],\n",
        "          [ThoaFullResults[0]['d']],\n",
        "          ['r-'],\n",
        "          ['Proposed_GA_FLC'],\n",
        "          [2]\n",
        "          )\n",
        "      plt.legend(loc = 'best')\n",
        "      plt.xlabel('Time(s)')\n",
        "      plt.ylabel('Travel distance (m)')\n",
        "\n",
        "      #---plot the velocity----------------------------------------------------------\n",
        "      plt.subplot(3, 2, 3)\n",
        "      plt.grid(which = 'both') \n",
        "      multiPlot(\n",
        "          [ThoaFullResults[0]['time']],\n",
        "          [ThoaFullResults[0]['v']],\n",
        "          ['r-'],\n",
        "          ['Proposed_GA_FLC'],\n",
        "          [2]\n",
        "          )\n",
        "      plt.legend(loc = 'lower left')\n",
        "      plt.xlabel('Time(s)')\n",
        "      plt.ylabel('Linear Velocity($\\\\rm m\\dot s^{-1}$)')\n",
        "\n",
        "      #--plot the omega-------------------------------------------------------------\n",
        "      plt.subplot(3, 2, 4)\n",
        "      plt.grid(which = 'both') \n",
        "      multiPlot(\n",
        "          [ThoaFullResults[0]['time']],\n",
        "          [ThoaFullResults[0]['omega']],\n",
        "          ['r-'],\n",
        "          ['Proposed_GA_FLC'],\n",
        "          [2]\n",
        "          )\n",
        "      plt.legend(loc = 'lower right')\n",
        "      plt.xlabel('Time(s)')\n",
        "      plt.ylabel('Angular velocity($\\\\rm rad\\dot s^{-1}$)')\n",
        "\n",
        "      #--plot the total energy consumption------------------------------------------\n",
        "      plt.subplot(3, 2, 5)\n",
        "      plt.grid(which = 'both') \n",
        "      multiPlot(\n",
        "          [ThoaFullResults[0]['time']],\n",
        "          [ThoaFullResults[0]['E']],\n",
        "          ['r-'],\n",
        "          ['Proposed_GA_IO_FLC'],\n",
        "          [2]\n",
        "          )\n",
        "      plt.legend(loc = 'lower right')\n",
        "      plt.xlabel('Time(s)')\n",
        "      plt.ylabel('Energy consumption ( J )')"
      ],
      "metadata": {
        "id": "e4ALvIgydTFH"
      },
      "execution_count": null,
      "outputs": []
    },
    {
      "cell_type": "markdown",
      "metadata": {
        "id": "uANsdRsAzP_Z"
      },
      "source": [
        "### Results Plots"
      ]
    },
    {
      "cell_type": "markdown",
      "metadata": {
        "id": "EIFi3S01zP_a"
      },
      "source": [
        "### Results List"
      ]
    },
    {
      "cell_type": "code",
      "source": [
        "import pandas as pd\n",
        "if Waypoint:\n",
        "  if useCluster == True:\n",
        "    data = [\n",
        "        {'Controller Name': 'Proposed_FLC', 'Energy [J]': ThoaFullResults_Original[0]['E'][-1], 'Distance [m]': ThoaFullResults_Original[0]['d'][-1]},\n",
        "        {'Controller Name': 'Mohammadian_GA_FLC', 'Energy [J]': MohammadianFullResults_Original[0]['E'][-1], 'Distance [m]': MohammadianFullResults_Original[0]['d'][-1]},\n",
        "        {'Controller Name': 'Proposed_GA_FLC', 'Energy [J]': ThoaFullResults[0]['E'][-1], 'Distance [m]': ThoaFullResults[0]['d'][-1]},      \n",
        "        {'Controller Name': 'Expert_Based_FLC', 'Energy [J]': ExpertFullResults_Original[0]['E'][-1], 'Distance [m]': ExpertFullResults_Original[0]['d'][-1]},\n",
        "        {'Controller Name': 'Expert_GA_FLC', 'Energy [J]': ExpertFullResults[0]['E'][-1], 'Distance [m]': ExpertFullResults[0]['d'][-1]},]\n",
        "  if useCluster == False:\n",
        "    data = [\n",
        "        {'Controller Name': 'Proposed_FLC', 'Energy [J]': ThoaFullResults_Original['E'][-1], 'Distance [m]': ThoaFullResults_Original['d'][-1]},\n",
        "        {'Controller Name': 'Mohammadian_GA_FLC', 'Energy [J]': MohammadianFullResults_Original['E'][-1], 'Distance [m]': MohammadianFullResults_Original['d'][-1]},\n",
        "        {'Controller Name': 'Proposed_GA_FLC', 'Energy [J]': ThoaFullResults['E'][-1], 'Distance [m]': ThoaFullResults['d'][-1]},      \n",
        "        {'Controller Name': 'Expert_Based_FLC', 'Energy [J]': ExpertFullResults_Original['E'][-1], 'Distance [m]': ExpertFullResults_Original['d'][-1]},\n",
        "        {'Controller Name': 'Expert_GA_FLC', 'Energy [J]': ExpertFullResults['E'][-1], 'Distance [m]': ExpertFullResults['d'][-1]},]\n",
        "else:\n",
        "    if useCluster == True:\n",
        "      data = [{'Controller Name': 'Optimized FLC', 'Energy [J]': FLCFullResults[0]['E'][-1], 'Distance [m]': FLCFullResults[0]['d'][-1]}]\n",
        "    if useCluster == False:\n",
        "      data = [{'Controller Name': 'Optimized FLC', 'Energy [J]': FLCFullResults['E'][-1], 'Distance [m]': FLCFullResults['d'][-1]}]\n",
        "display(pd.DataFrame(data))"
      ],
      "metadata": {
        "id": "RV0hkkMiml-x"
      },
      "execution_count": null,
      "outputs": []
    },
    {
      "cell_type": "markdown",
      "metadata": {
        "id": "L2Ibtk6FzP_b"
      },
      "source": [
        "### Comparison with Other Optimizations"
      ]
    },
    {
      "cell_type": "markdown",
      "metadata": {
        "id": "zaqBKT4PzP_d"
      },
      "source": [
        "### Visualisation of Membership functions"
      ]
    },
    {
      "cell_type": "code",
      "execution_count": null,
      "metadata": {
        "id": "-EYzc_YBzP_d"
      },
      "outputs": [],
      "source": [
        "plt.rcParams[\"figure.figsize\"] = (20, 5)\n",
        "plt.rcParams[\"font.size\"] = \"18\"\n",
        "\n",
        "def plotMemberFunction(S, M):\n",
        "    for key, value in M.items():\n",
        "        data = fuzz.trimf(np.array(S), value)\n",
        "        plt.plot(S, data, label=key)        \n",
        "    pass\n",
        "\n",
        "def plotMemberFunctionsAll(description):\n",
        "    distanceDesc = description['controllerParams']['fuzzyDescription']['inputs']['distance']\n",
        "    plotMemberFunction(\n",
        "        distanceDesc['S'],\n",
        "        distanceDesc['M'])       \n",
        "    plt.show()\n",
        "    \n",
        "    angleDesc = description['controllerParams']['fuzzyDescription']['inputs']['angle']\n",
        "    plotMemberFunction(\n",
        "        angleDesc['S'],\n",
        "        angleDesc['M'])\n",
        "    plt.show()\n",
        "    \n",
        "    omegaRDesc = description['controllerParams']['fuzzyDescription']['outputs']['omegaR']\n",
        "    plotMemberFunction(\n",
        "        omegaRDesc['S'],\n",
        "        omegaRDesc['M'])\n",
        "    plt.show()\n",
        "    \n",
        "    omegaLDesc = description['controllerParams']['fuzzyDescription']['outputs']['omegaL']\n",
        "    plotMemberFunction(\n",
        "        omegaLDesc['S'],\n",
        "        omegaLDesc['M'])\n",
        "    plt.show()\n",
        "\n",
        "plotGA_IO_MFs = True\n",
        "plotGA_O_MFs = False\n",
        "plotExpertMFs = False\n",
        "\n",
        "if plotGA_IO_MFs == True:\n",
        "  ThoaFLCSimDescription_Original = fromChromozomeToDescriptionFuzzy_Thoa_Original(Proposed_FLC_Chromosome, simulationDescription)\n",
        "  ThoaFLCSimDescription = fromChromozomeToDescriptionFuzzy_Thoa(GA_FLC_Chromosome, simulationDescription)\n",
        "  plotMemberFunctionsAll(ThoaFLCSimDescription_Original)\n",
        "  plotMemberFunctionsAll(ThoaFLCSimDescription)\n",
        "\n",
        "if plotGA_O_MFs == True:\n",
        "  MohammadianSimDescription_Original = fromChromozomeToDescriptionFuzzy_Mohammadian_Original(Original_Mohammadian_Chromosome, simulationDescription)\n",
        "  MohammadianSimDescription = fromChromozomeToDescriptionFuzzy_Mohammadian(Mohammadian_Chromosome, simulationDescription)\n",
        "  plotMemberFunctionsAll(MohammadianSimDescription_Original)\n",
        "  plotMemberFunctionsAll(MohammadianSimDescription)\n",
        "\n",
        "if plotExpertMFs == True:    \n",
        "  ExpertFLCSimDescription = fromChromozomeToDescriptionFuzzy_Expert(Expert_Chromosome, simulationDescription)\n",
        "  ExpertFLCSimDescription_Original = fromChromozomeToDescriptionFuzzy_Expert(Original_Expert_Chromosome, simulationDescription)\n",
        "  plotMemberFunctionsAll(ExpertFLCSimDescription_Original)\n",
        "  plotMemberFunctionsAll(ExpertFLCSimDescription)"
      ]
    },
    {
      "cell_type": "markdown",
      "metadata": {
        "id": "8GzBH53fzP_e"
      },
      "source": [
        "# Fuzzy Control System"
      ]
    },
    {
      "cell_type": "markdown",
      "metadata": {
        "id": "zKFTnbKvzP_e"
      },
      "source": [
        "Inspired by https://pythonhosted.org/scikit-fuzzy/auto_examples/plot_control_system_advanced.html#example-plot-control-system-advanced-py"
      ]
    },
    {
      "cell_type": "code",
      "execution_count": null,
      "metadata": {
        "id": "O2D2QlxHzP_e"
      },
      "outputs": [],
      "source": [
        " fuzzyDescription = {\n",
        "        'inputs': {\n",
        "            'distance' : {\n",
        "                'S': list(np.arange(0, 10, 0.1)),\n",
        "                'M': {'VC': [0, 0, 2.5], 'C': [0, 2.5, 5], 'M': [2.5, 5, 7.5], 'F': [5, 7.5, 10], 'VF': [7.5, 10, 10]}\n",
        "            },\n",
        "            'angle' : {\n",
        "                'S': list(np.arange(-3.14, 3.14, 0.0628)),\n",
        "                'M': {'BN': [-3.14, -3.14, -1.57], 'N': [-3.14, -1.57, 0], 'Z': [-1.57, 0, 1.57], 'P': [0, 1.57, 3.14], 'BP': [1.57, 3.14, 3.14]}\n",
        "            }\n",
        "        },\n",
        "        'outputs': {\n",
        "            'omegaR': {\n",
        "                'S': list(np.arange(0, 30, 0.3)),\n",
        "                'rules': {\n",
        "                    'VC': {'BN': 'VSR', 'N': 'SR', 'Z': 'VSR', 'P': 'BR', 'BP': 'VBR'},\n",
        "                    'C': {'BN': 'VSR', 'N': 'SR', 'Z': 'SR', 'P': 'BR', 'BP': 'VBR'},\n",
        "                    'M': {'BN': 'VSR', 'N': 'SR', 'Z': 'MBR', 'P': 'BR', 'BP': 'VBR'},\n",
        "                    'F': {'BN': 'VSR', 'N': 'SR', 'Z': 'BR', 'P': 'BR', 'BP': 'VBR'},\n",
        "                    'VF': {'BN': 'VSR', 'N': 'SR', 'Z': 'VBR', 'P': 'BR', 'BP': 'VBR'}\n",
        "                },\n",
        "                'mode': 'centroid',\n",
        "                'M': {'VSR': [0, 0, 7.5], 'SR': [0, 7.5, 15], 'MBR': [7.5, 15, 22.5], 'BR': [15, 22.5, 30], 'VBR': [22.5, 30, 30]}\n",
        "            },\n",
        "            'omegaL': {\n",
        "                'S': list(np.arange(0, 30, 0.3)),\n",
        "                'rules': {\n",
        "                    'VC': {'BN': 'VBL', 'N': 'BL', 'Z': 'VSL', 'P': 'SL', 'BP': 'VSL'},\n",
        "                    'C': {'BN': 'VBL', 'N': 'BL', 'Z': 'SL', 'P': 'SL', 'BP': 'VSL'},\n",
        "                    'M': {'BN': 'VBL', 'N': 'BL', 'Z': 'MBL', 'P': 'SL', 'BP': 'VSL'},\n",
        "                    'F': {'BN': 'VBL', 'N': 'BL', 'Z': 'BL', 'P': 'SL', 'BP': 'VSL'},\n",
        "                    'VF': {'BN': 'VBL', 'N': 'BL', 'Z': 'VBL', 'P': 'SL', 'BP': 'VSL'} \n",
        "                },\n",
        "                'mode': 'centroid',\n",
        "                'M': {'VSL': [0, 0, 7.5], 'SL': [0, 7.5, 15], 'MBL': [7.5, 15, 22.5], 'BL': [15, 22.5, 30], 'VBL': [22.5, 30, 30]}\n",
        "            }\n",
        "        }\n",
        "    }     \n"
      ]
    },
    {
      "cell_type": "code",
      "execution_count": null,
      "metadata": {
        "id": "Yz0pSBcDzP_e"
      },
      "outputs": [],
      "source": [
        "import numpy as np\n",
        "import skfuzzy.control as ctrl\n",
        "import skfuzzy as fuzz\n",
        "\n",
        "# Sparse universe makes calculations faster, without sacrifice accuracy.\n",
        "# Only the critical points are included here; making it higher resolution is\n",
        "# unnecessary.\n",
        "universeDistance = np.array(fuzzyDescription['inputs']['distance']['S'])\n",
        "universeAngle = np.array(fuzzyDescription['inputs']['angle']['S'])\n",
        "universeOmega = np.array(fuzzyDescription['outputs']['omegaR']['S'])\n",
        "# Create the three fuzzy variables - two inputs, one output\n",
        "distanceVar = ctrl.Antecedent(universeDistance, 'distance')\n",
        "angleVar = ctrl.Antecedent(universeAngle, 'angle')\n",
        "omegaVar = ctrl.Consequent(universeOmega, 'omega')\n",
        "\n",
        "# Here we use the convenience `automf` to populate the fuzzy variables with\n",
        "# terms. The optional kwarg `names=` lets us specify the names of our Terms.\n",
        "\n",
        "for key, value in fuzzyDescription['inputs']['distance']['M'].items():\n",
        "    distanceVar[key] = fuzz.trimf(universeDistance, value)\n",
        "    \n",
        "for key, value in fuzzyDescription['inputs']['angle']['M'].items():\n",
        "    angleVar[key] = fuzz.trimf(universeAngle, value)\n",
        "    \n",
        "for key, value in fuzzyDescription['outputs']['omegaR']['M'].items():\n",
        "    omegaVar[key] = fuzz.trimf(universeOmega, value)\n",
        "    \n"
      ]
    },
    {
      "cell_type": "code",
      "execution_count": null,
      "metadata": {
        "id": "uaDd1W7nzP_e"
      },
      "outputs": [],
      "source": [
        "rule0 = ctrl.Rule(antecedent=(angleVar['BN'] |\n",
        "                              (angleVar['Z'] & distanceVar['VC'])),\n",
        "                  consequent=omegaVar['VSR'], label='rule 0')\n",
        "rule1 = ctrl.Rule(antecedent=(angleVar['N'] |\n",
        "                              (angleVar['Z'] & distanceVar['C'])),\n",
        "                  consequent=omegaVar['SR'], label='rule 1')                  \n",
        "rule2 = ctrl.Rule(antecedent=(angleVar['Z'] & distanceVar['M']),\n",
        "                  consequent=omegaVar['MBR'], label='rule 2')\n",
        "rule3 = ctrl.Rule(antecedent=(angleVar['P'] |\n",
        "                              (angleVar['Z'] & distanceVar['F'])),\n",
        "                  consequent=omegaVar['BR'], label='rule 3')\n",
        "rule4 = ctrl.Rule(antecedent=(angleVar['BP'] |\n",
        "                              (angleVar['Z'] & distanceVar['VF'])),\n",
        "                  consequent=omegaVar['VBR'], label='rule 4')\n",
        "                  \n",
        "system = ctrl.ControlSystem(rules=[rule0, rule1, rule2, rule3, rule4])"
      ]
    },
    {
      "cell_type": "code",
      "execution_count": null,
      "metadata": {
        "id": "9WQbLMe9zP_f"
      },
      "outputs": [],
      "source": [
        "inputsDistance = fuzzyDescription['inputs']['distance']['M']\n",
        "inputsSpaceDistance = np.array(fuzzyDescription['inputs']['distance']['S'])\n",
        "\n",
        "inputsAngle = fuzzyDescription['inputs']['angle']['M']\n",
        "inputsSpaceAngle = np.array(fuzzyDescription['inputs']['angle']['S'])\n",
        "\n",
        "outputsOmegaR = fuzzyDescription['outputs']['omegaR']['M']\n",
        "outputSpaceOmegaR = np.array(fuzzyDescription['outputs']['omegaR']['S'])\n",
        "outputRulesOmegaR = fuzzyDescription['outputs']['omegaR']['rules']\n",
        "\n",
        "outputsOmegaL = fuzzyDescription['outputs']['omegaL']['M']\n",
        "outputSpaceOmegaL = np.array(fuzzyDescription['outputs']['omegaL']['S'])\n",
        "outputRulesOmegaL = fuzzyDescription['outputs']['omegaL']['rules']\n",
        "\n",
        "\n",
        "inputsDistanceFuzzyfier = createFuzzyfier(inputsSpaceDistance, inputsDistance)\n",
        "inputsAngleFuzzyfier = createFuzzyfier(inputsSpaceAngle, inputsAngle)\n",
        "\n",
        "inferenceSystem_R = createInferenceSystem(inputsDistanceFuzzyfier, inputsAngleFuzzyfier, outputSpaceOmegaR, outputsOmegaR, outputRulesOmegaR)\n",
        "outputDefuzzyfier_R = createDefuzzyfier(outputSpaceOmegaL, mode='centroid')\n",
        "\n",
        "inferenceSystem_L = createInferenceSystem(inputsDistanceFuzzyfier, inputsAngleFuzzyfier, outputSpaceOmegaL, outputsOmegaL, outputRulesOmegaL)\n",
        "outputDefuzzyfier_L = createDefuzzyfier(outputSpaceOmegaL, mode='centroid')\n",
        "\n",
        "fullSystem_R = createFullFuzzySystem(inferenceSystem_R, outputDefuzzyfier_R)"
      ]
    },
    {
      "cell_type": "code",
      "execution_count": null,
      "metadata": {
        "id": "OQ6IwB4OzP_f"
      },
      "outputs": [],
      "source": [
        "# Plot the result in pretty 3D with alpha blending\n",
        "import matplotlib.pyplot as plt\n",
        "from mpl_toolkits.mplot3d import Axes3D  # Required for 3D plotting\n",
        "\n",
        "def fuzzyPlot(x, y, z):\n",
        "    fig = plt.figure(figsize=(8, 8))\n",
        "    ax = fig.add_subplot(111, projection='3d')\n",
        "\n",
        "    surf = ax.plot_surface(x, y, z, rstride=1, cstride=1, cmap='viridis',\n",
        "                           linewidth=0.4, antialiased=True)\n",
        "\n",
        "    #cset = ax.contourf(x, y, z, zdir='z', offset=-2.5, cmap='viridis', alpha=0.5)\n",
        "    #cset = ax.contourf(x, y, z, zdir='x', offset=3, cmap='viridis', alpha=0.5)\n",
        "    #cset = ax.contourf(x, y, z, zdir='y', offset=3, cmap='viridis', alpha=0.5)\n",
        "\n",
        "    ax.view_init(30, 200)"
      ]
    },
    {
      "cell_type": "code",
      "execution_count": null,
      "metadata": {
        "id": "_on0ALE9zP_g"
      },
      "outputs": [],
      "source": [
        "sim = ctrl.ControlSystemSimulation(system)\n",
        "\n",
        "\n",
        "x, y = np.meshgrid(universeAngle, universeDistance)\n",
        "zA = np.zeros_like(x)\n",
        "zB = np.zeros_like(x)\n",
        "zC = np.zeros_like(x)\n",
        "\n",
        "for i, angle in enumerate(universeAngle):\n",
        "    for j, distance in enumerate(universeDistance):\n",
        "        sim.input['angle'] = angle\n",
        "        sim.input['distance'] = distance\n",
        "        #sim.compute()\n",
        "        #resultA = sim.output['omega']\n",
        "        resultB = fullSystem_R(distance, angle)\n",
        "        zB[j, i] = resultB\n",
        "        #zA[i, j] = resultA\n",
        "        #zC[i, j] = resultA - resultB\n",
        "        #print(abs(resultA - resultB), ', ', end='')\n",
        "    \n",
        "    \n",
        "#fuzzyPlot(x, y, zA)    \n",
        "fuzzyPlot(x, y, zB)    \n",
        "#fuzzyPlot(x, y, zC)    "
      ]
    },
    {
      "cell_type": "code",
      "execution_count": null,
      "metadata": {
        "id": "YbosubNyzP_g"
      },
      "outputs": [],
      "source": [
        "%%timeit \n",
        "resultB = fullSystem_R(distance, angle)"
      ]
    },
    {
      "cell_type": "markdown",
      "metadata": {
        "id": "mg7V3uhKN8DN"
      },
      "source": [
        "For GA_FLC MFs"
      ]
    },
    {
      "cell_type": "code",
      "execution_count": null,
      "metadata": {
        "id": "-Q_2ruHWbQlN"
      },
      "outputs": [],
      "source": [
        "CH = [7.49643109, 1.02472246, 5.91733384, 0.01706397, 7.5,        0.96009048, 7.49999996, 0.38670046]\n",
        "\n",
        "VSR =  [0, 0,0, 7.5]\n",
        "SR  =  [7.5-CH[0], 7.5,7.5, 7.5+CH[1]]\n",
        "MBR =  [7.5, 15,15, 22.5]\n",
        "BR  = [22.5-CH[2], 22.5, 22.5, 22.5+CH[3]]\n",
        "VBR = [22.5, 30,30, 30]\n",
        "\n",
        "VSL = [0, 0, 0, 7.5] \n",
        "SL  = [7.5-CH[4], 7.5, 7.5, 7.5+CH[5]]\n",
        "MBL = [7.5, 15,15, 22.5] \n",
        "BL  = [22.5-CH[6], 22.5, 22.5, 22.5+CH[7]] \n",
        "VBL = [22.5, 30,30, 30]\n",
        "\n",
        "print ('Output_1')\n",
        "print ('VSR =', VSR)\n",
        "print ('SR =', SR)\n",
        "print ('MBR =', MBR)\n",
        "print ('BR =', BR)\n",
        "print ('VBR =', VBR)\n",
        "\n",
        "print ('Output_2')\n",
        "print ('VSL =', VSL)\n",
        "print ('SL =', SL)\n",
        "print ('MBL =', MBL)\n",
        "print ('BL =', BL)\n",
        "print ('VBL =', VBL)"
      ]
    },
    {
      "cell_type": "code",
      "execution_count": null,
      "metadata": {
        "id": "mIwwg6eE7RS2"
      },
      "outputs": [],
      "source": [
        "# Proposed_GA_FLC Chromosome\n",
        "CH = [2.57475679e+00,  1.53385138e+00,  2.50155673e+00,  1.26455585e+00,\n",
        "  1.87561086e+00,  4.10836493e+00,  1.90347817e+00,  2.33295551e+00,\n",
        "  8.94806436e+00,  7.28401522e+00,  4.50572226e+00,  1.20006983e+00,\n",
        "  2.93901416e-01, -1.46725023e+00,  2.11797444e+00,  1.95222431e+00,\n",
        " -9.29909680e-01,  3.45373481e-02,  3.06832597e+00,  2.18321422e+00,\n",
        "  3.68127553e-01,  1.14914148e+00,  1.32435929e+01,  1.28929720e+01,\n",
        "  4.99362005e+00,  2.57316497e+00,  2.13911148e+00,  1.31089719e+01,\n",
        "  3.42311084e+00,  9.49913114e+00,  1.71017795e+01,  1.12214638e-02,\n",
        "  7.91843487e+00,  1.19429052e+01,  6.32403599e+00,  1.82133740e-02,\n",
        "  8.93647412e+00,  2.36811081e+00,  1.39808695e+01,  3.95936247e+00,\n",
        "  9.41293500e+00,  1.71023131e+01,  2.12693272e-01,  1.47409146e+01\n",
        "]\n",
        "\n",
        "\n"
      ]
    },
    {
      "cell_type": "code",
      "execution_count": null,
      "metadata": {
        "id": "7NqsTyu2lxmf"
      },
      "outputs": [],
      "source": [
        "VC = [0, 0, 0, CH[0]]\n",
        "C =  [CH[2] - CH[1], CH[2], CH[2], CH[2] + CH[3]]\n",
        "M =  [CH[5] - CH[4], CH[5], CH[5], CH[5] + CH[6]]\n",
        "F =  [CH[8] - CH[7], CH[8], CH[8], CH[8] + CH[9]]\n",
        "VF = [10 - CH[10], 10, 10,10]\n",
        " \n",
        "BN = [-3.14, -3.14, -3.14, -3.14 + CH[11]] \n",
        "N = [CH[13] - CH[12], CH[13], CH[13], CH[13] + CH[14]]\n",
        "Z = [CH[16] - CH[15], CH[16], CH[16], CH[16] + CH[17]] \n",
        "P = [CH[19] - CH[18], CH[19], CH[19], CH[19] + CH[20]]\n",
        "BP = [3.14 - CH[21], 3.14, 3.14, 3.14]        \n",
        "\n",
        "VSR = [0, 0, 0, CH[22]] \n",
        "SR = [CH[24] - CH[23], CH[24], CH[24], CH[24] + CH[25]]\n",
        "MBR = [CH[27] - CH[26], CH[27], CH[27], CH[27] + CH[28]] \n",
        "BR = [CH[30] - CH[29], CH[30], CH[30], CH[30] + CH[31]] \n",
        "VBR = [30 - CH[32], 30, 30, 30]\n",
        "    \n",
        "VSL = [0, 0, 0, CH[33]]\n",
        "SL = [CH[35] - CH[34], CH[35], CH[35], CH[35] + CH[36]]\n",
        "MBL = [CH[38] - CH[37], CH[38], CH[38], CH[38] + CH[39]] \n",
        "BL = [CH[41] - CH[40], CH[41], CH[41], CH[41] + CH[42]] \n",
        "VBL = [30 - CH[43], 30, 30, 30]\n",
        "\n"
      ]
    },
    {
      "cell_type": "code",
      "execution_count": null,
      "metadata": {
        "id": "MPfhOrR-ofIK"
      },
      "outputs": [],
      "source": [
        "print ('Input_1')\n",
        "print ('VC =', VC)\n",
        "print ('C =', C)\n",
        "print ('M =', M)\n",
        "print ('F =', F)\n",
        "print ('VF =', VF)\n",
        "\n",
        "print ('Input_2')\n",
        "print ('BN =', BN)\n",
        "print ('N =', N)\n",
        "print ('Z =', Z)\n",
        "print ('P =', P)\n",
        "print ('BP =', BP)\n",
        "\n",
        "print ('Output_1')\n",
        "print ('VSR =', VSR)\n",
        "print ('SR =', SR)\n",
        "print ('MBR =', MBR)\n",
        "print ('BR =', BR)\n",
        "print ('VBR =', VBR)\n",
        "\n",
        "print ('Output_2')\n",
        "print ('VSL =', VSL)\n",
        "print ('SL =', SL)\n",
        "print ('MBL =', MBL)\n",
        "print ('BL =', BL)\n",
        "print ('VBL =', VBL)"
      ]
    },
    {
      "cell_type": "code",
      "execution_count": null,
      "metadata": {
        "id": "jca56SATNiQR"
      },
      "outputs": [],
      "source": [
        "# Expert\n",
        "CH = [1.54148787,  1.92272705,  1.99138378,  1.97808054,  1.66992635,  4.09933048,\n",
        "  1.99993167,  0.85925332,  4.92022555,  0.6976676,   1.00703108,  6.07322869,\n",
        "  1.86667889,  1.32223373,  7.97345152,  1.78766033,  1.71272653,  1.41246747,\n",
        "  1.51107333, -1.57849907,  0.50965017,  0.94598694, -0.70000564,  0.99995144,\n",
        "  0.50055773,  0.09982578,  0.99929163,  0.99983717,  0.70020261,  0.65671013,\n",
        "  0.5136855,  1.59584143,  1.56519105,  1.30182849,  4.00621228,  4.00174974,\n",
        "  5.09961414,  4.00213511,  5.99985402,  9.90007556,  4.00774391,  4.41356477,\n",
        " 14.94202322,  4.01549149,  5.99967973, 19.91559871,  5.99969018,  5.99961217,\n",
        " 24.90025394,  4.00036405,  4.00777788,  5.77311472,  4.70575928,  4.99986804,\n",
        "  4.00067507,  5.99924449,  9.90051312,  4.00067276,  5.70052315, 14.90000556,\n",
        "  4.00314504,  5.99920771, 19.90353512,  5.99902971,  5.25106692, 24.92105317,\n",
        "  4.00445984,  4.58686434]"
      ]
    },
    {
      "cell_type": "code",
      "execution_count": null,
      "metadata": {
        "id": "zzWaUgZaN16Y"
      },
      "outputs": [],
      "source": [
        "VC = [0, 0,0, CH[0]] \n",
        "NC = [CH[2] - CH[1], CH[2], CH[2], CH[2] + CH[3]]\n",
        "C  = [CH[5] - CH[4], CH[5],CH[5], CH[5] + CH[6]]\n",
        "M  = [CH[8] - CH[7], CH[8], CH[8],CH[8] + CH[9]]\n",
        "NF = [CH[11] - CH[10], CH[11],CH[11], CH[11] + CH[12]]\n",
        "F  = [CH[14] - CH[13], CH[14],CH[14],  CH[14] + CH[15]] \n",
        "VF = [10 - CH[16], 10,10, 10]\n",
        "\n",
        "VBN = [-3.14, -3.14,-3.14, -3.14 + CH[17]] \n",
        "BN  = [CH[19] - CH[18], CH[19],CH[19], CH[19] + CH[20]]\n",
        "N   = [CH[22] - CH[21], CH[22],CH[22], CH[22] + CH[23]]\n",
        "Z   = [CH[25] - CH[24], CH[25],CH[25], CH[25] + CH[26]]\n",
        "P   = [CH[28] - CH[27], CH[28],CH[28], CH[28] + CH[29]]\n",
        "BP  = [CH[31] - CH[30], CH[31], CH[31],CH[31] + CH[32]] \n",
        "VBP = [3.14 - CH[33], 3.14,3.14, 3.14]   \n",
        "    \n",
        "VSR  = [0, 0, 0, CH[34]] \n",
        "SR   = [CH[36] - CH[35], CH[36],CH[36], CH[36] + CH[37]]\n",
        "NMBR = [CH[39] - CH[38], CH[39],CH[39], CH[39] + CH[40]] \n",
        "MBR  = [CH[42] - CH[41], CH[42],CH[42], CH[42] + CH[43]]\n",
        "NBR  = [CH[45] - CH[44], CH[45],CH[45], CH[45] + CH[46]]\n",
        "BR   = [CH[48] - CH[47], CH[48], CH[48],CH[48] + CH[49]] \n",
        "VBR  = [30 - CH[50], 30,30, 30]\n",
        "\n",
        "VSL  = [0, 0, 0, CH[51]]\n",
        "SL   = [CH[53] - CH[52], CH[53], CH[53], CH[53] + CH[54]]\n",
        "NMBL = [CH[56] - CH[55], CH[56], CH[56], CH[56] + CH[57]] \n",
        "MBL  = [CH[59] - CH[58], CH[59], CH[59], CH[59] + CH[60]]\n",
        "NBL  = [CH[62] - CH[61], CH[62], CH[62], CH[62] + CH[63]] \n",
        "BL   = [CH[65] - CH[64], CH[65], CH[65], CH[65] + CH[66]]\n",
        "VBL  = [30 - CH[67], 30, 30, 30]"
      ]
    },
    {
      "cell_type": "code",
      "execution_count": null,
      "metadata": {
        "id": "oP6y41yVPfE5"
      },
      "outputs": [],
      "source": [
        "print ('Input_1')\n",
        "print ('VC =', VC)\n",
        "print ('NC =', NC)\n",
        "print ('C =', C)\n",
        "print ('M =', M)\n",
        "print ('NF =', NF)\n",
        "print ('F =', F)\n",
        "print ('VF =', VF)\n",
        "\n",
        "print ('Input_2')\n",
        "print ('VBN =', VBN)\n",
        "print ('BN =', BN)\n",
        "print ('N =', N)\n",
        "print ('Z =', Z)\n",
        "print ('P =', P)\n",
        "print ('BP =', BP)\n",
        "print ('VBP =', VBP)\n",
        "\n",
        "print ('Output_1')\n",
        "print ('VSR =', VSR)\n",
        "print ('SR =', SR)\n",
        "print ('NMBR =', NMBR)\n",
        "print ('MBR =', MBR)\n",
        "print ('NBR =', NBR)\n",
        "print ('BR =', BR)\n",
        "print ('VBR =', VBR)\n",
        "\n",
        "print ('Output_2')\n",
        "print ('VSL =', VSL)\n",
        "print ('SL =', SL)\n",
        "print ('NMBL =', NMBL)\n",
        "print ('MBL =', MBL)\n",
        "print ('NBL =', NBL)\n",
        "print ('BL =', BL)\n",
        "print ('VBL =', VBL)"
      ]
    }
  ],
  "metadata": {
    "colab": {
      "collapsed_sections": [],
      "name": "Dissertation_Pymoo_OptimizationProcess_of_FuzzyLogicController.ipynb",
      "provenance": [],
      "private_outputs": true,
      "toc_visible": true
    },
    "kernelspec": {
      "display_name": "Python 3",
      "language": "python",
      "name": "python3"
    },
    "language_info": {
      "codemirror_mode": {
        "name": "ipython",
        "version": 3
      },
      "file_extension": ".py",
      "mimetype": "text/x-python",
      "name": "python",
      "nbconvert_exporter": "python",
      "pygments_lexer": "ipython3",
      "version": "3.8.6"
    },
    "toc-autonumbering": true
  },
  "nbformat": 4,
  "nbformat_minor": 0
}